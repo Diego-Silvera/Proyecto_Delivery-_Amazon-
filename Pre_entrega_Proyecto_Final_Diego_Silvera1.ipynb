{
  "nbformat": 4,
  "nbformat_minor": 0,
  "metadata": {
    "colab": {
      "provenance": [],
      "authorship_tag": "ABX9TyPMsTJO7chqHLbaT5zQdN7G",
      "include_colab_link": true
    },
    "kernelspec": {
      "name": "python3",
      "display_name": "Python 3"
    },
    "language_info": {
      "name": "python"
    }
  },
  "cells": [
    {
      "cell_type": "markdown",
      "metadata": {
        "id": "view-in-github",
        "colab_type": "text"
      },
      "source": [
        "<a href=\"https://colab.research.google.com/github/Diego-Silvera/-King-County-USA/blob/main/Pre_entrega_Proyecto_Final_Diego_Silvera1.ipynb\" target=\"_parent\"><img src=\"https://colab.research.google.com/assets/colab-badge.svg\" alt=\"Open In Colab\"/></a>"
      ]
    },
    {
      "cell_type": "code",
      "execution_count": null,
      "metadata": {
        "id": "lITQ3YcOs4wJ"
      },
      "outputs": [],
      "source": []
    },
    {
      "cell_type": "markdown",
      "source": [
        "# Introducción\n",
        "El análisis de datos es clave en la logística moderna, especialmente para empresas como Amazon, donde la velocidad y eficiencia son esenciales. Este proyecto explora los datos de entrega de Amazon para identificar patrones y proponer mejoras prácticas. Desde factores como el tráfico y el clima hasta la calificación de los agentes, buscamos entender y optimizar los tiempos de entrega.\n",
        "\n"
      ],
      "metadata": {
        "id": "YqaydddEtBR3"
      }
    },
    {
      "cell_type": "markdown",
      "source": [
        "# Datos Generales\n",
        "El dataset contiene información relevante sobre el proceso de entrega, incluyendo detalles como:\n",
        "\n",
        "1.Datos geográficos: Latitud y longitud de la tienda y el destino.\n",
        "Condiciones externas: Clima y tráfico.\n",
        "Características del agente: Edad y calificación.\n",
        "Tiempos asociados: Fecha y hora del pedido, recogida y entrega.\n",
        "Esta variedad de variables permite explorar tanto aspectos operativos como externos que influyen en la logística de entregas.\n",
        "\n",
        "1. Datos geográficos: Latitud y longitud de la tienda y el destino.\n",
        "2. Condiciones externas: Clima y tráfico..\n",
        "3. Tiempos asociados: Fecha y hora del pedido, recogida y entrega.\n",
        "\n",
        "Esta variedad de variables permite explorar tanto aspectos operativos como externos que influyen en la logística de entregas.\n"
      ],
      "metadata": {
        "id": "uCXJ3tZOx9Ga"
      }
    },
    {
      "cell_type": "markdown",
      "source": [
        "#Hipótesis\n",
        "H1: El tráfico y el clima adverso incrementan significativamente los tiempos de entrega.\n",
        "\n",
        "H2: Agentes con mejores calificaciones tienen tiempos de entrega más rápidos.\n",
        "\n",
        "H3: Las distancias más largas, determinadas por las coordenadas geográficas, aumentan los tiempos de entrega.\n"
      ],
      "metadata": {
        "id": "EagZhjWJzRQB"
      }
    },
    {
      "cell_type": "markdown",
      "source": [
        "# Objetivos\n",
        "1. Realizar un análisis exploratorio para comprender las principales características del dataset.\n",
        "2. Identificar los factores más relevantes que afectan los tiempos de entrega.\n",
        "3. Desarrollar modelos predictivos para estimar el tiempo de entrega.\n",
        "4. Proponer recomendaciones para mejorar la eficiencia logística."
      ],
      "metadata": {
        "id": "uR6lom4iznxa"
      }
    },
    {
      "cell_type": "markdown",
      "source": [],
      "metadata": {
        "id": "ERPRSdCXzuAm"
      }
    },
    {
      "cell_type": "markdown",
      "source": [
        "#Elección del Dataset\n",
        "El dataset de Amazon Delivery fue seleccionado por su riqueza en variables clave para el análisis logístico y su alineación con los objetivos del proyecto.\n",
        "Este conjunto de datos permitirá analizar la relación entre las características del pedido, las condiciones externas y los tiempos de entrega."
      ],
      "metadata": {
        "id": "ZwAgWYcMz3qZ"
      }
    },
    {
      "cell_type": "markdown",
      "source": [],
      "metadata": {
        "id": "qLFQmo-_z7bF"
      }
    },
    {
      "cell_type": "markdown",
      "source": [
        "#Variables y su descripción\n",
        "\n",
        "\n",
        "1.   Edad del Agente (Edad), Categoría: Numérica continua, int (número entero).\n",
        "\n",
        "2.  Calificación del Agente, Categoría: Numérica continua, float (número decimal).\n",
        "\n",
        "3.   Latitud de la Tienda, Categoría: Numérica continua, float (número decimal).\n",
        "\n",
        "4.   Longitud de la Tienda, Categoría: Numérica continua, float (número decimal).\n",
        "\n",
        "5.  Latitud de Entrega, Categoría: Numérica continua, float (número decimal).\n",
        "\n",
        "6.  Longitud de Entrega, Categoría: Numérica continua, float (número decimal).\n",
        "\n",
        "7.  Fecha del Pedido, Categoría: Temporal, datetime (formato de fecha).\n",
        "8.  Hora del Pedido, Categoría: Temporal, datetime.time (hora específica).\n",
        "\n",
        "9.  Hora de Recogida, Categoría: Temporal, datetime.time (hora específica).\n",
        "\n",
        "10.  Clima, Categoría: Categórica, str (cadena de texto).\n",
        "\n",
        "11.  Tráfico, Categoría: Categórica, str (cadena de texto).\n",
        "\n",
        "12.  Vehículo, Categoría: Categórica, str (cadena de texto).\n",
        "\n",
        "13.  Área, Categoría: Categórica, str (cadena de texto).\n",
        "\n",
        "14.  Tiempo de Entrega, Categoría: Numérica continua, int (número entero).\n",
        "\n",
        "15.  Categoría, Categoría: Categórica, str (cadena de texto).\n",
        "\n",
        "\n"
      ],
      "metadata": {
        "id": "7erUFP6U1dw5"
      }
    },
    {
      "cell_type": "markdown",
      "source": [
        "# Elección del Dataset\n",
        "El dataset fue seleccionado por su riqueza en variables relevantes, como datos geográficos, condiciones externas y características del agente, permitiendo un análisis integral del proceso de entrega."
      ],
      "metadata": {
        "id": "MEKZPCEr3e2r"
      }
    },
    {
      "cell_type": "markdown",
      "source": [
        "# Importación de bibliotecas necesarias\n"
      ],
      "metadata": {
        "id": "ISWZFthj35JG"
      }
    },
    {
      "cell_type": "code",
      "source": [
        "# Importación de bibliotecas necesarias\n",
        "import pandas as pd\n",
        "import numpy as np\n",
        "import matplotlib.pyplot as plt\n",
        "import seaborn as sns"
      ],
      "metadata": {
        "id": "Kaezf7by4C13"
      },
      "execution_count": 1,
      "outputs": []
    },
    {
      "cell_type": "code",
      "source": [
        "# Lectura del dataset\n",
        "file_path = 'ruta/dataset_amazon.csv'  # Reemplazar con la ruta correcta del dataset\n",
        "df = pd.read_csv(file_path)\n",
        "\n",
        "# Mostrar las primeras filas del dataset\n",
        "df.head()"
      ],
      "metadata": {
        "id": "40gG52S14i9x"
      },
      "execution_count": null,
      "outputs": []
    }
  ]
}