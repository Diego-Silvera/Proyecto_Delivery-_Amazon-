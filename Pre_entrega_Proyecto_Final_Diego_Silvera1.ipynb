{
  "nbformat": 4,
  "nbformat_minor": 0,
  "metadata": {
    "colab": {
      "provenance": [],
      "authorship_tag": "ABX9TyODir+CKLi4lhi68vVWPK+t",
      "include_colab_link": true
    },
    "kernelspec": {
      "name": "python3",
      "display_name": "Python 3"
    },
    "language_info": {
      "name": "python"
    }
  },
  "cells": [
    {
      "cell_type": "markdown",
      "metadata": {
        "id": "view-in-github",
        "colab_type": "text"
      },
      "source": [
        "<a href=\"https://colab.research.google.com/github/Diego-Silvera/Proyecto_Delivery-_Amazon-/blob/main/Pre_entrega_Proyecto_Final_Diego_Silvera1.ipynb\" target=\"_parent\"><img src=\"https://colab.research.google.com/assets/colab-badge.svg\" alt=\"Open In Colab\"/></a>"
      ]
    },
    {
      "cell_type": "markdown",
      "source": [
        "# Introducción\n",
        "El análisis de datos es clave en la logística moderna, especialmente para empresas como Amazon, donde la velocidad y eficiencia son esenciales. Este proyecto explora los datos de entrega de Amazon para identificar patrones y proponer mejoras prácticas. Desde factores como el tráfico y el clima hasta la calificación de los agentes, buscamos entender y optimizar los tiempos de entrega.\n",
        "\n"
      ],
      "metadata": {
        "id": "YqaydddEtBR3"
      }
    },
    {
      "cell_type": "markdown",
      "source": [
        "# Datos Generales\n",
        "El dataset contiene información relevante sobre el proceso de entrega, incluyendo detalles como:\n",
        "\n",
        "1.Datos geográficos: Latitud y longitud de la tienda y el destino.\n",
        "Condiciones externas: Clima y tráfico.\n",
        "Características del agente: Edad y calificación.\n",
        "Tiempos asociados: Fecha y hora del pedido, recogida y entrega.\n",
        "Esta variedad de variables permite explorar tanto aspectos operativos como externos que influyen en la logística de entregas.\n",
        "\n",
        "1. Datos geográficos: Latitud y longitud de la tienda y el destino.\n",
        "2. Condiciones externas: Clima y tráfico..\n",
        "3. Tiempos asociados: Fecha y hora del pedido, recogida y entrega.\n",
        "\n",
        "Esta variedad de variables permite explorar tanto aspectos operativos como externos que influyen en la logística de entregas.\n"
      ],
      "metadata": {
        "id": "uCXJ3tZOx9Ga"
      }
    },
    {
      "cell_type": "markdown",
      "source": [
        "#Hipótesis\n",
        "H1: El tráfico y el clima adverso incrementan significativamente los tiempos de entrega.\n",
        "\n",
        "H2: Agentes con mejores calificaciones tienen tiempos de entrega más rápidos.\n",
        "\n",
        "H3: Las distancias más largas, determinadas por las coordenadas geográficas, aumentan los tiempos de entrega.\n"
      ],
      "metadata": {
        "id": "EagZhjWJzRQB"
      }
    },
    {
      "cell_type": "markdown",
      "source": [
        "# Objetivos\n",
        "1. Realizar un análisis exploratorio para comprender las principales características del dataset.\n",
        "2. Identificar los factores más relevantes que afectan los tiempos de entrega.\n",
        "3. Desarrollar modelos predictivos para estimar el tiempo de entrega.\n",
        "4. Proponer recomendaciones para mejorar la eficiencia logística."
      ],
      "metadata": {
        "id": "uR6lom4iznxa"
      }
    },
    {
      "cell_type": "markdown",
      "source": [],
      "metadata": {
        "id": "ERPRSdCXzuAm"
      }
    },
    {
      "cell_type": "markdown",
      "source": [
        "#Elección del Dataset\n",
        "El dataset de Amazon Delivery fue seleccionado por su riqueza en variables clave para el análisis logístico y su alineación con los objetivos del proyecto.\n",
        "Este conjunto de datos permitirá analizar la relación entre las características del pedido, las condiciones externas y los tiempos de entrega."
      ],
      "metadata": {
        "id": "ZwAgWYcMz3qZ"
      }
    },
    {
      "cell_type": "markdown",
      "source": [],
      "metadata": {
        "id": "qLFQmo-_z7bF"
      }
    },
    {
      "cell_type": "markdown",
      "source": [
        "#Variables y su descripción\n",
        "\n",
        "\n",
        "1.   Edad del Agente (Edad), Categoría: Numérica continua, int (número entero).\n",
        "\n",
        "2.  Calificación del Agente, Categoría: Numérica continua, float (número decimal).\n",
        "\n",
        "3.   Latitud de la Tienda, Categoría: Numérica continua, float (número decimal).\n",
        "\n",
        "4.   Longitud de la Tienda, Categoría: Numérica continua, float (número decimal).\n",
        "\n",
        "5.  Latitud de Entrega, Categoría: Numérica continua, float (número decimal).\n",
        "\n",
        "6.  Longitud de Entrega, Categoría: Numérica continua, float (número decimal).\n",
        "\n",
        "7.  Fecha del Pedido, Categoría: Temporal, datetime (formato de fecha).\n",
        "8.  Hora del Pedido, Categoría: Temporal, datetime.time (hora específica).\n",
        "\n",
        "9.  Hora de Recogida, Categoría: Temporal, datetime.time (hora específica).\n",
        "\n",
        "10.  Clima, Categoría: Categórica, str (cadena de texto).\n",
        "\n",
        "11.  Tráfico, Categoría: Categórica, str (cadena de texto).\n",
        "\n",
        "12.  Vehículo, Categoría: Categórica, str (cadena de texto).\n",
        "\n",
        "13.  Área, Categoría: Categórica, str (cadena de texto).\n",
        "\n",
        "14.  Tiempo de Entrega, Categoría: Numérica continua, int (número entero).\n",
        "\n",
        "15.  Categoría, Categoría: Categórica, str (cadena de texto).\n",
        "\n",
        "\n"
      ],
      "metadata": {
        "id": "7erUFP6U1dw5"
      }
    },
    {
      "cell_type": "markdown",
      "source": [
        "# Elección del Dataset\n",
        "El dataset fue seleccionado por su riqueza en variables relevantes, como datos geográficos, condiciones externas y características del agente, permitiendo un análisis integral del proceso de entrega."
      ],
      "metadata": {
        "id": "MEKZPCEr3e2r"
      }
    },
    {
      "cell_type": "markdown",
      "source": [
        "# Importación de bibliotecas necesarias  222\n"
      ],
      "metadata": {
        "id": "ISWZFthj35JG"
      }
    },
    {
      "cell_type": "code",
      "source": [
        "# Importación de bibliotecas necesarias\n",
        "import pandas as pd\n",
        "import numpy as np\n",
        "import matplotlib.pyplot as plt\n",
        "import seaborn as sns\n",
        "from sklearn.model_selection import train_test_split\n",
        "from sklearn.ensemble import RandomForestRegressor\n",
        "from sklearn.metrics import mean_squared_error\n",
        "from geopy.distance import geodesic  # Para calcular distancias geográficas\n",
        "\n",
        "\n"
      ],
      "metadata": {
        "id": "Kaezf7by4C13"
      },
      "execution_count": 79,
      "outputs": []
    },
    {
      "cell_type": "code",
      "source": [
        "# Lectura del dataset\n",
        "url = 'https://raw.githubusercontent.com/Diego-Silvera/Proyecto_Delivery-_Amazon-/refs/heads/main/amazon_delivery.csv'  # Reemplazar con la ruta correcta del dataset\n",
        "df = pd.read_csv(url, sep=',', header=None)\n",
        "\n",
        "# Mostrar las primeras filas del dataset\n",
        "df.head()"
      ],
      "metadata": {
        "colab": {
          "base_uri": "https://localhost:8080/",
          "height": 242
        },
        "id": "40gG52S14i9x",
        "outputId": "49672d39-6af8-4a9b-80cc-2ca1584325ca"
      },
      "execution_count": 3,
      "outputs": [
        {
          "output_type": "stream",
          "name": "stderr",
          "text": [
            "<ipython-input-3-de8aab2d20f1>:3: DtypeWarning: Columns (1,2,3,4,5,6,14) have mixed types. Specify dtype option on import or set low_memory=False.\n",
            "  df = pd.read_csv(url, sep=',', header=None)\n"
          ]
        },
        {
          "output_type": "execute_result",
          "data": {
            "text/plain": [
              "              0          1             2               3                4   \\\n",
              "0       Order_ID  Agent_Age  Agent_Rating  Store_Latitude  Store_Longitude   \n",
              "1  ialx566343618         37           4.9       22.745049        75.892471   \n",
              "2  akqg208421122         34           4.5       12.913041        77.683237   \n",
              "3  njpu434582536         23           4.4       12.914264          77.6784   \n",
              "4  rjto796129700         38           4.7       11.003669        76.976494   \n",
              "\n",
              "              5               6           7           8            9   \\\n",
              "0  Drop_Latitude  Drop_Longitude  Order_Date  Order_Time  Pickup_Time   \n",
              "1      22.765049       75.912471  2022-03-19    11:30:00     11:45:00   \n",
              "2      13.043041       77.813237  2022-03-25    19:45:00     19:50:00   \n",
              "3      12.924264         77.6884  2022-03-19    08:30:00     08:45:00   \n",
              "4      11.053669       77.026494  2022-04-05    18:00:00     18:10:00   \n",
              "\n",
              "           10       11           12              13             14  \\\n",
              "0     Weather  Traffic      Vehicle            Area  Delivery_Time   \n",
              "1       Sunny    High   motorcycle           Urban             120   \n",
              "2      Stormy     Jam      scooter   Metropolitian             165   \n",
              "3  Sandstorms     Low   motorcycle           Urban             130   \n",
              "4       Sunny  Medium   motorcycle   Metropolitian             105   \n",
              "\n",
              "            15  \n",
              "0     Category  \n",
              "1     Clothing  \n",
              "2  Electronics  \n",
              "3       Sports  \n",
              "4    Cosmetics  "
            ],
            "text/html": [
              "\n",
              "  <div id=\"df-16582779-e8df-4eba-9105-52a27b30e6af\" class=\"colab-df-container\">\n",
              "    <div>\n",
              "<style scoped>\n",
              "    .dataframe tbody tr th:only-of-type {\n",
              "        vertical-align: middle;\n",
              "    }\n",
              "\n",
              "    .dataframe tbody tr th {\n",
              "        vertical-align: top;\n",
              "    }\n",
              "\n",
              "    .dataframe thead th {\n",
              "        text-align: right;\n",
              "    }\n",
              "</style>\n",
              "<table border=\"1\" class=\"dataframe\">\n",
              "  <thead>\n",
              "    <tr style=\"text-align: right;\">\n",
              "      <th></th>\n",
              "      <th>0</th>\n",
              "      <th>1</th>\n",
              "      <th>2</th>\n",
              "      <th>3</th>\n",
              "      <th>4</th>\n",
              "      <th>5</th>\n",
              "      <th>6</th>\n",
              "      <th>7</th>\n",
              "      <th>8</th>\n",
              "      <th>9</th>\n",
              "      <th>10</th>\n",
              "      <th>11</th>\n",
              "      <th>12</th>\n",
              "      <th>13</th>\n",
              "      <th>14</th>\n",
              "      <th>15</th>\n",
              "    </tr>\n",
              "  </thead>\n",
              "  <tbody>\n",
              "    <tr>\n",
              "      <th>0</th>\n",
              "      <td>Order_ID</td>\n",
              "      <td>Agent_Age</td>\n",
              "      <td>Agent_Rating</td>\n",
              "      <td>Store_Latitude</td>\n",
              "      <td>Store_Longitude</td>\n",
              "      <td>Drop_Latitude</td>\n",
              "      <td>Drop_Longitude</td>\n",
              "      <td>Order_Date</td>\n",
              "      <td>Order_Time</td>\n",
              "      <td>Pickup_Time</td>\n",
              "      <td>Weather</td>\n",
              "      <td>Traffic</td>\n",
              "      <td>Vehicle</td>\n",
              "      <td>Area</td>\n",
              "      <td>Delivery_Time</td>\n",
              "      <td>Category</td>\n",
              "    </tr>\n",
              "    <tr>\n",
              "      <th>1</th>\n",
              "      <td>ialx566343618</td>\n",
              "      <td>37</td>\n",
              "      <td>4.9</td>\n",
              "      <td>22.745049</td>\n",
              "      <td>75.892471</td>\n",
              "      <td>22.765049</td>\n",
              "      <td>75.912471</td>\n",
              "      <td>2022-03-19</td>\n",
              "      <td>11:30:00</td>\n",
              "      <td>11:45:00</td>\n",
              "      <td>Sunny</td>\n",
              "      <td>High</td>\n",
              "      <td>motorcycle</td>\n",
              "      <td>Urban</td>\n",
              "      <td>120</td>\n",
              "      <td>Clothing</td>\n",
              "    </tr>\n",
              "    <tr>\n",
              "      <th>2</th>\n",
              "      <td>akqg208421122</td>\n",
              "      <td>34</td>\n",
              "      <td>4.5</td>\n",
              "      <td>12.913041</td>\n",
              "      <td>77.683237</td>\n",
              "      <td>13.043041</td>\n",
              "      <td>77.813237</td>\n",
              "      <td>2022-03-25</td>\n",
              "      <td>19:45:00</td>\n",
              "      <td>19:50:00</td>\n",
              "      <td>Stormy</td>\n",
              "      <td>Jam</td>\n",
              "      <td>scooter</td>\n",
              "      <td>Metropolitian</td>\n",
              "      <td>165</td>\n",
              "      <td>Electronics</td>\n",
              "    </tr>\n",
              "    <tr>\n",
              "      <th>3</th>\n",
              "      <td>njpu434582536</td>\n",
              "      <td>23</td>\n",
              "      <td>4.4</td>\n",
              "      <td>12.914264</td>\n",
              "      <td>77.6784</td>\n",
              "      <td>12.924264</td>\n",
              "      <td>77.6884</td>\n",
              "      <td>2022-03-19</td>\n",
              "      <td>08:30:00</td>\n",
              "      <td>08:45:00</td>\n",
              "      <td>Sandstorms</td>\n",
              "      <td>Low</td>\n",
              "      <td>motorcycle</td>\n",
              "      <td>Urban</td>\n",
              "      <td>130</td>\n",
              "      <td>Sports</td>\n",
              "    </tr>\n",
              "    <tr>\n",
              "      <th>4</th>\n",
              "      <td>rjto796129700</td>\n",
              "      <td>38</td>\n",
              "      <td>4.7</td>\n",
              "      <td>11.003669</td>\n",
              "      <td>76.976494</td>\n",
              "      <td>11.053669</td>\n",
              "      <td>77.026494</td>\n",
              "      <td>2022-04-05</td>\n",
              "      <td>18:00:00</td>\n",
              "      <td>18:10:00</td>\n",
              "      <td>Sunny</td>\n",
              "      <td>Medium</td>\n",
              "      <td>motorcycle</td>\n",
              "      <td>Metropolitian</td>\n",
              "      <td>105</td>\n",
              "      <td>Cosmetics</td>\n",
              "    </tr>\n",
              "  </tbody>\n",
              "</table>\n",
              "</div>\n",
              "    <div class=\"colab-df-buttons\">\n",
              "\n",
              "  <div class=\"colab-df-container\">\n",
              "    <button class=\"colab-df-convert\" onclick=\"convertToInteractive('df-16582779-e8df-4eba-9105-52a27b30e6af')\"\n",
              "            title=\"Convert this dataframe to an interactive table.\"\n",
              "            style=\"display:none;\">\n",
              "\n",
              "  <svg xmlns=\"http://www.w3.org/2000/svg\" height=\"24px\" viewBox=\"0 -960 960 960\">\n",
              "    <path d=\"M120-120v-720h720v720H120Zm60-500h600v-160H180v160Zm220 220h160v-160H400v160Zm0 220h160v-160H400v160ZM180-400h160v-160H180v160Zm440 0h160v-160H620v160ZM180-180h160v-160H180v160Zm440 0h160v-160H620v160Z\"/>\n",
              "  </svg>\n",
              "    </button>\n",
              "\n",
              "  <style>\n",
              "    .colab-df-container {\n",
              "      display:flex;\n",
              "      gap: 12px;\n",
              "    }\n",
              "\n",
              "    .colab-df-convert {\n",
              "      background-color: #E8F0FE;\n",
              "      border: none;\n",
              "      border-radius: 50%;\n",
              "      cursor: pointer;\n",
              "      display: none;\n",
              "      fill: #1967D2;\n",
              "      height: 32px;\n",
              "      padding: 0 0 0 0;\n",
              "      width: 32px;\n",
              "    }\n",
              "\n",
              "    .colab-df-convert:hover {\n",
              "      background-color: #E2EBFA;\n",
              "      box-shadow: 0px 1px 2px rgba(60, 64, 67, 0.3), 0px 1px 3px 1px rgba(60, 64, 67, 0.15);\n",
              "      fill: #174EA6;\n",
              "    }\n",
              "\n",
              "    .colab-df-buttons div {\n",
              "      margin-bottom: 4px;\n",
              "    }\n",
              "\n",
              "    [theme=dark] .colab-df-convert {\n",
              "      background-color: #3B4455;\n",
              "      fill: #D2E3FC;\n",
              "    }\n",
              "\n",
              "    [theme=dark] .colab-df-convert:hover {\n",
              "      background-color: #434B5C;\n",
              "      box-shadow: 0px 1px 3px 1px rgba(0, 0, 0, 0.15);\n",
              "      filter: drop-shadow(0px 1px 2px rgba(0, 0, 0, 0.3));\n",
              "      fill: #FFFFFF;\n",
              "    }\n",
              "  </style>\n",
              "\n",
              "    <script>\n",
              "      const buttonEl =\n",
              "        document.querySelector('#df-16582779-e8df-4eba-9105-52a27b30e6af button.colab-df-convert');\n",
              "      buttonEl.style.display =\n",
              "        google.colab.kernel.accessAllowed ? 'block' : 'none';\n",
              "\n",
              "      async function convertToInteractive(key) {\n",
              "        const element = document.querySelector('#df-16582779-e8df-4eba-9105-52a27b30e6af');\n",
              "        const dataTable =\n",
              "          await google.colab.kernel.invokeFunction('convertToInteractive',\n",
              "                                                    [key], {});\n",
              "        if (!dataTable) return;\n",
              "\n",
              "        const docLinkHtml = 'Like what you see? Visit the ' +\n",
              "          '<a target=\"_blank\" href=https://colab.research.google.com/notebooks/data_table.ipynb>data table notebook</a>'\n",
              "          + ' to learn more about interactive tables.';\n",
              "        element.innerHTML = '';\n",
              "        dataTable['output_type'] = 'display_data';\n",
              "        await google.colab.output.renderOutput(dataTable, element);\n",
              "        const docLink = document.createElement('div');\n",
              "        docLink.innerHTML = docLinkHtml;\n",
              "        element.appendChild(docLink);\n",
              "      }\n",
              "    </script>\n",
              "  </div>\n",
              "\n",
              "\n",
              "<div id=\"df-9583f2a3-1ec3-484e-bd52-5f57d6008e3c\">\n",
              "  <button class=\"colab-df-quickchart\" onclick=\"quickchart('df-9583f2a3-1ec3-484e-bd52-5f57d6008e3c')\"\n",
              "            title=\"Suggest charts\"\n",
              "            style=\"display:none;\">\n",
              "\n",
              "<svg xmlns=\"http://www.w3.org/2000/svg\" height=\"24px\"viewBox=\"0 0 24 24\"\n",
              "     width=\"24px\">\n",
              "    <g>\n",
              "        <path d=\"M19 3H5c-1.1 0-2 .9-2 2v14c0 1.1.9 2 2 2h14c1.1 0 2-.9 2-2V5c0-1.1-.9-2-2-2zM9 17H7v-7h2v7zm4 0h-2V7h2v10zm4 0h-2v-4h2v4z\"/>\n",
              "    </g>\n",
              "</svg>\n",
              "  </button>\n",
              "\n",
              "<style>\n",
              "  .colab-df-quickchart {\n",
              "      --bg-color: #E8F0FE;\n",
              "      --fill-color: #1967D2;\n",
              "      --hover-bg-color: #E2EBFA;\n",
              "      --hover-fill-color: #174EA6;\n",
              "      --disabled-fill-color: #AAA;\n",
              "      --disabled-bg-color: #DDD;\n",
              "  }\n",
              "\n",
              "  [theme=dark] .colab-df-quickchart {\n",
              "      --bg-color: #3B4455;\n",
              "      --fill-color: #D2E3FC;\n",
              "      --hover-bg-color: #434B5C;\n",
              "      --hover-fill-color: #FFFFFF;\n",
              "      --disabled-bg-color: #3B4455;\n",
              "      --disabled-fill-color: #666;\n",
              "  }\n",
              "\n",
              "  .colab-df-quickchart {\n",
              "    background-color: var(--bg-color);\n",
              "    border: none;\n",
              "    border-radius: 50%;\n",
              "    cursor: pointer;\n",
              "    display: none;\n",
              "    fill: var(--fill-color);\n",
              "    height: 32px;\n",
              "    padding: 0;\n",
              "    width: 32px;\n",
              "  }\n",
              "\n",
              "  .colab-df-quickchart:hover {\n",
              "    background-color: var(--hover-bg-color);\n",
              "    box-shadow: 0 1px 2px rgba(60, 64, 67, 0.3), 0 1px 3px 1px rgba(60, 64, 67, 0.15);\n",
              "    fill: var(--button-hover-fill-color);\n",
              "  }\n",
              "\n",
              "  .colab-df-quickchart-complete:disabled,\n",
              "  .colab-df-quickchart-complete:disabled:hover {\n",
              "    background-color: var(--disabled-bg-color);\n",
              "    fill: var(--disabled-fill-color);\n",
              "    box-shadow: none;\n",
              "  }\n",
              "\n",
              "  .colab-df-spinner {\n",
              "    border: 2px solid var(--fill-color);\n",
              "    border-color: transparent;\n",
              "    border-bottom-color: var(--fill-color);\n",
              "    animation:\n",
              "      spin 1s steps(1) infinite;\n",
              "  }\n",
              "\n",
              "  @keyframes spin {\n",
              "    0% {\n",
              "      border-color: transparent;\n",
              "      border-bottom-color: var(--fill-color);\n",
              "      border-left-color: var(--fill-color);\n",
              "    }\n",
              "    20% {\n",
              "      border-color: transparent;\n",
              "      border-left-color: var(--fill-color);\n",
              "      border-top-color: var(--fill-color);\n",
              "    }\n",
              "    30% {\n",
              "      border-color: transparent;\n",
              "      border-left-color: var(--fill-color);\n",
              "      border-top-color: var(--fill-color);\n",
              "      border-right-color: var(--fill-color);\n",
              "    }\n",
              "    40% {\n",
              "      border-color: transparent;\n",
              "      border-right-color: var(--fill-color);\n",
              "      border-top-color: var(--fill-color);\n",
              "    }\n",
              "    60% {\n",
              "      border-color: transparent;\n",
              "      border-right-color: var(--fill-color);\n",
              "    }\n",
              "    80% {\n",
              "      border-color: transparent;\n",
              "      border-right-color: var(--fill-color);\n",
              "      border-bottom-color: var(--fill-color);\n",
              "    }\n",
              "    90% {\n",
              "      border-color: transparent;\n",
              "      border-bottom-color: var(--fill-color);\n",
              "    }\n",
              "  }\n",
              "</style>\n",
              "\n",
              "  <script>\n",
              "    async function quickchart(key) {\n",
              "      const quickchartButtonEl =\n",
              "        document.querySelector('#' + key + ' button');\n",
              "      quickchartButtonEl.disabled = true;  // To prevent multiple clicks.\n",
              "      quickchartButtonEl.classList.add('colab-df-spinner');\n",
              "      try {\n",
              "        const charts = await google.colab.kernel.invokeFunction(\n",
              "            'suggestCharts', [key], {});\n",
              "      } catch (error) {\n",
              "        console.error('Error during call to suggestCharts:', error);\n",
              "      }\n",
              "      quickchartButtonEl.classList.remove('colab-df-spinner');\n",
              "      quickchartButtonEl.classList.add('colab-df-quickchart-complete');\n",
              "    }\n",
              "    (() => {\n",
              "      let quickchartButtonEl =\n",
              "        document.querySelector('#df-9583f2a3-1ec3-484e-bd52-5f57d6008e3c button');\n",
              "      quickchartButtonEl.style.display =\n",
              "        google.colab.kernel.accessAllowed ? 'block' : 'none';\n",
              "    })();\n",
              "  </script>\n",
              "</div>\n",
              "\n",
              "    </div>\n",
              "  </div>\n"
            ],
            "application/vnd.google.colaboratory.intrinsic+json": {
              "type": "dataframe",
              "variable_name": "df",
              "summary": "{\n  \"name\": \"df\",\n  \"rows\": 43740,\n  \"fields\": [\n    {\n      \"column\": 0,\n      \"properties\": {\n        \"dtype\": \"string\",\n        \"num_unique_values\": 43740,\n        \"samples\": [\n          \"ioqs144419986\",\n          \"fvml427733005\",\n          \"xpti888373807\"\n        ],\n        \"semantic_type\": \"\",\n        \"description\": \"\"\n      }\n    },\n    {\n      \"column\": 1,\n      \"properties\": {\n        \"dtype\": \"category\",\n        \"num_unique_values\": 45,\n        \"samples\": [\n          39,\n          22,\n          29\n        ],\n        \"semantic_type\": \"\",\n        \"description\": \"\"\n      }\n    },\n    {\n      \"column\": 2,\n      \"properties\": {\n        \"dtype\": \"category\",\n        \"num_unique_values\": 57,\n        \"samples\": [\n          \"Agent_Rating\",\n          \"4.6\",\n          4.9\n        ],\n        \"semantic_type\": \"\",\n        \"description\": \"\"\n      }\n    },\n    {\n      \"column\": 3,\n      \"properties\": {\n        \"dtype\": \"category\",\n        \"num_unique_values\": 928,\n        \"samples\": [\n          26.913726,\n          18.56245,\n          \"21.160437\"\n        ],\n        \"semantic_type\": \"\",\n        \"description\": \"\"\n      }\n    },\n    {\n      \"column\": 4,\n      \"properties\": {\n        \"dtype\": \"category\",\n        \"num_unique_values\": 805,\n        \"samples\": [\n          \"75.887522\",\n          88.36783,\n          \"72.778059\"\n        ],\n        \"semantic_type\": \"\",\n        \"description\": \"\"\n      }\n    },\n    {\n      \"column\": 5,\n      \"properties\": {\n        \"dtype\": \"category\",\n        \"num_unique_values\": 7855,\n        \"samples\": [\n          26.614133,\n          \"15.62155\",\n          13.088616\n        ],\n        \"semantic_type\": \"\",\n        \"description\": \"\"\n      }\n    },\n    {\n      \"column\": 6,\n      \"properties\": {\n        \"dtype\": \"category\",\n        \"num_unique_values\": 7855,\n        \"samples\": [\n          80.4881,\n          \"73.809092\",\n          80.294151\n        ],\n        \"semantic_type\": \"\",\n        \"description\": \"\"\n      }\n    },\n    {\n      \"column\": 7,\n      \"properties\": {\n        \"dtype\": \"category\",\n        \"num_unique_values\": 45,\n        \"samples\": [\n          \"2022-02-18\",\n          \"2022-03-28\",\n          \"2022-03-18\"\n        ],\n        \"semantic_type\": \"\",\n        \"description\": \"\"\n      }\n    },\n    {\n      \"column\": 8,\n      \"properties\": {\n        \"dtype\": \"category\",\n        \"num_unique_values\": 178,\n        \"samples\": [\n          \"20:20:00\",\n          \"22:10:00\",\n          \"17:40:00\"\n        ],\n        \"semantic_type\": \"\",\n        \"description\": \"\"\n      }\n    },\n    {\n      \"column\": 9,\n      \"properties\": {\n        \"dtype\": \"category\",\n        \"num_unique_values\": 194,\n        \"samples\": [\n          \"19:35:00\",\n          \"15:10:00\",\n          \"08:35:00\"\n        ],\n        \"semantic_type\": \"\",\n        \"description\": \"\"\n      }\n    },\n    {\n      \"column\": 10,\n      \"properties\": {\n        \"dtype\": \"category\",\n        \"num_unique_values\": 7,\n        \"samples\": [\n          \"Weather\",\n          \"Sunny\",\n          \"Fog\"\n        ],\n        \"semantic_type\": \"\",\n        \"description\": \"\"\n      }\n    },\n    {\n      \"column\": 11,\n      \"properties\": {\n        \"dtype\": \"category\",\n        \"num_unique_values\": 6,\n        \"samples\": [\n          \"Traffic\",\n          \"High \",\n          \"NaN \"\n        ],\n        \"semantic_type\": \"\",\n        \"description\": \"\"\n      }\n    },\n    {\n      \"column\": 12,\n      \"properties\": {\n        \"dtype\": \"category\",\n        \"num_unique_values\": 5,\n        \"samples\": [\n          \"motorcycle \",\n          \"bicycle \",\n          \"scooter \"\n        ],\n        \"semantic_type\": \"\",\n        \"description\": \"\"\n      }\n    },\n    {\n      \"column\": 13,\n      \"properties\": {\n        \"dtype\": \"category\",\n        \"num_unique_values\": 5,\n        \"samples\": [\n          \"Urban \",\n          \"Other\",\n          \"Metropolitian \"\n        ],\n        \"semantic_type\": \"\",\n        \"description\": \"\"\n      }\n    },\n    {\n      \"column\": 14,\n      \"properties\": {\n        \"dtype\": \"category\",\n        \"num_unique_values\": 178,\n        \"samples\": [\n          \"235\",\n          \"240\",\n          30\n        ],\n        \"semantic_type\": \"\",\n        \"description\": \"\"\n      }\n    },\n    {\n      \"column\": 15,\n      \"properties\": {\n        \"dtype\": \"category\",\n        \"num_unique_values\": 17,\n        \"samples\": [\n          \"Category\",\n          \"Clothing\",\n          \"Toys\"\n        ],\n        \"semantic_type\": \"\",\n        \"description\": \"\"\n      }\n    }\n  ]\n}"
            }
          },
          "metadata": {},
          "execution_count": 3
        }
      ]
    },
    {
      "cell_type": "code",
      "source": [
        "df.info()"
      ],
      "metadata": {
        "colab": {
          "base_uri": "https://localhost:8080/"
        },
        "id": "uVAFD8cyuVxr",
        "outputId": "777e6193-4285-4dfe-f8b3-bfdbe861b3f9"
      },
      "execution_count": 4,
      "outputs": [
        {
          "output_type": "stream",
          "name": "stdout",
          "text": [
            "<class 'pandas.core.frame.DataFrame'>\n",
            "RangeIndex: 43740 entries, 0 to 43739\n",
            "Data columns (total 16 columns):\n",
            " #   Column  Non-Null Count  Dtype \n",
            "---  ------  --------------  ----- \n",
            " 0   0       43740 non-null  object\n",
            " 1   1       43740 non-null  object\n",
            " 2   2       43686 non-null  object\n",
            " 3   3       43740 non-null  object\n",
            " 4   4       43740 non-null  object\n",
            " 5   5       43740 non-null  object\n",
            " 6   6       43740 non-null  object\n",
            " 7   7       43740 non-null  object\n",
            " 8   8       43740 non-null  object\n",
            " 9   9       43740 non-null  object\n",
            " 10  10      43649 non-null  object\n",
            " 11  11      43740 non-null  object\n",
            " 12  12      43740 non-null  object\n",
            " 13  13      43740 non-null  object\n",
            " 14  14      43740 non-null  object\n",
            " 15  15      43740 non-null  object\n",
            "dtypes: object(16)\n",
            "memory usage: 5.3+ MB\n"
          ]
        }
      ]
    },
    {
      "cell_type": "code",
      "source": [
        "df.shape"
      ],
      "metadata": {
        "colab": {
          "base_uri": "https://localhost:8080/"
        },
        "id": "0HFL2QxIujZC",
        "outputId": "d7c5ba31-a791-4116-d9aa-de5815501db9"
      },
      "execution_count": 5,
      "outputs": [
        {
          "output_type": "execute_result",
          "data": {
            "text/plain": [
              "(43740, 16)"
            ]
          },
          "metadata": {},
          "execution_count": 5
        }
      ]
    },
    {
      "cell_type": "markdown",
      "source": [
        "#Lista de Variables\n",
        "       \n",
        "0. Orden_ID - ID_Orden\n",
        "1.   Agent_Age - Edad del Agente\n",
        "2.   Agent_Rating -Clasificación del Agente\n",
        "3.   Store_Latitude - Latitud de la Tienda\n",
        "4. Store_Longitude - Longitud de la Tienda\n",
        "5. Drop_Latitude - Latitud de la Entrada\n",
        "6. Drop_Longitude - Longitud de la Entrada\n",
        "7. Order_Date - Fecha del Pedido\n",
        "8. Order_Time - Hora del Pedido\n",
        "9. Pickup_Time - Hora de Recogida\n",
        "10. Weather - Clima\n",
        "11. Traffic - Trafico\n",
        "12. Vehicle - Vehículo\n",
        "13. Area - Área\n",
        "14. Delivery_Time - Tiempo de Entrega\n",
        "15. Category - Categoría"
      ],
      "metadata": {
        "id": "89VOTMhWvl6y"
      }
    },
    {
      "cell_type": "markdown",
      "source": [
        "La Variable ID_Orden esta compuesta por Letras y Números, puede entenderse como erronea. Para mejorar eso vamos a crear una columna  Autonumerica."
      ],
      "metadata": {
        "id": "8OehA50dzxxb"
      }
    },
    {
      "cell_type": "code",
      "source": [
        "# Asignar valores autonuméricos a la columna 'Order_ID'\n",
        "df['Order_ID'] = range(1, len(df) + 1)\n",
        "print(df)"
      ],
      "metadata": {
        "colab": {
          "base_uri": "https://localhost:8080/"
        },
        "id": "qz0dCO3110HH",
        "outputId": "e6801fff-cbaf-4887-cd02-79adba0625fa"
      },
      "execution_count": 6,
      "outputs": [
        {
          "output_type": "stream",
          "name": "stdout",
          "text": [
            "                   0          1             2               3  \\\n",
            "0           Order_ID  Agent_Age  Agent_Rating  Store_Latitude   \n",
            "1      ialx566343618         37           4.9       22.745049   \n",
            "2      akqg208421122         34           4.5       12.913041   \n",
            "3      njpu434582536         23           4.4       12.914264   \n",
            "4      rjto796129700         38           4.7       11.003669   \n",
            "...              ...        ...           ...             ...   \n",
            "43735  jlxf819993117         30           4.8       26.902328   \n",
            "43736  aevx342135787         21           4.6             0.0   \n",
            "43737  xnek760674819         30           4.9       13.022394   \n",
            "43738  cynl434665991         20           4.7       11.001753   \n",
            "43739  nsyz997960170         23           4.9       23.351058   \n",
            "\n",
            "                     4              5               6           7           8  \\\n",
            "0      Store_Longitude  Drop_Latitude  Drop_Longitude  Order_Date  Order_Time   \n",
            "1            75.892471      22.765049       75.912471  2022-03-19    11:30:00   \n",
            "2            77.683237      13.043041       77.813237  2022-03-25    19:45:00   \n",
            "3              77.6784      12.924264         77.6884  2022-03-19    08:30:00   \n",
            "4            76.976494      11.053669       77.026494  2022-04-05    18:00:00   \n",
            "...                ...            ...             ...         ...         ...   \n",
            "43735        75.794257      26.912328       75.804257  2022-03-24    11:35:00   \n",
            "43736              0.0           0.07            0.07  2022-02-16    19:55:00   \n",
            "43737        80.242439      13.052394       80.272439  2022-03-11    23:50:00   \n",
            "43738        76.986241      11.041753       77.026241  2022-03-07    13:35:00   \n",
            "43739        85.325731      23.431058       85.405731  2022-03-02    17:10:00   \n",
            "\n",
            "                 9          10       11           12              13  \\\n",
            "0      Pickup_Time     Weather  Traffic      Vehicle            Area   \n",
            "1         11:45:00       Sunny    High   motorcycle           Urban    \n",
            "2         19:50:00      Stormy     Jam      scooter   Metropolitian    \n",
            "3         08:45:00  Sandstorms     Low   motorcycle           Urban    \n",
            "4         18:10:00       Sunny  Medium   motorcycle   Metropolitian    \n",
            "...            ...         ...      ...          ...             ...   \n",
            "43735     11:45:00       Windy    High   motorcycle   Metropolitian    \n",
            "43736     20:10:00       Windy     Jam   motorcycle   Metropolitian    \n",
            "43737     00:05:00      Cloudy     Low      scooter   Metropolitian    \n",
            "43738     13:40:00      Cloudy    High   motorcycle   Metropolitian    \n",
            "43739     17:15:00         Fog  Medium      scooter   Metropolitian    \n",
            "\n",
            "                  14           15  Order_ID  \n",
            "0      Delivery_Time     Category         1  \n",
            "1                120     Clothing         2  \n",
            "2                165  Electronics         3  \n",
            "3                130       Sports         4  \n",
            "4                105    Cosmetics         5  \n",
            "...              ...          ...       ...  \n",
            "43735            160         Home     43736  \n",
            "43736            180      Jewelry     43737  \n",
            "43737             80         Home     43738  \n",
            "43738            130      Kitchen     43739  \n",
            "43739            180    Cosmetics     43740  \n",
            "\n",
            "[43740 rows x 17 columns]\n"
          ]
        }
      ]
    },
    {
      "cell_type": "code",
      "source": [
        "df_new = df.drop(columns=[0])\n",
        "print(df_new)"
      ],
      "metadata": {
        "colab": {
          "base_uri": "https://localhost:8080/"
        },
        "id": "aV-McppxgF1C",
        "outputId": "ff5250c7-708a-4f2b-b66d-dda6840c0617"
      },
      "execution_count": 7,
      "outputs": [
        {
          "output_type": "stream",
          "name": "stdout",
          "text": [
            "               1             2               3                4  \\\n",
            "0      Agent_Age  Agent_Rating  Store_Latitude  Store_Longitude   \n",
            "1             37           4.9       22.745049        75.892471   \n",
            "2             34           4.5       12.913041        77.683237   \n",
            "3             23           4.4       12.914264          77.6784   \n",
            "4             38           4.7       11.003669        76.976494   \n",
            "...          ...           ...             ...              ...   \n",
            "43735         30           4.8       26.902328        75.794257   \n",
            "43736         21           4.6             0.0              0.0   \n",
            "43737         30           4.9       13.022394        80.242439   \n",
            "43738         20           4.7       11.001753        76.986241   \n",
            "43739         23           4.9       23.351058        85.325731   \n",
            "\n",
            "                   5               6           7           8            9  \\\n",
            "0      Drop_Latitude  Drop_Longitude  Order_Date  Order_Time  Pickup_Time   \n",
            "1          22.765049       75.912471  2022-03-19    11:30:00     11:45:00   \n",
            "2          13.043041       77.813237  2022-03-25    19:45:00     19:50:00   \n",
            "3          12.924264         77.6884  2022-03-19    08:30:00     08:45:00   \n",
            "4          11.053669       77.026494  2022-04-05    18:00:00     18:10:00   \n",
            "...              ...             ...         ...         ...          ...   \n",
            "43735      26.912328       75.804257  2022-03-24    11:35:00     11:45:00   \n",
            "43736           0.07            0.07  2022-02-16    19:55:00     20:10:00   \n",
            "43737      13.052394       80.272439  2022-03-11    23:50:00     00:05:00   \n",
            "43738      11.041753       77.026241  2022-03-07    13:35:00     13:40:00   \n",
            "43739      23.431058       85.405731  2022-03-02    17:10:00     17:15:00   \n",
            "\n",
            "               10       11           12              13             14  \\\n",
            "0         Weather  Traffic      Vehicle            Area  Delivery_Time   \n",
            "1           Sunny    High   motorcycle           Urban             120   \n",
            "2          Stormy     Jam      scooter   Metropolitian             165   \n",
            "3      Sandstorms     Low   motorcycle           Urban             130   \n",
            "4           Sunny  Medium   motorcycle   Metropolitian             105   \n",
            "...           ...      ...          ...             ...            ...   \n",
            "43735       Windy    High   motorcycle   Metropolitian             160   \n",
            "43736       Windy     Jam   motorcycle   Metropolitian             180   \n",
            "43737      Cloudy     Low      scooter   Metropolitian              80   \n",
            "43738      Cloudy    High   motorcycle   Metropolitian             130   \n",
            "43739         Fog  Medium      scooter   Metropolitian             180   \n",
            "\n",
            "                15  Order_ID  \n",
            "0         Category         1  \n",
            "1         Clothing         2  \n",
            "2      Electronics         3  \n",
            "3           Sports         4  \n",
            "4        Cosmetics         5  \n",
            "...            ...       ...  \n",
            "43735         Home     43736  \n",
            "43736      Jewelry     43737  \n",
            "43737         Home     43738  \n",
            "43738      Kitchen     43739  \n",
            "43739    Cosmetics     43740  \n",
            "\n",
            "[43740 rows x 16 columns]\n"
          ]
        }
      ]
    },
    {
      "cell_type": "code",
      "source": [
        "#con esto Elimino el ID de la Orden\n",
        "df = df_new.drop(columns=['Order_ID'])\n",
        "print(df)"
      ],
      "metadata": {
        "colab": {
          "base_uri": "https://localhost:8080/"
        },
        "id": "_EQ8Kd1Ngan6",
        "outputId": "5243f5d5-9ff9-457a-81d5-4e9c28bba9d9"
      },
      "execution_count": 8,
      "outputs": [
        {
          "output_type": "stream",
          "name": "stdout",
          "text": [
            "               1             2               3                4  \\\n",
            "0      Agent_Age  Agent_Rating  Store_Latitude  Store_Longitude   \n",
            "1             37           4.9       22.745049        75.892471   \n",
            "2             34           4.5       12.913041        77.683237   \n",
            "3             23           4.4       12.914264          77.6784   \n",
            "4             38           4.7       11.003669        76.976494   \n",
            "...          ...           ...             ...              ...   \n",
            "43735         30           4.8       26.902328        75.794257   \n",
            "43736         21           4.6             0.0              0.0   \n",
            "43737         30           4.9       13.022394        80.242439   \n",
            "43738         20           4.7       11.001753        76.986241   \n",
            "43739         23           4.9       23.351058        85.325731   \n",
            "\n",
            "                   5               6           7           8            9  \\\n",
            "0      Drop_Latitude  Drop_Longitude  Order_Date  Order_Time  Pickup_Time   \n",
            "1          22.765049       75.912471  2022-03-19    11:30:00     11:45:00   \n",
            "2          13.043041       77.813237  2022-03-25    19:45:00     19:50:00   \n",
            "3          12.924264         77.6884  2022-03-19    08:30:00     08:45:00   \n",
            "4          11.053669       77.026494  2022-04-05    18:00:00     18:10:00   \n",
            "...              ...             ...         ...         ...          ...   \n",
            "43735      26.912328       75.804257  2022-03-24    11:35:00     11:45:00   \n",
            "43736           0.07            0.07  2022-02-16    19:55:00     20:10:00   \n",
            "43737      13.052394       80.272439  2022-03-11    23:50:00     00:05:00   \n",
            "43738      11.041753       77.026241  2022-03-07    13:35:00     13:40:00   \n",
            "43739      23.431058       85.405731  2022-03-02    17:10:00     17:15:00   \n",
            "\n",
            "               10       11           12              13             14  \\\n",
            "0         Weather  Traffic      Vehicle            Area  Delivery_Time   \n",
            "1           Sunny    High   motorcycle           Urban             120   \n",
            "2          Stormy     Jam      scooter   Metropolitian             165   \n",
            "3      Sandstorms     Low   motorcycle           Urban             130   \n",
            "4           Sunny  Medium   motorcycle   Metropolitian             105   \n",
            "...           ...      ...          ...             ...            ...   \n",
            "43735       Windy    High   motorcycle   Metropolitian             160   \n",
            "43736       Windy     Jam   motorcycle   Metropolitian             180   \n",
            "43737      Cloudy     Low      scooter   Metropolitian              80   \n",
            "43738      Cloudy    High   motorcycle   Metropolitian             130   \n",
            "43739         Fog  Medium      scooter   Metropolitian             180   \n",
            "\n",
            "                15  \n",
            "0         Category  \n",
            "1         Clothing  \n",
            "2      Electronics  \n",
            "3           Sports  \n",
            "4        Cosmetics  \n",
            "...            ...  \n",
            "43735         Home  \n",
            "43736      Jewelry  \n",
            "43737         Home  \n",
            "43738      Kitchen  \n",
            "43739    Cosmetics  \n",
            "\n",
            "[43740 rows x 15 columns]\n"
          ]
        }
      ]
    },
    {
      "cell_type": "markdown",
      "source": [
        "\n",
        "Como la columna ID_Orden no era necesaria para identificar las filas ya qeu los DataFrames de Pandas tienen un identificador generado automáticamente llamado  **Índice**, se elimino dicha Columna, con el fin de hacer más agíl su procesamiento.\n",
        "\n"
      ],
      "metadata": {
        "id": "Ju_LSsbtgFkO"
      }
    },
    {
      "cell_type": "code",
      "source": [
        "# Contar el número de valores igual a 0 en las columnas 1, 2, 3, 4 y 5\n",
        "columns_to_check = [1, 2, 3, 4, 5, 6, 7, 8, 9, 10, 11, 12, 13, 14, 15]\n",
        "\n",
        "# Contar los valores iguales a 0\n",
        "nun_missing = (df[columns_to_check] == 0).sum()\n",
        "\n",
        "# Mostrar el resultado\n",
        "print(nun_missing)"
      ],
      "metadata": {
        "colab": {
          "base_uri": "https://localhost:8080/"
        },
        "id": "cAqex1AFiyxP",
        "outputId": "2e2a5f38-746b-4013-8d51-c20cc2b31280"
      },
      "execution_count": 9,
      "outputs": [
        {
          "output_type": "stream",
          "name": "stdout",
          "text": [
            "1       0\n",
            "2       0\n",
            "3     892\n",
            "4     892\n",
            "5       0\n",
            "6       0\n",
            "7       0\n",
            "8       0\n",
            "9       0\n",
            "10      0\n",
            "11      0\n",
            "12      0\n",
            "13      0\n",
            "14      0\n",
            "15      0\n",
            "dtype: int64\n"
          ]
        }
      ]
    },
    {
      "cell_type": "code",
      "source": [
        "print(df.columns)"
      ],
      "metadata": {
        "colab": {
          "base_uri": "https://localhost:8080/"
        },
        "id": "1u9wZ7GUmK03",
        "outputId": "27f1571e-377e-43d0-d0a3-de1687970cfe"
      },
      "execution_count": 18,
      "outputs": [
        {
          "output_type": "stream",
          "name": "stdout",
          "text": [
            "Index([1, 2, 3, 4, 5, 6, 7, 8, 9, 10, 11, 12, 13, 14, 15], dtype='object')\n"
          ]
        }
      ]
    },
    {
      "cell_type": "markdown",
      "source": [
        "# Renombrar las columnas para mayor claridad\n",
        "**Verificar las primeras filas para confirmar el renombramiento**"
      ],
      "metadata": {
        "id": "hV2su5sBV-WA"
      }
    },
    {
      "cell_type": "code",
      "source": [
        "df.columns = [\"Agent_Age\", \"Agent_Rating\", \"Store_Latitude\", \"Store_Longitude\",\n",
        "    \"Drop_Latitude\", \"Drop_Longitude\", \"Order_Date\", \"Order_Time\",\n",
        "    \"Pickup_Time\", \"Weather\", \"Traffic\", \"Vehicle\", \"Area\",\n",
        "    \"Delivery_Time\", \"Category\"]\n",
        "df.head()\n"
      ],
      "metadata": {
        "colab": {
          "base_uri": "https://localhost:8080/",
          "height": 206
        },
        "id": "0i2NK-bPSoYE",
        "outputId": "6a39f50c-6f6d-4dda-aa7e-85ad4e890a2a"
      },
      "execution_count": 14,
      "outputs": [
        {
          "output_type": "execute_result",
          "data": {
            "text/plain": [
              "   Agent_Age  Agent_Rating  Store_Latitude  Store_Longitude  Drop_Latitude  \\\n",
              "0  Agent_Age  Agent_Rating  Store_Latitude  Store_Longitude  Drop_Latitude   \n",
              "1         37           4.9       22.745049        75.892471      22.765049   \n",
              "2         34           4.5       12.913041        77.683237      13.043041   \n",
              "3         23           4.4       12.914264          77.6784      12.924264   \n",
              "4         38           4.7       11.003669        76.976494      11.053669   \n",
              "\n",
              "   Drop_Longitude  Order_Date  Order_Time  Pickup_Time     Weather  Traffic  \\\n",
              "0  Drop_Longitude  Order_Date  Order_Time  Pickup_Time     Weather  Traffic   \n",
              "1       75.912471  2022-03-19    11:30:00     11:45:00       Sunny    High    \n",
              "2       77.813237  2022-03-25    19:45:00     19:50:00      Stormy     Jam    \n",
              "3         77.6884  2022-03-19    08:30:00     08:45:00  Sandstorms     Low    \n",
              "4       77.026494  2022-04-05    18:00:00     18:10:00       Sunny  Medium    \n",
              "\n",
              "       Vehicle            Area  Delivery_Time     Category  \n",
              "0      Vehicle            Area  Delivery_Time     Category  \n",
              "1  motorcycle           Urban             120     Clothing  \n",
              "2     scooter   Metropolitian             165  Electronics  \n",
              "3  motorcycle           Urban             130       Sports  \n",
              "4  motorcycle   Metropolitian             105    Cosmetics  "
            ],
            "text/html": [
              "\n",
              "  <div id=\"df-e6f83ed5-522a-4b00-b3d9-c1e979393b54\" class=\"colab-df-container\">\n",
              "    <div>\n",
              "<style scoped>\n",
              "    .dataframe tbody tr th:only-of-type {\n",
              "        vertical-align: middle;\n",
              "    }\n",
              "\n",
              "    .dataframe tbody tr th {\n",
              "        vertical-align: top;\n",
              "    }\n",
              "\n",
              "    .dataframe thead th {\n",
              "        text-align: right;\n",
              "    }\n",
              "</style>\n",
              "<table border=\"1\" class=\"dataframe\">\n",
              "  <thead>\n",
              "    <tr style=\"text-align: right;\">\n",
              "      <th></th>\n",
              "      <th>Agent_Age</th>\n",
              "      <th>Agent_Rating</th>\n",
              "      <th>Store_Latitude</th>\n",
              "      <th>Store_Longitude</th>\n",
              "      <th>Drop_Latitude</th>\n",
              "      <th>Drop_Longitude</th>\n",
              "      <th>Order_Date</th>\n",
              "      <th>Order_Time</th>\n",
              "      <th>Pickup_Time</th>\n",
              "      <th>Weather</th>\n",
              "      <th>Traffic</th>\n",
              "      <th>Vehicle</th>\n",
              "      <th>Area</th>\n",
              "      <th>Delivery_Time</th>\n",
              "      <th>Category</th>\n",
              "    </tr>\n",
              "  </thead>\n",
              "  <tbody>\n",
              "    <tr>\n",
              "      <th>0</th>\n",
              "      <td>Agent_Age</td>\n",
              "      <td>Agent_Rating</td>\n",
              "      <td>Store_Latitude</td>\n",
              "      <td>Store_Longitude</td>\n",
              "      <td>Drop_Latitude</td>\n",
              "      <td>Drop_Longitude</td>\n",
              "      <td>Order_Date</td>\n",
              "      <td>Order_Time</td>\n",
              "      <td>Pickup_Time</td>\n",
              "      <td>Weather</td>\n",
              "      <td>Traffic</td>\n",
              "      <td>Vehicle</td>\n",
              "      <td>Area</td>\n",
              "      <td>Delivery_Time</td>\n",
              "      <td>Category</td>\n",
              "    </tr>\n",
              "    <tr>\n",
              "      <th>1</th>\n",
              "      <td>37</td>\n",
              "      <td>4.9</td>\n",
              "      <td>22.745049</td>\n",
              "      <td>75.892471</td>\n",
              "      <td>22.765049</td>\n",
              "      <td>75.912471</td>\n",
              "      <td>2022-03-19</td>\n",
              "      <td>11:30:00</td>\n",
              "      <td>11:45:00</td>\n",
              "      <td>Sunny</td>\n",
              "      <td>High</td>\n",
              "      <td>motorcycle</td>\n",
              "      <td>Urban</td>\n",
              "      <td>120</td>\n",
              "      <td>Clothing</td>\n",
              "    </tr>\n",
              "    <tr>\n",
              "      <th>2</th>\n",
              "      <td>34</td>\n",
              "      <td>4.5</td>\n",
              "      <td>12.913041</td>\n",
              "      <td>77.683237</td>\n",
              "      <td>13.043041</td>\n",
              "      <td>77.813237</td>\n",
              "      <td>2022-03-25</td>\n",
              "      <td>19:45:00</td>\n",
              "      <td>19:50:00</td>\n",
              "      <td>Stormy</td>\n",
              "      <td>Jam</td>\n",
              "      <td>scooter</td>\n",
              "      <td>Metropolitian</td>\n",
              "      <td>165</td>\n",
              "      <td>Electronics</td>\n",
              "    </tr>\n",
              "    <tr>\n",
              "      <th>3</th>\n",
              "      <td>23</td>\n",
              "      <td>4.4</td>\n",
              "      <td>12.914264</td>\n",
              "      <td>77.6784</td>\n",
              "      <td>12.924264</td>\n",
              "      <td>77.6884</td>\n",
              "      <td>2022-03-19</td>\n",
              "      <td>08:30:00</td>\n",
              "      <td>08:45:00</td>\n",
              "      <td>Sandstorms</td>\n",
              "      <td>Low</td>\n",
              "      <td>motorcycle</td>\n",
              "      <td>Urban</td>\n",
              "      <td>130</td>\n",
              "      <td>Sports</td>\n",
              "    </tr>\n",
              "    <tr>\n",
              "      <th>4</th>\n",
              "      <td>38</td>\n",
              "      <td>4.7</td>\n",
              "      <td>11.003669</td>\n",
              "      <td>76.976494</td>\n",
              "      <td>11.053669</td>\n",
              "      <td>77.026494</td>\n",
              "      <td>2022-04-05</td>\n",
              "      <td>18:00:00</td>\n",
              "      <td>18:10:00</td>\n",
              "      <td>Sunny</td>\n",
              "      <td>Medium</td>\n",
              "      <td>motorcycle</td>\n",
              "      <td>Metropolitian</td>\n",
              "      <td>105</td>\n",
              "      <td>Cosmetics</td>\n",
              "    </tr>\n",
              "  </tbody>\n",
              "</table>\n",
              "</div>\n",
              "    <div class=\"colab-df-buttons\">\n",
              "\n",
              "  <div class=\"colab-df-container\">\n",
              "    <button class=\"colab-df-convert\" onclick=\"convertToInteractive('df-e6f83ed5-522a-4b00-b3d9-c1e979393b54')\"\n",
              "            title=\"Convert this dataframe to an interactive table.\"\n",
              "            style=\"display:none;\">\n",
              "\n",
              "  <svg xmlns=\"http://www.w3.org/2000/svg\" height=\"24px\" viewBox=\"0 -960 960 960\">\n",
              "    <path d=\"M120-120v-720h720v720H120Zm60-500h600v-160H180v160Zm220 220h160v-160H400v160Zm0 220h160v-160H400v160ZM180-400h160v-160H180v160Zm440 0h160v-160H620v160ZM180-180h160v-160H180v160Zm440 0h160v-160H620v160Z\"/>\n",
              "  </svg>\n",
              "    </button>\n",
              "\n",
              "  <style>\n",
              "    .colab-df-container {\n",
              "      display:flex;\n",
              "      gap: 12px;\n",
              "    }\n",
              "\n",
              "    .colab-df-convert {\n",
              "      background-color: #E8F0FE;\n",
              "      border: none;\n",
              "      border-radius: 50%;\n",
              "      cursor: pointer;\n",
              "      display: none;\n",
              "      fill: #1967D2;\n",
              "      height: 32px;\n",
              "      padding: 0 0 0 0;\n",
              "      width: 32px;\n",
              "    }\n",
              "\n",
              "    .colab-df-convert:hover {\n",
              "      background-color: #E2EBFA;\n",
              "      box-shadow: 0px 1px 2px rgba(60, 64, 67, 0.3), 0px 1px 3px 1px rgba(60, 64, 67, 0.15);\n",
              "      fill: #174EA6;\n",
              "    }\n",
              "\n",
              "    .colab-df-buttons div {\n",
              "      margin-bottom: 4px;\n",
              "    }\n",
              "\n",
              "    [theme=dark] .colab-df-convert {\n",
              "      background-color: #3B4455;\n",
              "      fill: #D2E3FC;\n",
              "    }\n",
              "\n",
              "    [theme=dark] .colab-df-convert:hover {\n",
              "      background-color: #434B5C;\n",
              "      box-shadow: 0px 1px 3px 1px rgba(0, 0, 0, 0.15);\n",
              "      filter: drop-shadow(0px 1px 2px rgba(0, 0, 0, 0.3));\n",
              "      fill: #FFFFFF;\n",
              "    }\n",
              "  </style>\n",
              "\n",
              "    <script>\n",
              "      const buttonEl =\n",
              "        document.querySelector('#df-e6f83ed5-522a-4b00-b3d9-c1e979393b54 button.colab-df-convert');\n",
              "      buttonEl.style.display =\n",
              "        google.colab.kernel.accessAllowed ? 'block' : 'none';\n",
              "\n",
              "      async function convertToInteractive(key) {\n",
              "        const element = document.querySelector('#df-e6f83ed5-522a-4b00-b3d9-c1e979393b54');\n",
              "        const dataTable =\n",
              "          await google.colab.kernel.invokeFunction('convertToInteractive',\n",
              "                                                    [key], {});\n",
              "        if (!dataTable) return;\n",
              "\n",
              "        const docLinkHtml = 'Like what you see? Visit the ' +\n",
              "          '<a target=\"_blank\" href=https://colab.research.google.com/notebooks/data_table.ipynb>data table notebook</a>'\n",
              "          + ' to learn more about interactive tables.';\n",
              "        element.innerHTML = '';\n",
              "        dataTable['output_type'] = 'display_data';\n",
              "        await google.colab.output.renderOutput(dataTable, element);\n",
              "        const docLink = document.createElement('div');\n",
              "        docLink.innerHTML = docLinkHtml;\n",
              "        element.appendChild(docLink);\n",
              "      }\n",
              "    </script>\n",
              "  </div>\n",
              "\n",
              "\n",
              "<div id=\"df-797bad1a-1275-40ad-bf9a-fba26f5d627c\">\n",
              "  <button class=\"colab-df-quickchart\" onclick=\"quickchart('df-797bad1a-1275-40ad-bf9a-fba26f5d627c')\"\n",
              "            title=\"Suggest charts\"\n",
              "            style=\"display:none;\">\n",
              "\n",
              "<svg xmlns=\"http://www.w3.org/2000/svg\" height=\"24px\"viewBox=\"0 0 24 24\"\n",
              "     width=\"24px\">\n",
              "    <g>\n",
              "        <path d=\"M19 3H5c-1.1 0-2 .9-2 2v14c0 1.1.9 2 2 2h14c1.1 0 2-.9 2-2V5c0-1.1-.9-2-2-2zM9 17H7v-7h2v7zm4 0h-2V7h2v10zm4 0h-2v-4h2v4z\"/>\n",
              "    </g>\n",
              "</svg>\n",
              "  </button>\n",
              "\n",
              "<style>\n",
              "  .colab-df-quickchart {\n",
              "      --bg-color: #E8F0FE;\n",
              "      --fill-color: #1967D2;\n",
              "      --hover-bg-color: #E2EBFA;\n",
              "      --hover-fill-color: #174EA6;\n",
              "      --disabled-fill-color: #AAA;\n",
              "      --disabled-bg-color: #DDD;\n",
              "  }\n",
              "\n",
              "  [theme=dark] .colab-df-quickchart {\n",
              "      --bg-color: #3B4455;\n",
              "      --fill-color: #D2E3FC;\n",
              "      --hover-bg-color: #434B5C;\n",
              "      --hover-fill-color: #FFFFFF;\n",
              "      --disabled-bg-color: #3B4455;\n",
              "      --disabled-fill-color: #666;\n",
              "  }\n",
              "\n",
              "  .colab-df-quickchart {\n",
              "    background-color: var(--bg-color);\n",
              "    border: none;\n",
              "    border-radius: 50%;\n",
              "    cursor: pointer;\n",
              "    display: none;\n",
              "    fill: var(--fill-color);\n",
              "    height: 32px;\n",
              "    padding: 0;\n",
              "    width: 32px;\n",
              "  }\n",
              "\n",
              "  .colab-df-quickchart:hover {\n",
              "    background-color: var(--hover-bg-color);\n",
              "    box-shadow: 0 1px 2px rgba(60, 64, 67, 0.3), 0 1px 3px 1px rgba(60, 64, 67, 0.15);\n",
              "    fill: var(--button-hover-fill-color);\n",
              "  }\n",
              "\n",
              "  .colab-df-quickchart-complete:disabled,\n",
              "  .colab-df-quickchart-complete:disabled:hover {\n",
              "    background-color: var(--disabled-bg-color);\n",
              "    fill: var(--disabled-fill-color);\n",
              "    box-shadow: none;\n",
              "  }\n",
              "\n",
              "  .colab-df-spinner {\n",
              "    border: 2px solid var(--fill-color);\n",
              "    border-color: transparent;\n",
              "    border-bottom-color: var(--fill-color);\n",
              "    animation:\n",
              "      spin 1s steps(1) infinite;\n",
              "  }\n",
              "\n",
              "  @keyframes spin {\n",
              "    0% {\n",
              "      border-color: transparent;\n",
              "      border-bottom-color: var(--fill-color);\n",
              "      border-left-color: var(--fill-color);\n",
              "    }\n",
              "    20% {\n",
              "      border-color: transparent;\n",
              "      border-left-color: var(--fill-color);\n",
              "      border-top-color: var(--fill-color);\n",
              "    }\n",
              "    30% {\n",
              "      border-color: transparent;\n",
              "      border-left-color: var(--fill-color);\n",
              "      border-top-color: var(--fill-color);\n",
              "      border-right-color: var(--fill-color);\n",
              "    }\n",
              "    40% {\n",
              "      border-color: transparent;\n",
              "      border-right-color: var(--fill-color);\n",
              "      border-top-color: var(--fill-color);\n",
              "    }\n",
              "    60% {\n",
              "      border-color: transparent;\n",
              "      border-right-color: var(--fill-color);\n",
              "    }\n",
              "    80% {\n",
              "      border-color: transparent;\n",
              "      border-right-color: var(--fill-color);\n",
              "      border-bottom-color: var(--fill-color);\n",
              "    }\n",
              "    90% {\n",
              "      border-color: transparent;\n",
              "      border-bottom-color: var(--fill-color);\n",
              "    }\n",
              "  }\n",
              "</style>\n",
              "\n",
              "  <script>\n",
              "    async function quickchart(key) {\n",
              "      const quickchartButtonEl =\n",
              "        document.querySelector('#' + key + ' button');\n",
              "      quickchartButtonEl.disabled = true;  // To prevent multiple clicks.\n",
              "      quickchartButtonEl.classList.add('colab-df-spinner');\n",
              "      try {\n",
              "        const charts = await google.colab.kernel.invokeFunction(\n",
              "            'suggestCharts', [key], {});\n",
              "      } catch (error) {\n",
              "        console.error('Error during call to suggestCharts:', error);\n",
              "      }\n",
              "      quickchartButtonEl.classList.remove('colab-df-spinner');\n",
              "      quickchartButtonEl.classList.add('colab-df-quickchart-complete');\n",
              "    }\n",
              "    (() => {\n",
              "      let quickchartButtonEl =\n",
              "        document.querySelector('#df-797bad1a-1275-40ad-bf9a-fba26f5d627c button');\n",
              "      quickchartButtonEl.style.display =\n",
              "        google.colab.kernel.accessAllowed ? 'block' : 'none';\n",
              "    })();\n",
              "  </script>\n",
              "</div>\n",
              "\n",
              "    </div>\n",
              "  </div>\n"
            ],
            "application/vnd.google.colaboratory.intrinsic+json": {
              "type": "dataframe",
              "variable_name": "df",
              "summary": "{\n  \"name\": \"df\",\n  \"rows\": 43740,\n  \"fields\": [\n    {\n      \"column\": \"Agent_Age\",\n      \"properties\": {\n        \"dtype\": \"category\",\n        \"num_unique_values\": 45,\n        \"samples\": [\n          39,\n          22,\n          29\n        ],\n        \"semantic_type\": \"\",\n        \"description\": \"\"\n      }\n    },\n    {\n      \"column\": \"Agent_Rating\",\n      \"properties\": {\n        \"dtype\": \"category\",\n        \"num_unique_values\": 57,\n        \"samples\": [\n          \"Agent_Rating\",\n          \"4.6\",\n          4.9\n        ],\n        \"semantic_type\": \"\",\n        \"description\": \"\"\n      }\n    },\n    {\n      \"column\": \"Store_Latitude\",\n      \"properties\": {\n        \"dtype\": \"category\",\n        \"num_unique_values\": 928,\n        \"samples\": [\n          26.913726,\n          18.56245,\n          \"21.160437\"\n        ],\n        \"semantic_type\": \"\",\n        \"description\": \"\"\n      }\n    },\n    {\n      \"column\": \"Store_Longitude\",\n      \"properties\": {\n        \"dtype\": \"category\",\n        \"num_unique_values\": 805,\n        \"samples\": [\n          \"75.887522\",\n          88.36783,\n          \"72.778059\"\n        ],\n        \"semantic_type\": \"\",\n        \"description\": \"\"\n      }\n    },\n    {\n      \"column\": \"Drop_Latitude\",\n      \"properties\": {\n        \"dtype\": \"category\",\n        \"num_unique_values\": 7855,\n        \"samples\": [\n          26.614133,\n          \"15.62155\",\n          13.088616\n        ],\n        \"semantic_type\": \"\",\n        \"description\": \"\"\n      }\n    },\n    {\n      \"column\": \"Drop_Longitude\",\n      \"properties\": {\n        \"dtype\": \"category\",\n        \"num_unique_values\": 7855,\n        \"samples\": [\n          80.4881,\n          \"73.809092\",\n          80.294151\n        ],\n        \"semantic_type\": \"\",\n        \"description\": \"\"\n      }\n    },\n    {\n      \"column\": \"Order_Date\",\n      \"properties\": {\n        \"dtype\": \"category\",\n        \"num_unique_values\": 45,\n        \"samples\": [\n          \"2022-02-18\",\n          \"2022-03-28\",\n          \"2022-03-18\"\n        ],\n        \"semantic_type\": \"\",\n        \"description\": \"\"\n      }\n    },\n    {\n      \"column\": \"Order_Time\",\n      \"properties\": {\n        \"dtype\": \"category\",\n        \"num_unique_values\": 178,\n        \"samples\": [\n          \"20:20:00\",\n          \"22:10:00\",\n          \"17:40:00\"\n        ],\n        \"semantic_type\": \"\",\n        \"description\": \"\"\n      }\n    },\n    {\n      \"column\": \"Pickup_Time\",\n      \"properties\": {\n        \"dtype\": \"category\",\n        \"num_unique_values\": 194,\n        \"samples\": [\n          \"19:35:00\",\n          \"15:10:00\",\n          \"08:35:00\"\n        ],\n        \"semantic_type\": \"\",\n        \"description\": \"\"\n      }\n    },\n    {\n      \"column\": \"Weather\",\n      \"properties\": {\n        \"dtype\": \"category\",\n        \"num_unique_values\": 7,\n        \"samples\": [\n          \"Weather\",\n          \"Sunny\",\n          \"Fog\"\n        ],\n        \"semantic_type\": \"\",\n        \"description\": \"\"\n      }\n    },\n    {\n      \"column\": \"Traffic\",\n      \"properties\": {\n        \"dtype\": \"category\",\n        \"num_unique_values\": 6,\n        \"samples\": [\n          \"Traffic\",\n          \"High \",\n          \"NaN \"\n        ],\n        \"semantic_type\": \"\",\n        \"description\": \"\"\n      }\n    },\n    {\n      \"column\": \"Vehicle\",\n      \"properties\": {\n        \"dtype\": \"category\",\n        \"num_unique_values\": 5,\n        \"samples\": [\n          \"motorcycle \",\n          \"bicycle \",\n          \"scooter \"\n        ],\n        \"semantic_type\": \"\",\n        \"description\": \"\"\n      }\n    },\n    {\n      \"column\": \"Area\",\n      \"properties\": {\n        \"dtype\": \"category\",\n        \"num_unique_values\": 5,\n        \"samples\": [\n          \"Urban \",\n          \"Other\",\n          \"Metropolitian \"\n        ],\n        \"semantic_type\": \"\",\n        \"description\": \"\"\n      }\n    },\n    {\n      \"column\": \"Delivery_Time\",\n      \"properties\": {\n        \"dtype\": \"category\",\n        \"num_unique_values\": 178,\n        \"samples\": [\n          \"235\",\n          \"240\",\n          30\n        ],\n        \"semantic_type\": \"\",\n        \"description\": \"\"\n      }\n    },\n    {\n      \"column\": \"Category\",\n      \"properties\": {\n        \"dtype\": \"category\",\n        \"num_unique_values\": 17,\n        \"samples\": [\n          \"Category\",\n          \"Clothing\",\n          \"Toys\"\n        ],\n        \"semantic_type\": \"\",\n        \"description\": \"\"\n      }\n    }\n  ]\n}"
            }
          },
          "metadata": {},
          "execution_count": 14
        }
      ]
    },
    {
      "cell_type": "markdown",
      "source": [
        "# Limpieza inicial: detectar valores faltantes"
      ],
      "metadata": {
        "id": "hEfhkRxpWUQf"
      }
    },
    {
      "cell_type": "code",
      "source": [
        "missing_values = df.isnull().sum()\n",
        "print(\"Valores faltantes por columna:\")\n",
        "print(missing_values)"
      ],
      "metadata": {
        "colab": {
          "base_uri": "https://localhost:8080/"
        },
        "id": "g5tZ6bQDVh8J",
        "outputId": "7794baf5-29f7-4655-ced2-61283834b9e2"
      },
      "execution_count": 15,
      "outputs": [
        {
          "output_type": "stream",
          "name": "stdout",
          "text": [
            "Valores faltantes por columna:\n",
            "Agent_Age           0\n",
            "Agent_Rating       54\n",
            "Store_Latitude      0\n",
            "Store_Longitude     0\n",
            "Drop_Latitude       0\n",
            "Drop_Longitude      0\n",
            "Order_Date          0\n",
            "Order_Time          0\n",
            "Pickup_Time         0\n",
            "Weather            91\n",
            "Traffic             0\n",
            "Vehicle             0\n",
            "Area                0\n",
            "Delivery_Time       0\n",
            "Category            0\n",
            "dtype: int64\n"
          ]
        }
      ]
    },
    {
      "cell_type": "markdown",
      "source": [
        "# Eliminación de filas con valores faltantes"
      ],
      "metadata": {
        "id": "WD8Vn-0ZWatg"
      }
    },
    {
      "cell_type": "code",
      "source": [
        "df_cleaned = df.dropna()"
      ],
      "metadata": {
        "id": "CiDxLugnVpFh"
      },
      "execution_count": 16,
      "outputs": []
    },
    {
      "cell_type": "markdown",
      "source": [
        "# Confirmar la limpieza de datos"
      ],
      "metadata": {
        "id": "eFIcEz7RWiRp"
      }
    },
    {
      "cell_type": "code",
      "source": [
        "missing_values_cleaned = df_cleaned.isnull().sum()\n",
        "print(\"\\nDespués de la limpieza:\")\n",
        "print(missing_values_cleaned)"
      ],
      "metadata": {
        "colab": {
          "base_uri": "https://localhost:8080/"
        },
        "id": "jtHhBzxKVws8",
        "outputId": "e27afced-14a1-4dc4-c54e-9dc7fb0e9fae"
      },
      "execution_count": 17,
      "outputs": [
        {
          "output_type": "stream",
          "name": "stdout",
          "text": [
            "\n",
            "Después de la limpieza:\n",
            "Agent_Age          0\n",
            "Agent_Rating       0\n",
            "Store_Latitude     0\n",
            "Store_Longitude    0\n",
            "Drop_Latitude      0\n",
            "Drop_Longitude     0\n",
            "Order_Date         0\n",
            "Order_Time         0\n",
            "Pickup_Time        0\n",
            "Weather            0\n",
            "Traffic            0\n",
            "Vehicle            0\n",
            "Area               0\n",
            "Delivery_Time      0\n",
            "Category           0\n",
            "dtype: int64\n"
          ]
        }
      ]
    },
    {
      "cell_type": "markdown",
      "source": [
        "# Verificación de datos numéricos y sus tipos"
      ],
      "metadata": {
        "id": "ciB2TsbIWk6u"
      }
    },
    {
      "cell_type": "code",
      "source": [
        "print(\"\\nInformación del DataFrame:\")\n",
        "print(df_cleaned.info())"
      ],
      "metadata": {
        "colab": {
          "base_uri": "https://localhost:8080/"
        },
        "id": "KEDmk7cOV0Na",
        "outputId": "7e527286-b5bb-47b0-a97c-f5559109e49b"
      },
      "execution_count": 20,
      "outputs": [
        {
          "output_type": "stream",
          "name": "stdout",
          "text": [
            "\n",
            "Información del DataFrame:\n",
            "<class 'pandas.core.frame.DataFrame'>\n",
            "Index: 43595 entries, 0 to 43739\n",
            "Data columns (total 15 columns):\n",
            " #   Column           Non-Null Count  Dtype \n",
            "---  ------           --------------  ----- \n",
            " 0   Agent_Age        43595 non-null  object\n",
            " 1   Agent_Rating     43595 non-null  object\n",
            " 2   Store_Latitude   43595 non-null  object\n",
            " 3   Store_Longitude  43595 non-null  object\n",
            " 4   Drop_Latitude    43595 non-null  object\n",
            " 5   Drop_Longitude   43595 non-null  object\n",
            " 6   Order_Date       43595 non-null  object\n",
            " 7   Order_Time       43595 non-null  object\n",
            " 8   Pickup_Time      43595 non-null  object\n",
            " 9   Weather          43595 non-null  object\n",
            " 10  Traffic          43595 non-null  object\n",
            " 11  Vehicle          43595 non-null  object\n",
            " 12  Area             43595 non-null  object\n",
            " 13  Delivery_Time    43595 non-null  object\n",
            " 14  Category         43595 non-null  object\n",
            "dtypes: object(15)\n",
            "memory usage: 5.3+ MB\n",
            "None\n"
          ]
        }
      ]
    },
    {
      "cell_type": "markdown",
      "source": [
        "# Preparación del Data Frame para Gráficos"
      ],
      "metadata": {
        "id": "2IeDygt5W64n"
      }
    },
    {
      "cell_type": "code",
      "source": [
        "plt.style.use('ggplot')"
      ],
      "metadata": {
        "id": "zzOMUiqoV5hF"
      },
      "execution_count": 21,
      "outputs": []
    },
    {
      "cell_type": "code",
      "source": [
        "df_temp = df_cleaned.copy()\n",
        "df_temp['Traffic'] = df_temp['Traffic'].astype(str).str.strip()  # Asegurar que todos los valores sean cadenas\n",
        "\n",
        "df_temp.head()"
      ],
      "metadata": {
        "colab": {
          "base_uri": "https://localhost:8080/",
          "height": 206
        },
        "id": "SnDjX3SoTGdX",
        "outputId": "344e752f-cc89-4896-c137-241139d88734"
      },
      "execution_count": 36,
      "outputs": [
        {
          "output_type": "execute_result",
          "data": {
            "text/plain": [
              "   Agent_Age  Agent_Rating  Store_Latitude  Store_Longitude  Drop_Latitude  \\\n",
              "0  Agent_Age  Agent_Rating  Store_Latitude  Store_Longitude  Drop_Latitude   \n",
              "1         37           4.9       22.745049        75.892471      22.765049   \n",
              "2         34           4.5       12.913041        77.683237      13.043041   \n",
              "3         23           4.4       12.914264          77.6784      12.924264   \n",
              "4         38           4.7       11.003669        76.976494      11.053669   \n",
              "\n",
              "   Drop_Longitude  Order_Date  Order_Time  Pickup_Time     Weather  Traffic  \\\n",
              "0  Drop_Longitude  Order_Date  Order_Time  Pickup_Time     Weather  Traffic   \n",
              "1       75.912471  2022-03-19    11:30:00     11:45:00       Sunny     High   \n",
              "2       77.813237  2022-03-25    19:45:00     19:50:00      Stormy      Jam   \n",
              "3         77.6884  2022-03-19    08:30:00     08:45:00  Sandstorms      Low   \n",
              "4       77.026494  2022-04-05    18:00:00     18:10:00       Sunny   Medium   \n",
              "\n",
              "       Vehicle            Area  Delivery_Time     Category  \n",
              "0      Vehicle            Area  Delivery_Time     Category  \n",
              "1  motorcycle           Urban             120     Clothing  \n",
              "2     scooter   Metropolitian             165  Electronics  \n",
              "3  motorcycle           Urban             130       Sports  \n",
              "4  motorcycle   Metropolitian             105    Cosmetics  "
            ],
            "text/html": [
              "\n",
              "  <div id=\"df-2a5852d0-9d5f-4569-a9ac-b88c744d7881\" class=\"colab-df-container\">\n",
              "    <div>\n",
              "<style scoped>\n",
              "    .dataframe tbody tr th:only-of-type {\n",
              "        vertical-align: middle;\n",
              "    }\n",
              "\n",
              "    .dataframe tbody tr th {\n",
              "        vertical-align: top;\n",
              "    }\n",
              "\n",
              "    .dataframe thead th {\n",
              "        text-align: right;\n",
              "    }\n",
              "</style>\n",
              "<table border=\"1\" class=\"dataframe\">\n",
              "  <thead>\n",
              "    <tr style=\"text-align: right;\">\n",
              "      <th></th>\n",
              "      <th>Agent_Age</th>\n",
              "      <th>Agent_Rating</th>\n",
              "      <th>Store_Latitude</th>\n",
              "      <th>Store_Longitude</th>\n",
              "      <th>Drop_Latitude</th>\n",
              "      <th>Drop_Longitude</th>\n",
              "      <th>Order_Date</th>\n",
              "      <th>Order_Time</th>\n",
              "      <th>Pickup_Time</th>\n",
              "      <th>Weather</th>\n",
              "      <th>Traffic</th>\n",
              "      <th>Vehicle</th>\n",
              "      <th>Area</th>\n",
              "      <th>Delivery_Time</th>\n",
              "      <th>Category</th>\n",
              "    </tr>\n",
              "  </thead>\n",
              "  <tbody>\n",
              "    <tr>\n",
              "      <th>0</th>\n",
              "      <td>Agent_Age</td>\n",
              "      <td>Agent_Rating</td>\n",
              "      <td>Store_Latitude</td>\n",
              "      <td>Store_Longitude</td>\n",
              "      <td>Drop_Latitude</td>\n",
              "      <td>Drop_Longitude</td>\n",
              "      <td>Order_Date</td>\n",
              "      <td>Order_Time</td>\n",
              "      <td>Pickup_Time</td>\n",
              "      <td>Weather</td>\n",
              "      <td>Traffic</td>\n",
              "      <td>Vehicle</td>\n",
              "      <td>Area</td>\n",
              "      <td>Delivery_Time</td>\n",
              "      <td>Category</td>\n",
              "    </tr>\n",
              "    <tr>\n",
              "      <th>1</th>\n",
              "      <td>37</td>\n",
              "      <td>4.9</td>\n",
              "      <td>22.745049</td>\n",
              "      <td>75.892471</td>\n",
              "      <td>22.765049</td>\n",
              "      <td>75.912471</td>\n",
              "      <td>2022-03-19</td>\n",
              "      <td>11:30:00</td>\n",
              "      <td>11:45:00</td>\n",
              "      <td>Sunny</td>\n",
              "      <td>High</td>\n",
              "      <td>motorcycle</td>\n",
              "      <td>Urban</td>\n",
              "      <td>120</td>\n",
              "      <td>Clothing</td>\n",
              "    </tr>\n",
              "    <tr>\n",
              "      <th>2</th>\n",
              "      <td>34</td>\n",
              "      <td>4.5</td>\n",
              "      <td>12.913041</td>\n",
              "      <td>77.683237</td>\n",
              "      <td>13.043041</td>\n",
              "      <td>77.813237</td>\n",
              "      <td>2022-03-25</td>\n",
              "      <td>19:45:00</td>\n",
              "      <td>19:50:00</td>\n",
              "      <td>Stormy</td>\n",
              "      <td>Jam</td>\n",
              "      <td>scooter</td>\n",
              "      <td>Metropolitian</td>\n",
              "      <td>165</td>\n",
              "      <td>Electronics</td>\n",
              "    </tr>\n",
              "    <tr>\n",
              "      <th>3</th>\n",
              "      <td>23</td>\n",
              "      <td>4.4</td>\n",
              "      <td>12.914264</td>\n",
              "      <td>77.6784</td>\n",
              "      <td>12.924264</td>\n",
              "      <td>77.6884</td>\n",
              "      <td>2022-03-19</td>\n",
              "      <td>08:30:00</td>\n",
              "      <td>08:45:00</td>\n",
              "      <td>Sandstorms</td>\n",
              "      <td>Low</td>\n",
              "      <td>motorcycle</td>\n",
              "      <td>Urban</td>\n",
              "      <td>130</td>\n",
              "      <td>Sports</td>\n",
              "    </tr>\n",
              "    <tr>\n",
              "      <th>4</th>\n",
              "      <td>38</td>\n",
              "      <td>4.7</td>\n",
              "      <td>11.003669</td>\n",
              "      <td>76.976494</td>\n",
              "      <td>11.053669</td>\n",
              "      <td>77.026494</td>\n",
              "      <td>2022-04-05</td>\n",
              "      <td>18:00:00</td>\n",
              "      <td>18:10:00</td>\n",
              "      <td>Sunny</td>\n",
              "      <td>Medium</td>\n",
              "      <td>motorcycle</td>\n",
              "      <td>Metropolitian</td>\n",
              "      <td>105</td>\n",
              "      <td>Cosmetics</td>\n",
              "    </tr>\n",
              "  </tbody>\n",
              "</table>\n",
              "</div>\n",
              "    <div class=\"colab-df-buttons\">\n",
              "\n",
              "  <div class=\"colab-df-container\">\n",
              "    <button class=\"colab-df-convert\" onclick=\"convertToInteractive('df-2a5852d0-9d5f-4569-a9ac-b88c744d7881')\"\n",
              "            title=\"Convert this dataframe to an interactive table.\"\n",
              "            style=\"display:none;\">\n",
              "\n",
              "  <svg xmlns=\"http://www.w3.org/2000/svg\" height=\"24px\" viewBox=\"0 -960 960 960\">\n",
              "    <path d=\"M120-120v-720h720v720H120Zm60-500h600v-160H180v160Zm220 220h160v-160H400v160Zm0 220h160v-160H400v160ZM180-400h160v-160H180v160Zm440 0h160v-160H620v160ZM180-180h160v-160H180v160Zm440 0h160v-160H620v160Z\"/>\n",
              "  </svg>\n",
              "    </button>\n",
              "\n",
              "  <style>\n",
              "    .colab-df-container {\n",
              "      display:flex;\n",
              "      gap: 12px;\n",
              "    }\n",
              "\n",
              "    .colab-df-convert {\n",
              "      background-color: #E8F0FE;\n",
              "      border: none;\n",
              "      border-radius: 50%;\n",
              "      cursor: pointer;\n",
              "      display: none;\n",
              "      fill: #1967D2;\n",
              "      height: 32px;\n",
              "      padding: 0 0 0 0;\n",
              "      width: 32px;\n",
              "    }\n",
              "\n",
              "    .colab-df-convert:hover {\n",
              "      background-color: #E2EBFA;\n",
              "      box-shadow: 0px 1px 2px rgba(60, 64, 67, 0.3), 0px 1px 3px 1px rgba(60, 64, 67, 0.15);\n",
              "      fill: #174EA6;\n",
              "    }\n",
              "\n",
              "    .colab-df-buttons div {\n",
              "      margin-bottom: 4px;\n",
              "    }\n",
              "\n",
              "    [theme=dark] .colab-df-convert {\n",
              "      background-color: #3B4455;\n",
              "      fill: #D2E3FC;\n",
              "    }\n",
              "\n",
              "    [theme=dark] .colab-df-convert:hover {\n",
              "      background-color: #434B5C;\n",
              "      box-shadow: 0px 1px 3px 1px rgba(0, 0, 0, 0.15);\n",
              "      filter: drop-shadow(0px 1px 2px rgba(0, 0, 0, 0.3));\n",
              "      fill: #FFFFFF;\n",
              "    }\n",
              "  </style>\n",
              "\n",
              "    <script>\n",
              "      const buttonEl =\n",
              "        document.querySelector('#df-2a5852d0-9d5f-4569-a9ac-b88c744d7881 button.colab-df-convert');\n",
              "      buttonEl.style.display =\n",
              "        google.colab.kernel.accessAllowed ? 'block' : 'none';\n",
              "\n",
              "      async function convertToInteractive(key) {\n",
              "        const element = document.querySelector('#df-2a5852d0-9d5f-4569-a9ac-b88c744d7881');\n",
              "        const dataTable =\n",
              "          await google.colab.kernel.invokeFunction('convertToInteractive',\n",
              "                                                    [key], {});\n",
              "        if (!dataTable) return;\n",
              "\n",
              "        const docLinkHtml = 'Like what you see? Visit the ' +\n",
              "          '<a target=\"_blank\" href=https://colab.research.google.com/notebooks/data_table.ipynb>data table notebook</a>'\n",
              "          + ' to learn more about interactive tables.';\n",
              "        element.innerHTML = '';\n",
              "        dataTable['output_type'] = 'display_data';\n",
              "        await google.colab.output.renderOutput(dataTable, element);\n",
              "        const docLink = document.createElement('div');\n",
              "        docLink.innerHTML = docLinkHtml;\n",
              "        element.appendChild(docLink);\n",
              "      }\n",
              "    </script>\n",
              "  </div>\n",
              "\n",
              "\n",
              "<div id=\"df-0fe740f2-7764-4ce7-93fd-3809aa33d980\">\n",
              "  <button class=\"colab-df-quickchart\" onclick=\"quickchart('df-0fe740f2-7764-4ce7-93fd-3809aa33d980')\"\n",
              "            title=\"Suggest charts\"\n",
              "            style=\"display:none;\">\n",
              "\n",
              "<svg xmlns=\"http://www.w3.org/2000/svg\" height=\"24px\"viewBox=\"0 0 24 24\"\n",
              "     width=\"24px\">\n",
              "    <g>\n",
              "        <path d=\"M19 3H5c-1.1 0-2 .9-2 2v14c0 1.1.9 2 2 2h14c1.1 0 2-.9 2-2V5c0-1.1-.9-2-2-2zM9 17H7v-7h2v7zm4 0h-2V7h2v10zm4 0h-2v-4h2v4z\"/>\n",
              "    </g>\n",
              "</svg>\n",
              "  </button>\n",
              "\n",
              "<style>\n",
              "  .colab-df-quickchart {\n",
              "      --bg-color: #E8F0FE;\n",
              "      --fill-color: #1967D2;\n",
              "      --hover-bg-color: #E2EBFA;\n",
              "      --hover-fill-color: #174EA6;\n",
              "      --disabled-fill-color: #AAA;\n",
              "      --disabled-bg-color: #DDD;\n",
              "  }\n",
              "\n",
              "  [theme=dark] .colab-df-quickchart {\n",
              "      --bg-color: #3B4455;\n",
              "      --fill-color: #D2E3FC;\n",
              "      --hover-bg-color: #434B5C;\n",
              "      --hover-fill-color: #FFFFFF;\n",
              "      --disabled-bg-color: #3B4455;\n",
              "      --disabled-fill-color: #666;\n",
              "  }\n",
              "\n",
              "  .colab-df-quickchart {\n",
              "    background-color: var(--bg-color);\n",
              "    border: none;\n",
              "    border-radius: 50%;\n",
              "    cursor: pointer;\n",
              "    display: none;\n",
              "    fill: var(--fill-color);\n",
              "    height: 32px;\n",
              "    padding: 0;\n",
              "    width: 32px;\n",
              "  }\n",
              "\n",
              "  .colab-df-quickchart:hover {\n",
              "    background-color: var(--hover-bg-color);\n",
              "    box-shadow: 0 1px 2px rgba(60, 64, 67, 0.3), 0 1px 3px 1px rgba(60, 64, 67, 0.15);\n",
              "    fill: var(--button-hover-fill-color);\n",
              "  }\n",
              "\n",
              "  .colab-df-quickchart-complete:disabled,\n",
              "  .colab-df-quickchart-complete:disabled:hover {\n",
              "    background-color: var(--disabled-bg-color);\n",
              "    fill: var(--disabled-fill-color);\n",
              "    box-shadow: none;\n",
              "  }\n",
              "\n",
              "  .colab-df-spinner {\n",
              "    border: 2px solid var(--fill-color);\n",
              "    border-color: transparent;\n",
              "    border-bottom-color: var(--fill-color);\n",
              "    animation:\n",
              "      spin 1s steps(1) infinite;\n",
              "  }\n",
              "\n",
              "  @keyframes spin {\n",
              "    0% {\n",
              "      border-color: transparent;\n",
              "      border-bottom-color: var(--fill-color);\n",
              "      border-left-color: var(--fill-color);\n",
              "    }\n",
              "    20% {\n",
              "      border-color: transparent;\n",
              "      border-left-color: var(--fill-color);\n",
              "      border-top-color: var(--fill-color);\n",
              "    }\n",
              "    30% {\n",
              "      border-color: transparent;\n",
              "      border-left-color: var(--fill-color);\n",
              "      border-top-color: var(--fill-color);\n",
              "      border-right-color: var(--fill-color);\n",
              "    }\n",
              "    40% {\n",
              "      border-color: transparent;\n",
              "      border-right-color: var(--fill-color);\n",
              "      border-top-color: var(--fill-color);\n",
              "    }\n",
              "    60% {\n",
              "      border-color: transparent;\n",
              "      border-right-color: var(--fill-color);\n",
              "    }\n",
              "    80% {\n",
              "      border-color: transparent;\n",
              "      border-right-color: var(--fill-color);\n",
              "      border-bottom-color: var(--fill-color);\n",
              "    }\n",
              "    90% {\n",
              "      border-color: transparent;\n",
              "      border-bottom-color: var(--fill-color);\n",
              "    }\n",
              "  }\n",
              "</style>\n",
              "\n",
              "  <script>\n",
              "    async function quickchart(key) {\n",
              "      const quickchartButtonEl =\n",
              "        document.querySelector('#' + key + ' button');\n",
              "      quickchartButtonEl.disabled = true;  // To prevent multiple clicks.\n",
              "      quickchartButtonEl.classList.add('colab-df-spinner');\n",
              "      try {\n",
              "        const charts = await google.colab.kernel.invokeFunction(\n",
              "            'suggestCharts', [key], {});\n",
              "      } catch (error) {\n",
              "        console.error('Error during call to suggestCharts:', error);\n",
              "      }\n",
              "      quickchartButtonEl.classList.remove('colab-df-spinner');\n",
              "      quickchartButtonEl.classList.add('colab-df-quickchart-complete');\n",
              "    }\n",
              "    (() => {\n",
              "      let quickchartButtonEl =\n",
              "        document.querySelector('#df-0fe740f2-7764-4ce7-93fd-3809aa33d980 button');\n",
              "      quickchartButtonEl.style.display =\n",
              "        google.colab.kernel.accessAllowed ? 'block' : 'none';\n",
              "    })();\n",
              "  </script>\n",
              "</div>\n",
              "\n",
              "    </div>\n",
              "  </div>\n"
            ],
            "application/vnd.google.colaboratory.intrinsic+json": {
              "type": "dataframe",
              "variable_name": "df_temp",
              "summary": "{\n  \"name\": \"df_temp\",\n  \"rows\": 43595,\n  \"fields\": [\n    {\n      \"column\": \"Agent_Age\",\n      \"properties\": {\n        \"dtype\": \"category\",\n        \"num_unique_values\": 41,\n        \"samples\": [\n          29,\n          \"25\",\n          \"35\"\n        ],\n        \"semantic_type\": \"\",\n        \"description\": \"\"\n      }\n    },\n    {\n      \"column\": \"Agent_Rating\",\n      \"properties\": {\n        \"dtype\": \"category\",\n        \"num_unique_values\": 53,\n        \"samples\": [\n          \"3.1\",\n          3.6,\n          2.5\n        ],\n        \"semantic_type\": \"\",\n        \"description\": \"\"\n      }\n    },\n    {\n      \"column\": \"Store_Latitude\",\n      \"properties\": {\n        \"dtype\": \"category\",\n        \"num_unique_values\": 894,\n        \"samples\": [\n          18.994237,\n          \"-22.538731\",\n          12.98041\n        ],\n        \"semantic_type\": \"\",\n        \"description\": \"\"\n      }\n    },\n    {\n      \"column\": \"Store_Longitude\",\n      \"properties\": {\n        \"dtype\": \"category\",\n        \"num_unique_values\": 779,\n        \"samples\": [\n          78.385883,\n          78.04725,\n          72.768778\n        ],\n        \"semantic_type\": \"\",\n        \"description\": \"\"\n      }\n    },\n    {\n      \"column\": \"Drop_Latitude\",\n      \"properties\": {\n        \"dtype\": \"category\",\n        \"num_unique_values\": 7845,\n        \"samples\": [\n          13.060221,\n          \"11.010762\",\n          \"15.624419\"\n        ],\n        \"semantic_type\": \"\",\n        \"description\": \"\"\n      }\n    },\n    {\n      \"column\": \"Drop_Longitude\",\n      \"properties\": {\n        \"dtype\": \"category\",\n        \"num_unique_values\": 7845,\n        \"samples\": [\n          77.735396,\n          \"76.991876\",\n          \"73.835736\"\n        ],\n        \"semantic_type\": \"\",\n        \"description\": \"\"\n      }\n    },\n    {\n      \"column\": \"Order_Date\",\n      \"properties\": {\n        \"dtype\": \"category\",\n        \"num_unique_values\": 45,\n        \"samples\": [\n          \"2022-02-18\",\n          \"2022-03-28\",\n          \"2022-03-18\"\n        ],\n        \"semantic_type\": \"\",\n        \"description\": \"\"\n      }\n    },\n    {\n      \"column\": \"Order_Time\",\n      \"properties\": {\n        \"dtype\": \"category\",\n        \"num_unique_values\": 177,\n        \"samples\": [\n          \"20:20:00\",\n          \"22:10:00\",\n          \"17:35:00\"\n        ],\n        \"semantic_type\": \"\",\n        \"description\": \"\"\n      }\n    },\n    {\n      \"column\": \"Pickup_Time\",\n      \"properties\": {\n        \"dtype\": \"category\",\n        \"num_unique_values\": 194,\n        \"samples\": [\n          \"19:35:00\",\n          \"15:10:00\",\n          \"08:35:00\"\n        ],\n        \"semantic_type\": \"\",\n        \"description\": \"\"\n      }\n    },\n    {\n      \"column\": \"Weather\",\n      \"properties\": {\n        \"dtype\": \"category\",\n        \"num_unique_values\": 7,\n        \"samples\": [\n          \"Weather\",\n          \"Sunny\",\n          \"Fog\"\n        ],\n        \"semantic_type\": \"\",\n        \"description\": \"\"\n      }\n    },\n    {\n      \"column\": \"Traffic\",\n      \"properties\": {\n        \"dtype\": \"category\",\n        \"num_unique_values\": 5,\n        \"samples\": [\n          \"High\",\n          \"Medium\",\n          \"Jam\"\n        ],\n        \"semantic_type\": \"\",\n        \"description\": \"\"\n      }\n    },\n    {\n      \"column\": \"Vehicle\",\n      \"properties\": {\n        \"dtype\": \"category\",\n        \"num_unique_values\": 4,\n        \"samples\": [\n          \"motorcycle \",\n          \"van\",\n          \"Vehicle\"\n        ],\n        \"semantic_type\": \"\",\n        \"description\": \"\"\n      }\n    },\n    {\n      \"column\": \"Area\",\n      \"properties\": {\n        \"dtype\": \"category\",\n        \"num_unique_values\": 5,\n        \"samples\": [\n          \"Urban \",\n          \"Other\",\n          \"Metropolitian \"\n        ],\n        \"semantic_type\": \"\",\n        \"description\": \"\"\n      }\n    },\n    {\n      \"column\": \"Delivery_Time\",\n      \"properties\": {\n        \"dtype\": \"category\",\n        \"num_unique_values\": 178,\n        \"samples\": [\n          \"235\",\n          \"240\",\n          30\n        ],\n        \"semantic_type\": \"\",\n        \"description\": \"\"\n      }\n    },\n    {\n      \"column\": \"Category\",\n      \"properties\": {\n        \"dtype\": \"category\",\n        \"num_unique_values\": 17,\n        \"samples\": [\n          \"Category\",\n          \"Clothing\",\n          \"Toys\"\n        ],\n        \"semantic_type\": \"\",\n        \"description\": \"\"\n      }\n    }\n  ]\n}"
            }
          },
          "metadata": {},
          "execution_count": 36
        }
      ]
    },
    {
      "cell_type": "code",
      "source": [
        "df_cleaned['Traffic'] = df_cleaned['Traffic'].astype(str)\n",
        "\n"
      ],
      "metadata": {
        "colab": {
          "base_uri": "https://localhost:8080/"
        },
        "id": "9L9up4r4b0qx",
        "outputId": "1c8d0aad-9af4-4a4f-872d-4f1b54240d01"
      },
      "execution_count": 39,
      "outputs": [
        {
          "output_type": "stream",
          "name": "stderr",
          "text": [
            "<ipython-input-39-8430aa05cad6>:1: SettingWithCopyWarning: \n",
            "A value is trying to be set on a copy of a slice from a DataFrame.\n",
            "Try using .loc[row_indexer,col_indexer] = value instead\n",
            "\n",
            "See the caveats in the documentation: https://pandas.pydata.org/pandas-docs/stable/user_guide/indexing.html#returning-a-view-versus-a-copy\n",
            "  df_cleaned['Traffic'] = df_cleaned['Traffic'].astype(str)\n"
          ]
        }
      ]
    },
    {
      "cell_type": "code",
      "source": [
        "#Revisar los valores únicos en la columna 'Traffic'\n",
        "print(\"Valores únicos en 'Traffic' antes de la conversión:\")\n",
        "print(df_cleaned['Traffic'].unique())\n"
      ],
      "metadata": {
        "colab": {
          "base_uri": "https://localhost:8080/"
        },
        "collapsed": true,
        "id": "1aHjsEg4dYXK",
        "outputId": "89dd5d99-691c-4632-f94f-6ddfe11db6f1"
      },
      "execution_count": 44,
      "outputs": [
        {
          "output_type": "stream",
          "name": "stdout",
          "text": [
            "Valores únicos en 'Traffic' antes de la conversión:\n",
            "['Traffic' 'High' 'Jam' 'Low' 'Medium']\n"
          ]
        }
      ]
    },
    {
      "cell_type": "code",
      "source": [
        "# Verificar valores únicos en 'Traffic'\n",
        "print(\"Valores únicos en 'Traffic':\")\n",
        "print(df_cleaned['Traffic'].unique())"
      ],
      "metadata": {
        "colab": {
          "base_uri": "https://localhost:8080/"
        },
        "id": "qxGqjIAdfRZd",
        "outputId": "1af3b0d8-3e6e-462f-9972-8bbb6fa66b60"
      },
      "execution_count": 47,
      "outputs": [
        {
          "output_type": "stream",
          "name": "stdout",
          "text": [
            "Valores únicos en 'Traffic':\n",
            "['Traffic' 'High' 'Jam' 'Low' 'Medium']\n"
          ]
        }
      ]
    },
    {
      "cell_type": "code",
      "source": [
        "# Verificar si hay valores nulos\n",
        "print(\"\\nValores nulos en 'Traffic':\")\n",
        "print(df_cleaned['Traffic'].isnull().sum())"
      ],
      "metadata": {
        "colab": {
          "base_uri": "https://localhost:8080/"
        },
        "id": "CwBNknsBfWx7",
        "outputId": "0cf1210f-77db-47d6-cb2c-07c104edfd5e"
      },
      "execution_count": 48,
      "outputs": [
        {
          "output_type": "stream",
          "name": "stdout",
          "text": [
            "\n",
            "Valores nulos en 'Traffic':\n",
            "0\n"
          ]
        }
      ]
    },
    {
      "cell_type": "code",
      "source": [
        "# Revisar el tipo de datos de la columna\n",
        "print(\"\\nTipo de datos de 'Traffic':\", df_cleaned['Traffic'].dtype)"
      ],
      "metadata": {
        "colab": {
          "base_uri": "https://localhost:8080/"
        },
        "id": "HM648jGFfYpR",
        "outputId": "b3c180ef-8410-4623-8da0-9a9e8017607c"
      },
      "execution_count": 49,
      "outputs": [
        {
          "output_type": "stream",
          "name": "stdout",
          "text": [
            "\n",
            "Tipo de datos de 'Traffic': object\n"
          ]
        }
      ]
    },
    {
      "cell_type": "code",
      "source": [
        "# Opcional: Reemplazar valores nulos o inconsistentes con 'Unknown'\n",
        "df_cleaned['Traffic'] = df_cleaned['Traffic'].replace(['nan', 'None', 'NaN'], 'Unknown')\n"
      ],
      "metadata": {
        "colab": {
          "base_uri": "https://localhost:8080/"
        },
        "id": "LC0IUtwAfec6",
        "outputId": "6c5ea438-799e-46ea-891f-f2521b1de050"
      },
      "execution_count": 51,
      "outputs": [
        {
          "output_type": "stream",
          "name": "stderr",
          "text": [
            "<ipython-input-51-c0e7936920f1>:2: SettingWithCopyWarning: \n",
            "A value is trying to be set on a copy of a slice from a DataFrame.\n",
            "Try using .loc[row_indexer,col_indexer] = value instead\n",
            "\n",
            "See the caveats in the documentation: https://pandas.pydata.org/pandas-docs/stable/user_guide/indexing.html#returning-a-view-versus-a-copy\n",
            "  df_cleaned['Traffic'] = df_cleaned['Traffic'].replace(['nan', 'None', 'NaN'], 'Unknown')\n"
          ]
        }
      ]
    },
    {
      "cell_type": "code",
      "source": [
        "# Usar .loc para realizar cambios de manera explícita\n",
        "df_cleaned.loc[:, 'Traffic'] = df_cleaned['Traffic'].replace(['nan', 'None', 'NaN'], 'Unknown')"
      ],
      "metadata": {
        "id": "mMiArc-kfvPy"
      },
      "execution_count": 52,
      "outputs": []
    },
    {
      "cell_type": "code",
      "source": [
        "# Verificar valores únicos después de limpieza\n",
        "print(\"Valores únicos en 'Traffic' después de limpieza:\")\n",
        "print(df_cleaned['Traffic'].unique())"
      ],
      "metadata": {
        "colab": {
          "base_uri": "https://localhost:8080/"
        },
        "id": "sx8t1fyngAAa",
        "outputId": "f7367241-9709-4144-dbc8-deeb0d5ac554"
      },
      "execution_count": 53,
      "outputs": [
        {
          "output_type": "stream",
          "name": "stdout",
          "text": [
            "Valores únicos en 'Traffic' después de limpieza:\n",
            "['Traffic' 'High' 'Jam' 'Low' 'Medium']\n"
          ]
        }
      ]
    },
    {
      "cell_type": "code",
      "source": [
        "print(df_cleaned['Traffic'].value_counts())  # Revisar categorías de tráfico\n",
        "print(df_cleaned['Delivery_Time'].describe())  # Verificar los valores de tiempo de entrega\n"
      ],
      "metadata": {
        "colab": {
          "base_uri": "https://localhost:8080/"
        },
        "id": "3c3GCOh-hhwC",
        "outputId": "8ba8c0a7-4295-4ff2-eeb4-5a4a8560d9a0"
      },
      "execution_count": 62,
      "outputs": [
        {
          "output_type": "stream",
          "name": "stdout",
          "text": [
            "Traffic\n",
            "Low        14976\n",
            "Jam        13710\n",
            "Medium     10614\n",
            "High        4294\n",
            "Traffic        1\n",
            "Name: count, dtype: int64\n",
            "count     43595\n",
            "unique      178\n",
            "top         130\n",
            "freq       1424\n",
            "Name: Delivery_Time, dtype: object\n"
          ]
        }
      ]
    },
    {
      "cell_type": "code",
      "source": [
        "# Reemplazar el valor inválido en 'Traffic' con 'Unknown'\n",
        "df_cleaned.loc[:, 'Traffic'] = df_cleaned['Traffic'].replace('Traffic', 'Unknown')\n",
        "\n",
        "# Verificar nuevamente los valores únicos\n",
        "print(\"Valores únicos en 'Traffic' después de limpieza:\")\n",
        "print(df_cleaned['Traffic'].unique())"
      ],
      "metadata": {
        "colab": {
          "base_uri": "https://localhost:8080/"
        },
        "id": "rf6O8dVjiBbp",
        "outputId": "e8102f45-e9f7-4e85-c6d3-e114a04757cd"
      },
      "execution_count": 64,
      "outputs": [
        {
          "output_type": "stream",
          "name": "stdout",
          "text": [
            "Valores únicos en 'Traffic' después de limpieza:\n",
            "['Unknown' 'High' 'Jam' 'Low' 'Medium']\n"
          ]
        }
      ]
    },
    {
      "cell_type": "code",
      "source": [
        "# Convertir 'Delivery_Time' a formato numérico\n",
        "df_cleaned.loc[:, 'Delivery_Time'] = pd.to_numeric(df_cleaned['Delivery_Time'], errors='coerce')"
      ],
      "metadata": {
        "id": "lEtBIvUOiXCl"
      },
      "execution_count": 65,
      "outputs": []
    },
    {
      "cell_type": "code",
      "source": [
        "# Eliminar filas con valores NaN en 'Delivery_Time'\n",
        "df_cleaned = df_cleaned.dropna(subset=['Delivery_Time'])\n",
        "\n",
        "\n"
      ],
      "metadata": {
        "id": "Xd3B_q4IiaXq"
      },
      "execution_count": 66,
      "outputs": []
    },
    {
      "cell_type": "code",
      "source": [
        "# Asegurarse de que 'Agent_Rating' y 'Delivery_Time' sean numéricos\n",
        "df_cleaned['Agent_Rating'] = pd.to_numeric(df_cleaned['Agent_Rating'], errors='coerce')\n",
        "df_cleaned['Delivery_Time'] = pd.to_numeric(df_cleaned['Delivery_Time'], errors='coerce')"
      ],
      "metadata": {
        "id": "e6EZ8LjKvLj2"
      },
      "execution_count": 86,
      "outputs": []
    },
    {
      "cell_type": "code",
      "source": [
        "# Eliminar filas con valores NaN en estas columnas\n",
        "df_cleaned = df_cleaned.dropna(subset=['Agent_Rating', 'Delivery_Time'])"
      ],
      "metadata": {
        "id": "1J4evYcZx9hU"
      },
      "execution_count": 87,
      "outputs": []
    },
    {
      "cell_type": "code",
      "source": [
        "# Asegurarse de que 'Agent_Rating' y 'Delivery_Time' sean numéricos\n",
        "df_cleaned['Agent_Rating'] = pd.to_numeric(df_cleaned['Agent_Rating'], errors='coerce')\n",
        "df_cleaned['Delivery_Time'] = pd.to_numeric(df_cleaned['Delivery_Time'], errors='coerce')"
      ],
      "metadata": {
        "id": "fvg_Je3xyDT3"
      },
      "execution_count": 88,
      "outputs": []
    },
    {
      "cell_type": "code",
      "source": [
        "# Función para calcular la distancia geográfica\n",
        "def calculate_distance(row):\n",
        "    try:\n",
        "        # Coordenadas de inicio y fin\n",
        "        start = (row['Store_Latitude'], row['Store_Longitude'])\n",
        "        end = (row['Drop_Latitude'], row['Drop_Longitude'])\n",
        "        return geodesic(start, end).km  # Retorna la distancia en kilómetros\n",
        "    except ValueError:\n",
        "        return None  # En caso de datos inválidos, retorna None"
      ],
      "metadata": {
        "id": "1ZHn-3oByOEi"
      },
      "execution_count": 89,
      "outputs": []
    },
    {
      "cell_type": "code",
      "source": [
        "# Eliminar filas con valores NaN en estas columnas\n",
        "df_cleaned = df_cleaned.dropna(subset=['Agent_Rating', 'Delivery_Time'])"
      ],
      "metadata": {
        "id": "w0OzXiKTyUKl"
      },
      "execution_count": 90,
      "outputs": []
    },
    {
      "cell_type": "code",
      "source": [
        "# Conversión de columnas de latitud y longitud a valores numéricos\n",
        "columns_to_convert = ['Store_Latitude', 'Store_Longitude', 'Drop_Latitude', 'Drop_Longitude']\n",
        "for col in columns_to_convert:\n",
        "    df_cleaned[col] = pd.to_numeric(df_cleaned[col], errors='coerce')"
      ],
      "metadata": {
        "id": "Oc8CFRk7zHBB"
      },
      "execution_count": 92,
      "outputs": []
    },
    {
      "cell_type": "code",
      "source": [
        "# Función para calcular la distancia\n",
        "def calculate_distance(row):\n",
        "    try:\n",
        "        start = (row['Store_Latitude'], row['Store_Longitude'])\n",
        "        end = (row['Drop_Latitude'], row['Drop_Longitude'])\n",
        "        return geodesic(start, end).km  # Distancia en kilómetros\n",
        "    except ValueError:\n",
        "        return None"
      ],
      "metadata": {
        "id": "IzisQUvQzREL"
      },
      "execution_count": 93,
      "outputs": []
    },
    {
      "cell_type": "code",
      "source": [
        "# Aplicar la función para calcular la distancia\n",
        "df_cleaned['Distance'] = df_cleaned.apply(calculate_distance, axis=1)"
      ],
      "metadata": {
        "id": "kGwVVKoszWYY"
      },
      "execution_count": 94,
      "outputs": []
    },
    {
      "cell_type": "code",
      "source": [
        "# Eliminar filas con valores NaN en 'Distance' o 'Delivery_Time'\n",
        "df_cleaned = df_cleaned.dropna(subset=['Distance', 'Delivery_Time'])\n",
        "\n",
        "# Mostrar las primeras filas del DataFrame limpio\n",
        "print(df_cleaned.head())"
      ],
      "metadata": {
        "colab": {
          "base_uri": "https://localhost:8080/"
        },
        "id": "ZTpVKzV9zbpq",
        "outputId": "f2963daa-f498-43e1-d07d-ee936e45ac4e"
      },
      "execution_count": 95,
      "outputs": [
        {
          "output_type": "stream",
          "name": "stdout",
          "text": [
            "  Agent_Age  Agent_Rating  Store_Latitude  Store_Longitude  Drop_Latitude  \\\n",
            "1        37           4.9       22.745049        75.892471      22.765049   \n",
            "2        34           4.5       12.913041        77.683237      13.043041   \n",
            "3        23           4.4       12.914264        77.678400      12.924264   \n",
            "4        38           4.7       11.003669        76.976494      11.053669   \n",
            "5        32           4.6       12.972793        80.249982      13.012793   \n",
            "\n",
            "   Drop_Longitude  Order_Date Order_Time Pickup_Time     Weather Traffic  \\\n",
            "1       75.912471  2022-03-19   11:30:00    11:45:00       Sunny    High   \n",
            "2       77.813237  2022-03-25   19:45:00    19:50:00      Stormy     Jam   \n",
            "3       77.688400  2022-03-19   08:30:00    08:45:00  Sandstorms     Low   \n",
            "4       77.026494  2022-04-05   18:00:00    18:10:00       Sunny  Medium   \n",
            "5       80.289982  2022-03-26   13:30:00    13:45:00      Cloudy    High   \n",
            "\n",
            "       Vehicle            Area  Delivery_Time     Category   Distance  \n",
            "1  motorcycle           Urban           120.0     Clothing   3.020737  \n",
            "2     scooter   Metropolitian           165.0  Electronics  20.143737  \n",
            "3  motorcycle           Urban           130.0       Sports   1.549693  \n",
            "4  motorcycle   Metropolitian           105.0    Cosmetics   7.774497  \n",
            "5     scooter   Metropolitian           150.0         Toys   6.197898  \n"
          ]
        }
      ]
    },
    {
      "cell_type": "code",
      "source": [],
      "metadata": {
        "id": "V0cePExGzdFD"
      },
      "execution_count": null,
      "outputs": []
    },
    {
      "cell_type": "markdown",
      "source": [
        "#Análisis y Visualización\n",
        "**Conclusiones y Recomendacionespor gráfico**\n",
        "\n",
        "\n",
        "\n"
      ],
      "metadata": {
        "id": "ObK_qlqgrxXx"
      }
    },
    {
      "cell_type": "markdown",
      "source": [
        "#1- Distribución del tiempo de entrega por tráfico\n",
        "\n"
      ],
      "metadata": {
        "id": "gf8HJLoXsKp8"
      }
    },
    {
      "cell_type": "code",
      "source": [
        "plt.figure(figsize=(10, 6))\n",
        "sns.barplot(\n",
        "    x='Traffic',\n",
        "    y='Delivery_Time',\n",
        "    data=df_cleaned,\n",
        "    errorbar=None,\n",
        "    palette=\"coolwarm\"\n",
        ")\n",
        "plt.title('Promedio del Tiempo de Entrega según el Tráfico')\n",
        "plt.xlabel('Tráfico')\n",
        "plt.ylabel('Tiempo de Entrega (minutos)')\n",
        "plt.show()"
      ],
      "metadata": {
        "colab": {
          "base_uri": "https://localhost:8080/",
          "height": 661
        },
        "id": "8vi7DKWeiefI",
        "outputId": "80a1e930-59d7-4d11-b489-dba4dd5eb5d2"
      },
      "execution_count": 67,
      "outputs": [
        {
          "output_type": "stream",
          "name": "stderr",
          "text": [
            "<ipython-input-67-7704c07233d2>:2: FutureWarning: \n",
            "\n",
            "Passing `palette` without assigning `hue` is deprecated and will be removed in v0.14.0. Assign the `x` variable to `hue` and set `legend=False` for the same effect.\n",
            "\n",
            "  sns.barplot(\n"
          ]
        },
        {
          "output_type": "display_data",
          "data": {
            "text/plain": [
              "<Figure size 1000x600 with 1 Axes>"
            ],
            "image/png": "[encoded data removed]"
          },
          "metadata": {}
        }
      ]
    },
    {
      "cell_type": "markdown",
      "source": [
        "#Análisis del Gráfico 1: Distribución del Tiempo de Entrega según el Tráfico.\n",
        "\n",
        "**Conclusión**\n",
        "\n",
        "Los tiempos de entrega son más altos y variables en tráfico \"alto\" y \"atascos\". En contraste, tráfico \"bajo\" y \"medio\" presentan tiempos más consistentes y bajos. La congestión del tráfico tiene un impacto significativo en los tiempos de entrega. Las categorías con \"Jam\" y \"High\" tráfico muestran los tiempos de entrega promedio más altos, mientras que \"Low\" tráfico está asociado con tiempos más bajos. Esto refleja cómo la intensidad del tráfico ralentiza las entregas.\n",
        "\n",
        "\n",
        "**Recomendación**  \n",
        "\n",
        "Implementar algoritmos de predicción para optimizar rutas y evitar zonas de tráfico denso.Implementar sistemas de planificación de rutas dinámicos para optimizar las entregas en horarios de menor tráfico."
      ],
      "metadata": {
        "id": "GweL7RR0i5G0"
      }
    },
    {
      "cell_type": "markdown",
      "source": [
        "#2: Impacto del Clima en el Tiempo de Entrega\n"
      ],
      "metadata": {
        "id": "1mJu1n3Qjzqp"
      }
    },
    {
      "cell_type": "code",
      "source": [
        "# Impacto del clima en el tiempo de entrega\n",
        "plt.figure(figsize=(12, 6))\n",
        "sns.boxplot(x='Weather', y='Delivery_Time', data=df_cleaned, palette=\"coolwarm\")\n",
        "plt.title('Impacto del Clima en el Tiempo de Entrega')\n",
        "plt.xlabel('Clima')\n",
        "plt.ylabel('Tiempo de Entrega (minutos)')\n",
        "plt.xticks(rotation=45)\n",
        "plt.show()"
      ],
      "metadata": {
        "colab": {
          "base_uri": "https://localhost:8080/",
          "height": 714
        },
        "id": "T_lgV6sfi6zb",
        "outputId": "ecddb333-449a-4193-99aa-fbc7f695bc03"
      },
      "execution_count": 68,
      "outputs": [
        {
          "output_type": "stream",
          "name": "stderr",
          "text": [
            "<ipython-input-68-28e0a8f9fa5e>:3: FutureWarning: \n",
            "\n",
            "Passing `palette` without assigning `hue` is deprecated and will be removed in v0.14.0. Assign the `x` variable to `hue` and set `legend=False` for the same effect.\n",
            "\n",
            "  sns.boxplot(x='Weather', y='Delivery_Time', data=df_cleaned, palette=\"coolwarm\")\n"
          ]
        },
        {
          "output_type": "display_data",
          "data": {
            "text/plain": [
              "<Figure size 1200x600 with 1 Axes>"
            ],
            "image/png": "[encoded data removed]"
          },
          "metadata": {}
        }
      ]
    },
    {
      "cell_type": "markdown",
      "source": [
        "#Análisis Completado Grafico 2: Impacto del Clima en el Tiempo de Entrega\n",
        "\n",
        "**Conclusión**\n",
        "\n",
        "Los climas adversos, como tormentas y niebla, incrementan significativamente los tiempos de entrega y su variabilidad. Las condiciones soleadas muestran tiempos más rápidos y consistentes.Los climas extremos parecen provocar más retrasos en comparación con condiciones normales.\n",
        "\n",
        " **Recomendación**\n",
        "\n",
        "Establecer políticas flexibles y una comunicación proactiva con los clientes para manejar las expectativas durante climas adversos.Adaptar las rutas y tiempos según las condiciones meteorológicas e incorporar alertas en tiempo real para prever retrasos debido al clima."
      ],
      "metadata": {
        "id": "p4AVKrmgsV-m"
      }
    },
    {
      "cell_type": "markdown",
      "source": [
        "#3: Relación entre la Calificación del Agente y el Tiempo de Entrega\n",
        "\n"
      ],
      "metadata": {
        "id": "6JLQGtrntJp5"
      }
    },
    {
      "cell_type": "code",
      "source": [
        "# Relación entre la calificación del agente y el tiempo de entrega\n",
        "plt.figure(figsize=(12, 6))\n",
        "sns.scatterplot(x='Agent_Rating', y='Delivery_Time', data=df_cleaned, alpha=0.6)\n",
        "plt.title('Relación entre la Calificación del Agente y el Tiempo de Entrega')\n",
        "plt.xlabel('Calificación del Agente')\n",
        "plt.ylabel('Tiempo de Entrega (minutos)')\n",
        "plt.show()"
      ],
      "metadata": {
        "colab": {
          "base_uri": "https://localhost:8080/",
          "height": 571
        },
        "id": "qY9k90RkysHm",
        "outputId": "2bd24371-a8de-4275-ee46-73d62bc794db"
      },
      "execution_count": 91,
      "outputs": [
        {
          "output_type": "display_data",
          "data": {
            "text/plain": [
              "<Figure size 1200x600 with 1 Axes>"
            ],
            "image/png": "[encoded data removed]"
          },
          "metadata": {}
        }
      ]
    },
    {
      "cell_type": "markdown",
      "source": [
        "#Análisis del Gráfico 3: Relación entre la Calificación del Agente y el Tiempo de Entrega.\n",
        "\n",
        "**Conclusión**:   \n",
        "\n",
        "Los agentes con calificaciones más altas presentan tiempos de entrega más consistentes y rápidos, indicando que su experiencia y rendimiento contribuyen directamente a la eficiencia.\n",
        "\n",
        "\n",
        "**Recomendación**:\n",
        "\n",
        " Diseñar programas de capacitación centrados en las mejores prácticas de entrega para fomentar un desempeño sobresaliente."
      ],
      "metadata": {
        "id": "PHcTw4P8uRXk"
      }
    },
    {
      "cell_type": "markdown",
      "source": [
        "#4: Relación entre la distancia y el tiempo de entrega\n"
      ],
      "metadata": {
        "id": "4r4TqWNqzpbj"
      }
    },
    {
      "cell_type": "code",
      "source": [
        "# Relación entre la distancia y el tiempo de entrega\n",
        "plt.figure(figsize=(12, 6))\n",
        "sns.scatterplot(x='Distance', y='Delivery_Time', data=df_cleaned, alpha=0.6, color='purple')\n",
        "plt.title('Relación entre la Distancia y el Tiempo de Entrega')\n",
        "plt.xlabel('Distancia (aproximada)')\n",
        "plt.ylabel('Tiempo de Entrega (minutos)')\n",
        "plt.show()"
      ],
      "metadata": {
        "colab": {
          "base_uri": "https://localhost:8080/",
          "height": 570
        },
        "id": "1aPZKmMkwd8l",
        "outputId": "da54cd8d-c4ab-475c-bb2a-02e749733a7d"
      },
      "execution_count": 84,
      "outputs": [
        {
          "output_type": "display_data",
          "data": {
            "text/plain": [
              "<Figure size 1200x600 with 1 Axes>"
            ],
            "image/png": "[encoded data removed]"
          },
          "metadata": {}
        }
      ]
    },
    {
      "cell_type": "markdown",
      "source": [
        "#Análisis del Gráfico 3 Relación entre la distancia y el tiempo de entrega\n",
        "\n",
        "**Conclusión**\n",
        "\n",
        "A mayor distancia, se observa un ligero incremento en los tiempos de entrega. Sin embargo, hay dispersión en distancias cortas, indicando que otros factores (tráfico o clima) también impactan en la eficiencia.\n",
        "\n",
        "\n",
        "\n",
        "**Recomendación**\n",
        "\n",
        "\n",
        "Optimizar rutas para minimizar distancias y analizar casos de tiempos elevados, cuellos de botella no relacionados con la distancia para identificar posibles causas."
      ],
      "metadata": {
        "id": "4MOesm7Hwo5T"
      }
    },
    {
      "cell_type": "markdown",
      "source": [
        "#5: Distribución del Tiempo de Entrega por Categoría de Producto"
      ],
      "metadata": {
        "id": "CmTAVAgk0FAg"
      }
    },
    {
      "cell_type": "code",
      "source": [
        "# Distribución del tiempo de entrega por categoría de producto\n",
        "plt.figure(figsize=(14, 7))\n",
        "sns.boxplot(x='Category', y='Delivery_Time', data=df_cleaned, palette=\"Set3\")\n",
        "plt.title('Distribución del Tiempo de Entrega por Categoría de Producto')\n",
        "plt.xlabel('Categoría de Producto')\n",
        "plt.ylabel('Tiempo de Entrega (minutos)')\n",
        "plt.xticks(rotation=45)\n",
        "plt.show()"
      ],
      "metadata": {
        "colab": {
          "base_uri": "https://localhost:8080/",
          "height": 795
        },
        "id": "AxjgQho1w0_F",
        "outputId": "78830d2d-678d-494c-9288-dedb73986d7f"
      },
      "execution_count": 85,
      "outputs": [
        {
          "output_type": "stream",
          "name": "stderr",
          "text": [
            "<ipython-input-85-50038f3e04a5>:3: FutureWarning: \n",
            "\n",
            "Passing `palette` without assigning `hue` is deprecated and will be removed in v0.14.0. Assign the `x` variable to `hue` and set `legend=False` for the same effect.\n",
            "\n",
            "  sns.boxplot(x='Category', y='Delivery_Time', data=df_cleaned, palette=\"Set3\")\n"
          ]
        },
        {
          "output_type": "display_data",
          "data": {
            "text/plain": [
              "<Figure size 1400x700 with 1 Axes>"
            ],
            "image/png": "[encoded data removed]"
          },
          "metadata": {}
        }
      ]
    },
    {
      "cell_type": "markdown",
      "source": [
        "#Análisis del Grafico 5: Distribución del Tiempo de Entrega por Categoría de Producto\n",
        "\n",
        "**Conclusión**\n",
        "\n",
        "\n",
        "Las categorías de productos como \"Groceries\" tienen tiempos de entrega más consistentes y bajos, mientras que otras categorías presentan alta variabilidad. Esto podría deberse a diferencias en manejo o prioridad logística..\n",
        "\n",
        "**Recomendación**\n",
        "\n",
        "\n",
        "Revisar procesos logísticos para categorías con tiempos altos, optimizando inventarios y priorizando la asignación de entregas.\n",
        "Ajustar la prioridad de entregas según la categoría del producto, optimizando especialmente para categorías con alta variabilidad."
      ],
      "metadata": {
        "id": "x5CP1Qnhxfdv"
      }
    },
    {
      "cell_type": "code",
      "source": [],
      "metadata": {
        "id": "FXcfjJA50vDa"
      },
      "execution_count": null,
      "outputs": []
    }
  ]
}