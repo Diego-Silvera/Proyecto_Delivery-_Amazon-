{
  "nbformat": 4,
  "nbformat_minor": 0,
  "metadata": {
    "colab": {
      "provenance": []
    },
    "kernelspec": {
      "name": "python3",
      "display_name": "Python 3"
    },
    "language_info": {
      "name": "python"
    }
  },
  "cells": [
    {
      "cell_type": "code",
      "execution_count": null,
      "metadata": {
        "id": "lITQ3YcOs4wJ"
      },
      "outputs": [],
      "source": []
    },
    {
      "cell_type": "markdown",
      "source": [
        "# Introducción\n",
        "El análisis de datos es clave en la logística moderna, especialmente para empresas como Amazon, donde la velocidad y eficiencia son esenciales. Este proyecto explora los datos de entrega de Amazon para identificar patrones y proponer mejoras prácticas. Desde factores como el tráfico y el clima hasta la calificación de los agentes, buscamos entender y optimizar los tiempos de entrega.\n",
        "\n"
      ],
      "metadata": {
        "id": "YqaydddEtBR3"
      }
    },
    {
      "cell_type": "markdown",
      "source": [
        "# Datos Generales\n",
        "El dataset contiene información relevante sobre el proceso de entrega, incluyendo detalles como:\n",
        "\n",
        "1.Datos geográficos: Latitud y longitud de la tienda y el destino.\n",
        "Condiciones externas: Clima y tráfico.\n",
        "Características del agente: Edad y calificación.\n",
        "Tiempos asociados: Fecha y hora del pedido, recogida y entrega.\n",
        "Esta variedad de variables permite explorar tanto aspectos operativos como externos que influyen en la logística de entregas.\n",
        "\n",
        "1. Datos geográficos: Latitud y longitud de la tienda y el destino.\n",
        "2. Condiciones externas: Clima y tráfico..\n",
        "3. Tiempos asociados: Fecha y hora del pedido, recogida y entrega.\n",
        "\n",
        "Esta variedad de variables permite explorar tanto aspectos operativos como externos que influyen en la logística de entregas.\n"
      ],
      "metadata": {
        "id": "uCXJ3tZOx9Ga"
      }
    },
    {
      "cell_type": "markdown",
      "source": [
        "#Hipótesis\n",
        "H1: El tráfico y el clima adverso incrementan significativamente los tiempos de entrega.\n",
        "\n",
        "H2: Agentes con mejores calificaciones tienen tiempos de entrega más rápidos.\n",
        "\n",
        "H3: Las distancias más largas, determinadas por las coordenadas geográficas, aumentan los tiempos de entrega.\n"
      ],
      "metadata": {
        "id": "EagZhjWJzRQB"
      }
    },
    {
      "cell_type": "markdown",
      "source": [
        "# Objetivos\n",
        "1. Realizar un análisis exploratorio para comprender las principales características del dataset.\n",
        "2. Identificar los factores más relevantes que afectan los tiempos de entrega.\n",
        "3. Desarrollar modelos predictivos para estimar el tiempo de entrega.\n",
        "4. Proponer recomendaciones para mejorar la eficiencia logística."
      ],
      "metadata": {
        "id": "uR6lom4iznxa"
      }
    },
    {
      "cell_type": "markdown",
      "source": [],
      "metadata": {
        "id": "ERPRSdCXzuAm"
      }
    },
    {
      "cell_type": "markdown",
      "source": [
        "#Elección del Dataset\n",
        "El dataset de Amazon Delivery fue seleccionado por su riqueza en variables clave para el análisis logístico y su alineación con los objetivos del proyecto.\n",
        "Este conjunto de datos permitirá analizar la relación entre las características del pedido, las condiciones externas y los tiempos de entrega."
      ],
      "metadata": {
        "id": "ZwAgWYcMz3qZ"
      }
    },
    {
      "cell_type": "markdown",
      "source": [],
      "metadata": {
        "id": "qLFQmo-_z7bF"
      }
    },
    {
      "cell_type": "markdown",
      "source": [
        "#Variables y su descripción\n",
        "\n",
        "\n",
        "1.   Edad del Agente (Edad), Categoría: Numérica continua, int (número entero).\n",
        "\n",
        "2.  Calificación del Agente, Categoría: Numérica continua, float (número decimal).\n",
        "\n",
        "3.   Latitud de la Tienda, Categoría: Numérica continua, float (número decimal).\n",
        "\n",
        "4.   Longitud de la Tienda, Categoría: Numérica continua, float (número decimal).\n",
        "\n",
        "5.  Latitud de Entrega, Categoría: Numérica continua, float (número decimal).\n",
        "\n",
        "6.  Longitud de Entrega, Categoría: Numérica continua, float (número decimal).\n",
        "\n",
        "7.  Fecha del Pedido, Categoría: Temporal, datetime (formato de fecha).\n",
        "8.  Hora del Pedido, Categoría: Temporal, datetime.time (hora específica).\n",
        "\n",
        "9.  Hora de Recogida, Categoría: Temporal, datetime.time (hora específica).\n",
        "\n",
        "10.  Clima, Categoría: Categórica, str (cadena de texto).\n",
        "\n",
        "11.  Tráfico, Categoría: Categórica, str (cadena de texto).\n",
        "\n",
        "12.  Vehículo, Categoría: Categórica, str (cadena de texto).\n",
        "\n",
        "13.  Área, Categoría: Categórica, str (cadena de texto).\n",
        "\n",
        "14.  Tiempo de Entrega, Categoría: Numérica continua, int (número entero).\n",
        "\n",
        "15.  Categoría, Categoría: Categórica, str (cadena de texto).\n",
        "\n",
        "\n"
      ],
      "metadata": {
        "id": "7erUFP6U1dw5"
      }
    },
    {
      "cell_type": "markdown",
      "source": [
        "# Elección del Dataset\n",
        "El dataset fue seleccionado por su riqueza en variables relevantes, como datos geográficos, condiciones externas y características del agente, permitiendo un análisis integral del proceso de entrega."
      ],
      "metadata": {
        "id": "MEKZPCEr3e2r"
      }
    },
    {
      "cell_type": "markdown",
      "source": [
        "# Importación de bibliotecas necesarias  222\n"
      ],
      "metadata": {
        "id": "ISWZFthj35JG"
      }
    },
    {
      "cell_type": "code",
      "source": [
        "# Importación de bibliotecas necesarias\n",
        "import pandas as pd\n",
        "import numpy as np\n",
        "import matplotlib.pyplot as plt\n",
        "import seaborn as sns"
      ],
      "metadata": {
        "id": "Kaezf7by4C13"
      },
      "execution_count": 4,
      "outputs": []
    },
    {
      "cell_type": "code",
      "source": [
        "# Lectura del dataset\n",
        "url = 'https://raw.githubusercontent.com/Diego-Silvera/Proyecto_Delivery-_Amazon-/refs/heads/main/amazon_delivery.csv'  # Reemplazar con la ruta correcta del dataset\n",
        "df = pd.read_csv(url, sep=',', header=None)\n",
        "\n",
        "# Mostrar las primeras filas del dataset\n",
        "df.head()"
      ],
      "metadata": {
        "colab": {
          "base_uri": "https://localhost:8080/",
          "height": 262
        },
        "id": "40gG52S14i9x",
        "outputId": "3e7d5754-7d55-464f-e5bd-4ae2d120d8ee"
      },
      "execution_count": 5,
      "outputs": [
        {
          "output_type": "stream",
          "name": "stderr",
          "text": [
            "<ipython-input-5-de8aab2d20f1>:3: DtypeWarning: Columns (1,2,3,4,5,6,14) have mixed types. Specify dtype option on import or set low_memory=False.\n",
            "  df = pd.read_csv(url, sep=',', header=None)\n"
          ]
        },
        {
          "output_type": "execute_result",
          "data": {
            "text/plain": [
              "              0          1             2               3                4   \\\n",
              "0       Order_ID  Agent_Age  Agent_Rating  Store_Latitude  Store_Longitude   \n",
              "1  ialx566343618         37           4.9       22.745049        75.892471   \n",
              "2  akqg208421122         34           4.5       12.913041        77.683237   \n",
              "3  njpu434582536         23           4.4       12.914264          77.6784   \n",
              "4  rjto796129700         38           4.7       11.003669        76.976494   \n",
              "\n",
              "              5               6           7           8            9   \\\n",
              "0  Drop_Latitude  Drop_Longitude  Order_Date  Order_Time  Pickup_Time   \n",
              "1      22.765049       75.912471  2022-03-19    11:30:00     11:45:00   \n",
              "2      13.043041       77.813237  2022-03-25    19:45:00     19:50:00   \n",
              "3      12.924264         77.6884  2022-03-19    08:30:00     08:45:00   \n",
              "4      11.053669       77.026494  2022-04-05    18:00:00     18:10:00   \n",
              "\n",
              "           10       11           12              13             14  \\\n",
              "0     Weather  Traffic      Vehicle            Area  Delivery_Time   \n",
              "1       Sunny    High   motorcycle           Urban             120   \n",
              "2      Stormy     Jam      scooter   Metropolitian             165   \n",
              "3  Sandstorms     Low   motorcycle           Urban             130   \n",
              "4       Sunny  Medium   motorcycle   Metropolitian             105   \n",
              "\n",
              "            15  \n",
              "0     Category  \n",
              "1     Clothing  \n",
              "2  Electronics  \n",
              "3       Sports  \n",
              "4    Cosmetics  "
            ],
            "text/html": [
              "\n",
              "  <div id=\"df-620ae832-5943-4e57-a943-cbc71bbd0395\" class=\"colab-df-container\">\n",
              "    <div>\n",
              "<style scoped>\n",
              "    .dataframe tbody tr th:only-of-type {\n",
              "        vertical-align: middle;\n",
              "    }\n",
              "\n",
              "    .dataframe tbody tr th {\n",
              "        vertical-align: top;\n",
              "    }\n",
              "\n",
              "    .dataframe thead th {\n",
              "        text-align: right;\n",
              "    }\n",
              "</style>\n",
              "<table border=\"1\" class=\"dataframe\">\n",
              "  <thead>\n",
              "    <tr style=\"text-align: right;\">\n",
              "      <th></th>\n",
              "      <th>0</th>\n",
              "      <th>1</th>\n",
              "      <th>2</th>\n",
              "      <th>3</th>\n",
              "      <th>4</th>\n",
              "      <th>5</th>\n",
              "      <th>6</th>\n",
              "      <th>7</th>\n",
              "      <th>8</th>\n",
              "      <th>9</th>\n",
              "      <th>10</th>\n",
              "      <th>11</th>\n",
              "      <th>12</th>\n",
              "      <th>13</th>\n",
              "      <th>14</th>\n",
              "      <th>15</th>\n",
              "    </tr>\n",
              "  </thead>\n",
              "  <tbody>\n",
              "    <tr>\n",
              "      <th>0</th>\n",
              "      <td>Order_ID</td>\n",
              "      <td>Agent_Age</td>\n",
              "      <td>Agent_Rating</td>\n",
              "      <td>Store_Latitude</td>\n",
              "      <td>Store_Longitude</td>\n",
              "      <td>Drop_Latitude</td>\n",
              "      <td>Drop_Longitude</td>\n",
              "      <td>Order_Date</td>\n",
              "      <td>Order_Time</td>\n",
              "      <td>Pickup_Time</td>\n",
              "      <td>Weather</td>\n",
              "      <td>Traffic</td>\n",
              "      <td>Vehicle</td>\n",
              "      <td>Area</td>\n",
              "      <td>Delivery_Time</td>\n",
              "      <td>Category</td>\n",
              "    </tr>\n",
              "    <tr>\n",
              "      <th>1</th>\n",
              "      <td>ialx566343618</td>\n",
              "      <td>37</td>\n",
              "      <td>4.9</td>\n",
              "      <td>22.745049</td>\n",
              "      <td>75.892471</td>\n",
              "      <td>22.765049</td>\n",
              "      <td>75.912471</td>\n",
              "      <td>2022-03-19</td>\n",
              "      <td>11:30:00</td>\n",
              "      <td>11:45:00</td>\n",
              "      <td>Sunny</td>\n",
              "      <td>High</td>\n",
              "      <td>motorcycle</td>\n",
              "      <td>Urban</td>\n",
              "      <td>120</td>\n",
              "      <td>Clothing</td>\n",
              "    </tr>\n",
              "    <tr>\n",
              "      <th>2</th>\n",
              "      <td>akqg208421122</td>\n",
              "      <td>34</td>\n",
              "      <td>4.5</td>\n",
              "      <td>12.913041</td>\n",
              "      <td>77.683237</td>\n",
              "      <td>13.043041</td>\n",
              "      <td>77.813237</td>\n",
              "      <td>2022-03-25</td>\n",
              "      <td>19:45:00</td>\n",
              "      <td>19:50:00</td>\n",
              "      <td>Stormy</td>\n",
              "      <td>Jam</td>\n",
              "      <td>scooter</td>\n",
              "      <td>Metropolitian</td>\n",
              "      <td>165</td>\n",
              "      <td>Electronics</td>\n",
              "    </tr>\n",
              "    <tr>\n",
              "      <th>3</th>\n",
              "      <td>njpu434582536</td>\n",
              "      <td>23</td>\n",
              "      <td>4.4</td>\n",
              "      <td>12.914264</td>\n",
              "      <td>77.6784</td>\n",
              "      <td>12.924264</td>\n",
              "      <td>77.6884</td>\n",
              "      <td>2022-03-19</td>\n",
              "      <td>08:30:00</td>\n",
              "      <td>08:45:00</td>\n",
              "      <td>Sandstorms</td>\n",
              "      <td>Low</td>\n",
              "      <td>motorcycle</td>\n",
              "      <td>Urban</td>\n",
              "      <td>130</td>\n",
              "      <td>Sports</td>\n",
              "    </tr>\n",
              "    <tr>\n",
              "      <th>4</th>\n",
              "      <td>rjto796129700</td>\n",
              "      <td>38</td>\n",
              "      <td>4.7</td>\n",
              "      <td>11.003669</td>\n",
              "      <td>76.976494</td>\n",
              "      <td>11.053669</td>\n",
              "      <td>77.026494</td>\n",
              "      <td>2022-04-05</td>\n",
              "      <td>18:00:00</td>\n",
              "      <td>18:10:00</td>\n",
              "      <td>Sunny</td>\n",
              "      <td>Medium</td>\n",
              "      <td>motorcycle</td>\n",
              "      <td>Metropolitian</td>\n",
              "      <td>105</td>\n",
              "      <td>Cosmetics</td>\n",
              "    </tr>\n",
              "  </tbody>\n",
              "</table>\n",
              "</div>\n",
              "    <div class=\"colab-df-buttons\">\n",
              "\n",
              "  <div class=\"colab-df-container\">\n",
              "    <button class=\"colab-df-convert\" onclick=\"convertToInteractive('df-620ae832-5943-4e57-a943-cbc71bbd0395')\"\n",
              "            title=\"Convert this dataframe to an interactive table.\"\n",
              "            style=\"display:none;\">\n",
              "\n",
              "  <svg xmlns=\"http://www.w3.org/2000/svg\" height=\"24px\" viewBox=\"0 -960 960 960\">\n",
              "    <path d=\"M120-120v-720h720v720H120Zm60-500h600v-160H180v160Zm220 220h160v-160H400v160Zm0 220h160v-160H400v160ZM180-400h160v-160H180v160Zm440 0h160v-160H620v160ZM180-180h160v-160H180v160Zm440 0h160v-160H620v160Z\"/>\n",
              "  </svg>\n",
              "    </button>\n",
              "\n",
              "  <style>\n",
              "    .colab-df-container {\n",
              "      display:flex;\n",
              "      gap: 12px;\n",
              "    }\n",
              "\n",
              "    .colab-df-convert {\n",
              "      background-color: #E8F0FE;\n",
              "      border: none;\n",
              "      border-radius: 50%;\n",
              "      cursor: pointer;\n",
              "      display: none;\n",
              "      fill: #1967D2;\n",
              "      height: 32px;\n",
              "      padding: 0 0 0 0;\n",
              "      width: 32px;\n",
              "    }\n",
              "\n",
              "    .colab-df-convert:hover {\n",
              "      background-color: #E2EBFA;\n",
              "      box-shadow: 0px 1px 2px rgba(60, 64, 67, 0.3), 0px 1px 3px 1px rgba(60, 64, 67, 0.15);\n",
              "      fill: #174EA6;\n",
              "    }\n",
              "\n",
              "    .colab-df-buttons div {\n",
              "      margin-bottom: 4px;\n",
              "    }\n",
              "\n",
              "    [theme=dark] .colab-df-convert {\n",
              "      background-color: #3B4455;\n",
              "      fill: #D2E3FC;\n",
              "    }\n",
              "\n",
              "    [theme=dark] .colab-df-convert:hover {\n",
              "      background-color: #434B5C;\n",
              "      box-shadow: 0px 1px 3px 1px rgba(0, 0, 0, 0.15);\n",
              "      filter: drop-shadow(0px 1px 2px rgba(0, 0, 0, 0.3));\n",
              "      fill: #FFFFFF;\n",
              "    }\n",
              "  </style>\n",
              "\n",
              "    <script>\n",
              "      const buttonEl =\n",
              "        document.querySelector('#df-620ae832-5943-4e57-a943-cbc71bbd0395 button.colab-df-convert');\n",
              "      buttonEl.style.display =\n",
              "        google.colab.kernel.accessAllowed ? 'block' : 'none';\n",
              "\n",
              "      async function convertToInteractive(key) {\n",
              "        const element = document.querySelector('#df-620ae832-5943-4e57-a943-cbc71bbd0395');\n",
              "        const dataTable =\n",
              "          await google.colab.kernel.invokeFunction('convertToInteractive',\n",
              "                                                    [key], {});\n",
              "        if (!dataTable) return;\n",
              "\n",
              "        const docLinkHtml = 'Like what you see? Visit the ' +\n",
              "          '<a target=\"_blank\" href=https://colab.research.google.com/notebooks/data_table.ipynb>data table notebook</a>'\n",
              "          + ' to learn more about interactive tables.';\n",
              "        element.innerHTML = '';\n",
              "        dataTable['output_type'] = 'display_data';\n",
              "        await google.colab.output.renderOutput(dataTable, element);\n",
              "        const docLink = document.createElement('div');\n",
              "        docLink.innerHTML = docLinkHtml;\n",
              "        element.appendChild(docLink);\n",
              "      }\n",
              "    </script>\n",
              "  </div>\n",
              "\n",
              "\n",
              "<div id=\"df-92b3f326-11da-49f7-a137-2fcdd66a9410\">\n",
              "  <button class=\"colab-df-quickchart\" onclick=\"quickchart('df-92b3f326-11da-49f7-a137-2fcdd66a9410')\"\n",
              "            title=\"Suggest charts\"\n",
              "            style=\"display:none;\">\n",
              "\n",
              "<svg xmlns=\"http://www.w3.org/2000/svg\" height=\"24px\"viewBox=\"0 0 24 24\"\n",
              "     width=\"24px\">\n",
              "    <g>\n",
              "        <path d=\"M19 3H5c-1.1 0-2 .9-2 2v14c0 1.1.9 2 2 2h14c1.1 0 2-.9 2-2V5c0-1.1-.9-2-2-2zM9 17H7v-7h2v7zm4 0h-2V7h2v10zm4 0h-2v-4h2v4z\"/>\n",
              "    </g>\n",
              "</svg>\n",
              "  </button>\n",
              "\n",
              "<style>\n",
              "  .colab-df-quickchart {\n",
              "      --bg-color: #E8F0FE;\n",
              "      --fill-color: #1967D2;\n",
              "      --hover-bg-color: #E2EBFA;\n",
              "      --hover-fill-color: #174EA6;\n",
              "      --disabled-fill-color: #AAA;\n",
              "      --disabled-bg-color: #DDD;\n",
              "  }\n",
              "\n",
              "  [theme=dark] .colab-df-quickchart {\n",
              "      --bg-color: #3B4455;\n",
              "      --fill-color: #D2E3FC;\n",
              "      --hover-bg-color: #434B5C;\n",
              "      --hover-fill-color: #FFFFFF;\n",
              "      --disabled-bg-color: #3B4455;\n",
              "      --disabled-fill-color: #666;\n",
              "  }\n",
              "\n",
              "  .colab-df-quickchart {\n",
              "    background-color: var(--bg-color);\n",
              "    border: none;\n",
              "    border-radius: 50%;\n",
              "    cursor: pointer;\n",
              "    display: none;\n",
              "    fill: var(--fill-color);\n",
              "    height: 32px;\n",
              "    padding: 0;\n",
              "    width: 32px;\n",
              "  }\n",
              "\n",
              "  .colab-df-quickchart:hover {\n",
              "    background-color: var(--hover-bg-color);\n",
              "    box-shadow: 0 1px 2px rgba(60, 64, 67, 0.3), 0 1px 3px 1px rgba(60, 64, 67, 0.15);\n",
              "    fill: var(--button-hover-fill-color);\n",
              "  }\n",
              "\n",
              "  .colab-df-quickchart-complete:disabled,\n",
              "  .colab-df-quickchart-complete:disabled:hover {\n",
              "    background-color: var(--disabled-bg-color);\n",
              "    fill: var(--disabled-fill-color);\n",
              "    box-shadow: none;\n",
              "  }\n",
              "\n",
              "  .colab-df-spinner {\n",
              "    border: 2px solid var(--fill-color);\n",
              "    border-color: transparent;\n",
              "    border-bottom-color: var(--fill-color);\n",
              "    animation:\n",
              "      spin 1s steps(1) infinite;\n",
              "  }\n",
              "\n",
              "  @keyframes spin {\n",
              "    0% {\n",
              "      border-color: transparent;\n",
              "      border-bottom-color: var(--fill-color);\n",
              "      border-left-color: var(--fill-color);\n",
              "    }\n",
              "    20% {\n",
              "      border-color: transparent;\n",
              "      border-left-color: var(--fill-color);\n",
              "      border-top-color: var(--fill-color);\n",
              "    }\n",
              "    30% {\n",
              "      border-color: transparent;\n",
              "      border-left-color: var(--fill-color);\n",
              "      border-top-color: var(--fill-color);\n",
              "      border-right-color: var(--fill-color);\n",
              "    }\n",
              "    40% {\n",
              "      border-color: transparent;\n",
              "      border-right-color: var(--fill-color);\n",
              "      border-top-color: var(--fill-color);\n",
              "    }\n",
              "    60% {\n",
              "      border-color: transparent;\n",
              "      border-right-color: var(--fill-color);\n",
              "    }\n",
              "    80% {\n",
              "      border-color: transparent;\n",
              "      border-right-color: var(--fill-color);\n",
              "      border-bottom-color: var(--fill-color);\n",
              "    }\n",
              "    90% {\n",
              "      border-color: transparent;\n",
              "      border-bottom-color: var(--fill-color);\n",
              "    }\n",
              "  }\n",
              "</style>\n",
              "\n",
              "  <script>\n",
              "    async function quickchart(key) {\n",
              "      const quickchartButtonEl =\n",
              "        document.querySelector('#' + key + ' button');\n",
              "      quickchartButtonEl.disabled = true;  // To prevent multiple clicks.\n",
              "      quickchartButtonEl.classList.add('colab-df-spinner');\n",
              "      try {\n",
              "        const charts = await google.colab.kernel.invokeFunction(\n",
              "            'suggestCharts', [key], {});\n",
              "      } catch (error) {\n",
              "        console.error('Error during call to suggestCharts:', error);\n",
              "      }\n",
              "      quickchartButtonEl.classList.remove('colab-df-spinner');\n",
              "      quickchartButtonEl.classList.add('colab-df-quickchart-complete');\n",
              "    }\n",
              "    (() => {\n",
              "      let quickchartButtonEl =\n",
              "        document.querySelector('#df-92b3f326-11da-49f7-a137-2fcdd66a9410 button');\n",
              "      quickchartButtonEl.style.display =\n",
              "        google.colab.kernel.accessAllowed ? 'block' : 'none';\n",
              "    })();\n",
              "  </script>\n",
              "</div>\n",
              "\n",
              "    </div>\n",
              "  </div>\n"
            ],
            "application/vnd.google.colaboratory.intrinsic+json": {
              "type": "dataframe",
              "variable_name": "df",
              "summary": "{\n  \"name\": \"df\",\n  \"rows\": 43740,\n  \"fields\": [\n    {\n      \"column\": 0,\n      \"properties\": {\n        \"dtype\": \"string\",\n        \"num_unique_values\": 43740,\n        \"samples\": [\n          \"ioqs144419986\",\n          \"fvml427733005\",\n          \"xpti888373807\"\n        ],\n        \"semantic_type\": \"\",\n        \"description\": \"\"\n      }\n    },\n    {\n      \"column\": 1,\n      \"properties\": {\n        \"dtype\": \"category\",\n        \"num_unique_values\": 45,\n        \"samples\": [\n          39,\n          22,\n          29\n        ],\n        \"semantic_type\": \"\",\n        \"description\": \"\"\n      }\n    },\n    {\n      \"column\": 2,\n      \"properties\": {\n        \"dtype\": \"category\",\n        \"num_unique_values\": 57,\n        \"samples\": [\n          \"Agent_Rating\",\n          \"4.6\",\n          4.9\n        ],\n        \"semantic_type\": \"\",\n        \"description\": \"\"\n      }\n    },\n    {\n      \"column\": 3,\n      \"properties\": {\n        \"dtype\": \"category\",\n        \"num_unique_values\": 928,\n        \"samples\": [\n          26.913726,\n          18.56245,\n          \"21.160437\"\n        ],\n        \"semantic_type\": \"\",\n        \"description\": \"\"\n      }\n    },\n    {\n      \"column\": 4,\n      \"properties\": {\n        \"dtype\": \"category\",\n        \"num_unique_values\": 805,\n        \"samples\": [\n          \"75.887522\",\n          88.36783,\n          \"72.778059\"\n        ],\n        \"semantic_type\": \"\",\n        \"description\": \"\"\n      }\n    },\n    {\n      \"column\": 5,\n      \"properties\": {\n        \"dtype\": \"category\",\n        \"num_unique_values\": 7855,\n        \"samples\": [\n          26.614133,\n          \"15.62155\",\n          13.088616\n        ],\n        \"semantic_type\": \"\",\n        \"description\": \"\"\n      }\n    },\n    {\n      \"column\": 6,\n      \"properties\": {\n        \"dtype\": \"category\",\n        \"num_unique_values\": 7855,\n        \"samples\": [\n          80.4881,\n          \"73.809092\",\n          80.294151\n        ],\n        \"semantic_type\": \"\",\n        \"description\": \"\"\n      }\n    },\n    {\n      \"column\": 7,\n      \"properties\": {\n        \"dtype\": \"category\",\n        \"num_unique_values\": 45,\n        \"samples\": [\n          \"2022-02-18\",\n          \"2022-03-28\",\n          \"2022-03-18\"\n        ],\n        \"semantic_type\": \"\",\n        \"description\": \"\"\n      }\n    },\n    {\n      \"column\": 8,\n      \"properties\": {\n        \"dtype\": \"category\",\n        \"num_unique_values\": 178,\n        \"samples\": [\n          \"20:20:00\",\n          \"22:10:00\",\n          \"17:40:00\"\n        ],\n        \"semantic_type\": \"\",\n        \"description\": \"\"\n      }\n    },\n    {\n      \"column\": 9,\n      \"properties\": {\n        \"dtype\": \"category\",\n        \"num_unique_values\": 194,\n        \"samples\": [\n          \"19:35:00\",\n          \"15:10:00\",\n          \"08:35:00\"\n        ],\n        \"semantic_type\": \"\",\n        \"description\": \"\"\n      }\n    },\n    {\n      \"column\": 10,\n      \"properties\": {\n        \"dtype\": \"category\",\n        \"num_unique_values\": 7,\n        \"samples\": [\n          \"Weather\",\n          \"Sunny\",\n          \"Fog\"\n        ],\n        \"semantic_type\": \"\",\n        \"description\": \"\"\n      }\n    },\n    {\n      \"column\": 11,\n      \"properties\": {\n        \"dtype\": \"category\",\n        \"num_unique_values\": 6,\n        \"samples\": [\n          \"Traffic\",\n          \"High \",\n          \"NaN \"\n        ],\n        \"semantic_type\": \"\",\n        \"description\": \"\"\n      }\n    },\n    {\n      \"column\": 12,\n      \"properties\": {\n        \"dtype\": \"category\",\n        \"num_unique_values\": 5,\n        \"samples\": [\n          \"motorcycle \",\n          \"bicycle \",\n          \"scooter \"\n        ],\n        \"semantic_type\": \"\",\n        \"description\": \"\"\n      }\n    },\n    {\n      \"column\": 13,\n      \"properties\": {\n        \"dtype\": \"category\",\n        \"num_unique_values\": 5,\n        \"samples\": [\n          \"Urban \",\n          \"Other\",\n          \"Metropolitian \"\n        ],\n        \"semantic_type\": \"\",\n        \"description\": \"\"\n      }\n    },\n    {\n      \"column\": 14,\n      \"properties\": {\n        \"dtype\": \"category\",\n        \"num_unique_values\": 178,\n        \"samples\": [\n          \"235\",\n          \"240\",\n          30\n        ],\n        \"semantic_type\": \"\",\n        \"description\": \"\"\n      }\n    },\n    {\n      \"column\": 15,\n      \"properties\": {\n        \"dtype\": \"category\",\n        \"num_unique_values\": 17,\n        \"samples\": [\n          \"Category\",\n          \"Clothing\",\n          \"Toys\"\n        ],\n        \"semantic_type\": \"\",\n        \"description\": \"\"\n      }\n    }\n  ]\n}"
            }
          },
          "metadata": {},
          "execution_count": 5
        }
      ]
    },
    {
      "cell_type": "code",
      "source": [
        "df.info()"
      ],
      "metadata": {
        "colab": {
          "base_uri": "https://localhost:8080/"
        },
        "id": "uVAFD8cyuVxr",
        "outputId": "4d870cbb-6dcd-41df-f755-4ed45c3e4b75"
      },
      "execution_count": 6,
      "outputs": [
        {
          "output_type": "stream",
          "name": "stdout",
          "text": [
            "<class 'pandas.core.frame.DataFrame'>\n",
            "RangeIndex: 43740 entries, 0 to 43739\n",
            "Data columns (total 16 columns):\n",
            " #   Column  Non-Null Count  Dtype \n",
            "---  ------  --------------  ----- \n",
            " 0   0       43740 non-null  object\n",
            " 1   1       43740 non-null  object\n",
            " 2   2       43686 non-null  object\n",
            " 3   3       43740 non-null  object\n",
            " 4   4       43740 non-null  object\n",
            " 5   5       43740 non-null  object\n",
            " 6   6       43740 non-null  object\n",
            " 7   7       43740 non-null  object\n",
            " 8   8       43740 non-null  object\n",
            " 9   9       43740 non-null  object\n",
            " 10  10      43649 non-null  object\n",
            " 11  11      43740 non-null  object\n",
            " 12  12      43740 non-null  object\n",
            " 13  13      43740 non-null  object\n",
            " 14  14      43740 non-null  object\n",
            " 15  15      43740 non-null  object\n",
            "dtypes: object(16)\n",
            "memory usage: 5.3+ MB\n"
          ]
        }
      ]
    },
    {
      "cell_type": "code",
      "source": [
        "df.shape"
      ],
      "metadata": {
        "colab": {
          "base_uri": "https://localhost:8080/"
        },
        "id": "0HFL2QxIujZC",
        "outputId": "10e272c7-8b30-4a57-e94a-30461eb95993"
      },
      "execution_count": 7,
      "outputs": [
        {
          "output_type": "execute_result",
          "data": {
            "text/plain": [
              "(43740, 16)"
            ]
          },
          "metadata": {},
          "execution_count": 7
        }
      ]
    },
    {
      "cell_type": "markdown",
      "source": [
        "#Lista de Variables\n",
        "       \n",
        "0. Orden_ID - ID_Orden\n",
        "1.   Agent_Age - Edad del Agente\n",
        "2.   Agent_Rating -Clasificación del Agente\n",
        "3.   Store_Latitude - Latitud de la Tienda\n",
        "4. Store_Longitude - Longitud de la Tienda\n",
        "5. Drop_Latitude - Latitud de la Entrada\n",
        "6. Drop_Longitude - Longitud de la Entrada\n",
        "7. Order_Date - Fecha del Pedido\n",
        "8. Order_Time - Hora del Pedido\n",
        "9. Pickup_Time - Hora de Recogida\n",
        "10. Weather - Clima\n",
        "11. Traffic - Trafico\n",
        "12. Vehicle - Vehículo\n",
        "13. Area - Área\n",
        "14. Delivery_Time - Tiempo de Entrega\n",
        "15. Category - Categoría"
      ],
      "metadata": {
        "id": "89VOTMhWvl6y"
      }
    },
    {
      "cell_type": "markdown",
      "source": [
        "La Variable ID_Orden esta compuesta por Letras y Números, puede entenderse como erronea. Para mejorar eso vamos a crear una columna  Autonumerica."
      ],
      "metadata": {
        "id": "8OehA50dzxxb"
      }
    },
    {
      "cell_type": "code",
      "source": [
        "# Asignar valores autonuméricos a la columna 'Order_ID'\n",
        "df['Order_ID'] = range(1, len(df) + 1)\n",
        "print(df)"
      ],
      "metadata": {
        "colab": {
          "base_uri": "https://localhost:8080/"
        },
        "id": "qz0dCO3110HH",
        "outputId": "b91fa861-be97-4fec-e81c-c9ad2f407198"
      },
      "execution_count": 9,
      "outputs": [
        {
          "output_type": "stream",
          "name": "stdout",
          "text": [
            "                   0          1             2               3  \\\n",
            "0           Order_ID  Agent_Age  Agent_Rating  Store_Latitude   \n",
            "1      ialx566343618         37           4.9       22.745049   \n",
            "2      akqg208421122         34           4.5       12.913041   \n",
            "3      njpu434582536         23           4.4       12.914264   \n",
            "4      rjto796129700         38           4.7       11.003669   \n",
            "...              ...        ...           ...             ...   \n",
            "43735  jlxf819993117         30           4.8       26.902328   \n",
            "43736  aevx342135787         21           4.6             0.0   \n",
            "43737  xnek760674819         30           4.9       13.022394   \n",
            "43738  cynl434665991         20           4.7       11.001753   \n",
            "43739  nsyz997960170         23           4.9       23.351058   \n",
            "\n",
            "                     4              5               6           7           8  \\\n",
            "0      Store_Longitude  Drop_Latitude  Drop_Longitude  Order_Date  Order_Time   \n",
            "1            75.892471      22.765049       75.912471  2022-03-19    11:30:00   \n",
            "2            77.683237      13.043041       77.813237  2022-03-25    19:45:00   \n",
            "3              77.6784      12.924264         77.6884  2022-03-19    08:30:00   \n",
            "4            76.976494      11.053669       77.026494  2022-04-05    18:00:00   \n",
            "...                ...            ...             ...         ...         ...   \n",
            "43735        75.794257      26.912328       75.804257  2022-03-24    11:35:00   \n",
            "43736              0.0           0.07            0.07  2022-02-16    19:55:00   \n",
            "43737        80.242439      13.052394       80.272439  2022-03-11    23:50:00   \n",
            "43738        76.986241      11.041753       77.026241  2022-03-07    13:35:00   \n",
            "43739        85.325731      23.431058       85.405731  2022-03-02    17:10:00   \n",
            "\n",
            "                 9          10       11           12              13  \\\n",
            "0      Pickup_Time     Weather  Traffic      Vehicle            Area   \n",
            "1         11:45:00       Sunny    High   motorcycle           Urban    \n",
            "2         19:50:00      Stormy     Jam      scooter   Metropolitian    \n",
            "3         08:45:00  Sandstorms     Low   motorcycle           Urban    \n",
            "4         18:10:00       Sunny  Medium   motorcycle   Metropolitian    \n",
            "...            ...         ...      ...          ...             ...   \n",
            "43735     11:45:00       Windy    High   motorcycle   Metropolitian    \n",
            "43736     20:10:00       Windy     Jam   motorcycle   Metropolitian    \n",
            "43737     00:05:00      Cloudy     Low      scooter   Metropolitian    \n",
            "43738     13:40:00      Cloudy    High   motorcycle   Metropolitian    \n",
            "43739     17:15:00         Fog  Medium      scooter   Metropolitian    \n",
            "\n",
            "                  14           15  Order_ID  \n",
            "0      Delivery_Time     Category         1  \n",
            "1                120     Clothing         2  \n",
            "2                165  Electronics         3  \n",
            "3                130       Sports         4  \n",
            "4                105    Cosmetics         5  \n",
            "...              ...          ...       ...  \n",
            "43735            160         Home     43736  \n",
            "43736            180      Jewelry     43737  \n",
            "43737             80         Home     43738  \n",
            "43738            130      Kitchen     43739  \n",
            "43739            180    Cosmetics     43740  \n",
            "\n",
            "[43740 rows x 17 columns]\n"
          ]
        }
      ]
    },
    {
      "cell_type": "code",
      "source": [
        "df_new = df.drop(columns=[0])\n",
        "print(df_new)"
      ],
      "metadata": {
        "colab": {
          "base_uri": "https://localhost:8080/"
        },
        "id": "aV-McppxgF1C",
        "outputId": "a6fb094e-582a-4140-ba37-2dbdc87d193c"
      },
      "execution_count": 10,
      "outputs": [
        {
          "output_type": "stream",
          "name": "stdout",
          "text": [
            "               1             2               3                4  \\\n",
            "0      Agent_Age  Agent_Rating  Store_Latitude  Store_Longitude   \n",
            "1             37           4.9       22.745049        75.892471   \n",
            "2             34           4.5       12.913041        77.683237   \n",
            "3             23           4.4       12.914264          77.6784   \n",
            "4             38           4.7       11.003669        76.976494   \n",
            "...          ...           ...             ...              ...   \n",
            "43735         30           4.8       26.902328        75.794257   \n",
            "43736         21           4.6             0.0              0.0   \n",
            "43737         30           4.9       13.022394        80.242439   \n",
            "43738         20           4.7       11.001753        76.986241   \n",
            "43739         23           4.9       23.351058        85.325731   \n",
            "\n",
            "                   5               6           7           8            9  \\\n",
            "0      Drop_Latitude  Drop_Longitude  Order_Date  Order_Time  Pickup_Time   \n",
            "1          22.765049       75.912471  2022-03-19    11:30:00     11:45:00   \n",
            "2          13.043041       77.813237  2022-03-25    19:45:00     19:50:00   \n",
            "3          12.924264         77.6884  2022-03-19    08:30:00     08:45:00   \n",
            "4          11.053669       77.026494  2022-04-05    18:00:00     18:10:00   \n",
            "...              ...             ...         ...         ...          ...   \n",
            "43735      26.912328       75.804257  2022-03-24    11:35:00     11:45:00   \n",
            "43736           0.07            0.07  2022-02-16    19:55:00     20:10:00   \n",
            "43737      13.052394       80.272439  2022-03-11    23:50:00     00:05:00   \n",
            "43738      11.041753       77.026241  2022-03-07    13:35:00     13:40:00   \n",
            "43739      23.431058       85.405731  2022-03-02    17:10:00     17:15:00   \n",
            "\n",
            "               10       11           12              13             14  \\\n",
            "0         Weather  Traffic      Vehicle            Area  Delivery_Time   \n",
            "1           Sunny    High   motorcycle           Urban             120   \n",
            "2          Stormy     Jam      scooter   Metropolitian             165   \n",
            "3      Sandstorms     Low   motorcycle           Urban             130   \n",
            "4           Sunny  Medium   motorcycle   Metropolitian             105   \n",
            "...           ...      ...          ...             ...            ...   \n",
            "43735       Windy    High   motorcycle   Metropolitian             160   \n",
            "43736       Windy     Jam   motorcycle   Metropolitian             180   \n",
            "43737      Cloudy     Low      scooter   Metropolitian              80   \n",
            "43738      Cloudy    High   motorcycle   Metropolitian             130   \n",
            "43739         Fog  Medium      scooter   Metropolitian             180   \n",
            "\n",
            "                15  Order_ID  \n",
            "0         Category         1  \n",
            "1         Clothing         2  \n",
            "2      Electronics         3  \n",
            "3           Sports         4  \n",
            "4        Cosmetics         5  \n",
            "...            ...       ...  \n",
            "43735         Home     43736  \n",
            "43736      Jewelry     43737  \n",
            "43737         Home     43738  \n",
            "43738      Kitchen     43739  \n",
            "43739    Cosmetics     43740  \n",
            "\n",
            "[43740 rows x 16 columns]\n"
          ]
        }
      ]
    },
    {
      "cell_type": "code",
      "source": [
        "#con esto Elimino el ID de la Orden\n",
        "df = df_new.drop(columns=['Order_ID'])\n",
        "print(df)"
      ],
      "metadata": {
        "colab": {
          "base_uri": "https://localhost:8080/"
        },
        "id": "_EQ8Kd1Ngan6",
        "outputId": "67cc1f7b-15ae-426e-9db2-c405db8eeb9d"
      },
      "execution_count": 11,
      "outputs": [
        {
          "output_type": "stream",
          "name": "stdout",
          "text": [
            "               1             2               3                4  \\\n",
            "0      Agent_Age  Agent_Rating  Store_Latitude  Store_Longitude   \n",
            "1             37           4.9       22.745049        75.892471   \n",
            "2             34           4.5       12.913041        77.683237   \n",
            "3             23           4.4       12.914264          77.6784   \n",
            "4             38           4.7       11.003669        76.976494   \n",
            "...          ...           ...             ...              ...   \n",
            "43735         30           4.8       26.902328        75.794257   \n",
            "43736         21           4.6             0.0              0.0   \n",
            "43737         30           4.9       13.022394        80.242439   \n",
            "43738         20           4.7       11.001753        76.986241   \n",
            "43739         23           4.9       23.351058        85.325731   \n",
            "\n",
            "                   5               6           7           8            9  \\\n",
            "0      Drop_Latitude  Drop_Longitude  Order_Date  Order_Time  Pickup_Time   \n",
            "1          22.765049       75.912471  2022-03-19    11:30:00     11:45:00   \n",
            "2          13.043041       77.813237  2022-03-25    19:45:00     19:50:00   \n",
            "3          12.924264         77.6884  2022-03-19    08:30:00     08:45:00   \n",
            "4          11.053669       77.026494  2022-04-05    18:00:00     18:10:00   \n",
            "...              ...             ...         ...         ...          ...   \n",
            "43735      26.912328       75.804257  2022-03-24    11:35:00     11:45:00   \n",
            "43736           0.07            0.07  2022-02-16    19:55:00     20:10:00   \n",
            "43737      13.052394       80.272439  2022-03-11    23:50:00     00:05:00   \n",
            "43738      11.041753       77.026241  2022-03-07    13:35:00     13:40:00   \n",
            "43739      23.431058       85.405731  2022-03-02    17:10:00     17:15:00   \n",
            "\n",
            "               10       11           12              13             14  \\\n",
            "0         Weather  Traffic      Vehicle            Area  Delivery_Time   \n",
            "1           Sunny    High   motorcycle           Urban             120   \n",
            "2          Stormy     Jam      scooter   Metropolitian             165   \n",
            "3      Sandstorms     Low   motorcycle           Urban             130   \n",
            "4           Sunny  Medium   motorcycle   Metropolitian             105   \n",
            "...           ...      ...          ...             ...            ...   \n",
            "43735       Windy    High   motorcycle   Metropolitian             160   \n",
            "43736       Windy     Jam   motorcycle   Metropolitian             180   \n",
            "43737      Cloudy     Low      scooter   Metropolitian              80   \n",
            "43738      Cloudy    High   motorcycle   Metropolitian             130   \n",
            "43739         Fog  Medium      scooter   Metropolitian             180   \n",
            "\n",
            "                15  \n",
            "0         Category  \n",
            "1         Clothing  \n",
            "2      Electronics  \n",
            "3           Sports  \n",
            "4        Cosmetics  \n",
            "...            ...  \n",
            "43735         Home  \n",
            "43736      Jewelry  \n",
            "43737         Home  \n",
            "43738      Kitchen  \n",
            "43739    Cosmetics  \n",
            "\n",
            "[43740 rows x 15 columns]\n"
          ]
        }
      ]
    },
    {
      "cell_type": "markdown",
      "source": [
        "\n",
        "Como la columna ID_Orden no era necesaria para identificar las filas ya qeu los DataFrames de Pandas tienen un identificador generado automáticamente llamado  **Índice**, se elimino dicha Columna, con el fin de hacer más agíl su procesamiento.\n",
        "\n"
      ],
      "metadata": {
        "id": "Ju_LSsbtgFkO"
      }
    },
    {
      "cell_type": "code",
      "source": [
        "# Contar el número de valores igual a 0 en las columnas 1, 2, 3, 4 y 5\n",
        "columns_to_check = [1, 2, 3, 4, 5, 6, 7, 8, 9, 10, 11, 12, 13, 14, 15]\n",
        "\n",
        "# Contar los valores iguales a 0\n",
        "nun_missing = (df[columns_to_check] == 0).sum()\n",
        "\n",
        "# Mostrar el resultado\n",
        "print(nun_missing)"
      ],
      "metadata": {
        "colab": {
          "base_uri": "https://localhost:8080/"
        },
        "id": "cAqex1AFiyxP",
        "outputId": "213dabb3-debc-4e4d-f4e6-29481e66182a"
      },
      "execution_count": 19,
      "outputs": [
        {
          "output_type": "stream",
          "name": "stdout",
          "text": [
            "1       0\n",
            "2       0\n",
            "3     892\n",
            "4     892\n",
            "5       0\n",
            "6       0\n",
            "7       0\n",
            "8       0\n",
            "9       0\n",
            "10      0\n",
            "11      0\n",
            "12      0\n",
            "13      0\n",
            "14      0\n",
            "15      0\n",
            "dtype: int64\n"
          ]
        }
      ]
    },
    {
      "cell_type": "code",
      "source": [
        "print(df.columns)"
      ],
      "metadata": {
        "colab": {
          "base_uri": "https://localhost:8080/"
        },
        "id": "1u9wZ7GUmK03",
        "outputId": "27f1571e-377e-43d0-d0a3-de1687970cfe"
      },
      "execution_count": 18,
      "outputs": [
        {
          "output_type": "stream",
          "name": "stdout",
          "text": [
            "Index([1, 2, 3, 4, 5, 6, 7, 8, 9, 10, 11, 12, 13, 14, 15], dtype='object')\n"
          ]
        }
      ]
    }
  ]
}