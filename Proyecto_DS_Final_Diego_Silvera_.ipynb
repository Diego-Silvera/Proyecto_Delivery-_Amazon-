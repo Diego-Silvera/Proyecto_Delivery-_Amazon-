{
  "nbformat": 4,
  "nbformat_minor": 0,
  "metadata": {
    "colab": {
      "provenance": [],
      "include_colab_link": true
    },
    "kernelspec": {
      "name": "python3",
      "display_name": "Python 3"
    },
    "language_info": {
      "name": "python"
    }
  },
  "cells": [
    {
      "cell_type": "markdown",
      "metadata": {
        "id": "view-in-github",
        "colab_type": "text"
      },
      "source": [
        "<a href=\"https://colab.research.google.com/github/Diego-Silvera/Proyecto_Delivery-_Amazon-/blob/main/Proyecto_DS_Final_Diego_Silvera_.ipynb\" target=\"_parent\"><img src=\"https://colab.research.google.com/assets/colab-badge.svg\" alt=\"Open In Colab\"/></a>"
      ]
    },
    {
      "cell_type": "markdown",
      "source": [
        "# Introducción\n",
        "El análisis de datos es clave en la logística moderna, especialmente para empresas como Amazon, donde la velocidad y eficiencia son esenciales. Este proyecto explora los datos de entrega de Amazon para identificar patrones y proponer mejoras prácticas. Desde factores como el tráfico y el clima hasta la calificación de los agentes, buscamos entender y optimizar los tiempos de entrega.\n",
        "\n"
      ],
      "metadata": {
        "id": "YqaydddEtBR3"
      }
    },
    {
      "cell_type": "markdown",
      "source": [
        "# Datos Generales\n",
        "El dataset contiene información relevante sobre el proceso de entrega, incluyendo detalles como:\n",
        "\n",
        "1.Datos geográficos: Latitud y longitud de la tienda y el destino.\n",
        "Condiciones externas: Clima y tráfico.\n",
        "Características del agente: Edad y calificación.\n",
        "Tiempos asociados: Fecha y hora del pedido, recogida y entrega.\n",
        "Esta variedad de variables permite explorar tanto aspectos operativos como externos que influyen en la logística de entregas.\n",
        "\n",
        "1. Datos geográficos: Latitud y longitud de la tienda y el destino.\n",
        "2. Condiciones externas: Clima y tráfico..\n",
        "3. Tiempos asociados: Fecha y hora del pedido, recogida y entrega.\n",
        "\n",
        "Esta variedad de variables permite explorar tanto aspectos operativos como externos que influyen en la logística de entregas.\n"
      ],
      "metadata": {
        "id": "uCXJ3tZOx9Ga"
      }
    },
    {
      "cell_type": "markdown",
      "source": [
        "#Hipótesis\n",
        "H1: El tráfico y el clima adverso incrementan significativamente los tiempos de entrega.\n",
        "\n",
        "H2: Agentes con mejores calificaciones tienen tiempos de entrega más rápidos.\n",
        "\n",
        "H3: Las distancias más largas, determinadas por las coordenadas geográficas, aumentan los tiempos de entrega.\n"
      ],
      "metadata": {
        "id": "EagZhjWJzRQB"
      }
    },
    {
      "cell_type": "markdown",
      "source": [
        "# Objetivos\n",
        "1. Realizar un análisis exploratorio para comprender las principales características del dataset.\n",
        "2. Identificar los factores más relevantes que afectan los tiempos de entrega.\n",
        "3. Desarrollar modelos predictivos para estimar el tiempo de entrega.\n",
        "4. Proponer recomendaciones para mejorar la eficiencia logística."
      ],
      "metadata": {
        "id": "uR6lom4iznxa"
      }
    },
    {
      "cell_type": "markdown",
      "source": [],
      "metadata": {
        "id": "ERPRSdCXzuAm"
      }
    },
    {
      "cell_type": "markdown",
      "source": [
        "#Elección del Dataset\n",
        "El dataset de Amazon Delivery fue seleccionado por su riqueza en variables clave para el análisis logístico y su alineación con los objetivos del proyecto.\n",
        "Este conjunto de datos permitirá analizar la relación entre las características del pedido, las condiciones externas y los tiempos de entrega."
      ],
      "metadata": {
        "id": "ZwAgWYcMz3qZ"
      }
    },
    {
      "cell_type": "markdown",
      "source": [],
      "metadata": {
        "id": "qLFQmo-_z7bF"
      }
    },
    {
      "cell_type": "markdown",
      "source": [
        "#Variables y su descripción\n",
        "\n",
        "\n",
        "1.   Edad del Agente (Edad), Categoría: Numérica continua, int (número entero).\n",
        "\n",
        "2.  Calificación del Agente, Categoría: Numérica continua, float (número decimal).\n",
        "\n",
        "3.   Latitud de la Tienda, Categoría: Numérica continua, float (número decimal).\n",
        "\n",
        "4.   Longitud de la Tienda, Categoría: Numérica continua, float (número decimal).\n",
        "\n",
        "5.  Latitud de Entrega, Categoría: Numérica continua, float (número decimal).\n",
        "\n",
        "6.  Longitud de Entrega, Categoría: Numérica continua, float (número decimal).\n",
        "\n",
        "7.  Fecha del Pedido, Categoría: Temporal, datetime (formato de fecha).\n",
        "8.  Hora del Pedido, Categoría: Temporal, datetime.time (hora específica).\n",
        "\n",
        "9.  Hora de Recogida, Categoría: Temporal, datetime.time (hora específica).\n",
        "\n",
        "10.  Clima, Categoría: Categórica, str (cadena de texto).\n",
        "\n",
        "11.  Tráfico, Categoría: Categórica, str (cadena de texto).\n",
        "\n",
        "12.  Vehículo, Categoría: Categórica, str (cadena de texto).\n",
        "\n",
        "13.  Área, Categoría: Categórica, str (cadena de texto).\n",
        "\n",
        "14.  Tiempo de Entrega, Categoría: Numérica continua, int (número entero).\n",
        "\n",
        "15.  Categoría, Categoría: Categórica, str (cadena de texto).\n",
        "\n",
        "\n"
      ],
      "metadata": {
        "id": "7erUFP6U1dw5"
      }
    },
    {
      "cell_type": "markdown",
      "source": [
        "# Elección del Dataset\n",
        "El dataset fue seleccionado por su riqueza en variables relevantes, como datos geográficos, condiciones externas y características del agente, permitiendo un análisis integral del proceso de entrega."
      ],
      "metadata": {
        "id": "MEKZPCEr3e2r"
      }
    },
    {
      "cell_type": "markdown",
      "source": [
        "# Importación de bibliotecas necesarias  222\n"
      ],
      "metadata": {
        "id": "ISWZFthj35JG"
      }
    },
    {
      "cell_type": "code",
      "source": [
        "# Importación de bibliotecas necesarias\n",
        "import pandas as pd\n",
        "import numpy as np\n",
        "import matplotlib.pyplot as plt\n",
        "import seaborn as sns\n",
        "from sklearn.model_selection import train_test_split\n",
        "from sklearn.ensemble import RandomForestRegressor\n",
        "from sklearn.metrics import mean_squared_error\n",
        "from geopy.distance import geodesic  # Para calcular distancias geográficas\n",
        "\n",
        "\n"
      ],
      "metadata": {
        "id": "Kaezf7by4C13"
      },
      "execution_count": null,
      "outputs": []
    },
    {
      "cell_type": "code",
      "source": [
        "# Lectura del dataset\n",
        "url = 'https://raw.githubusercontent.com/Diego-Silvera/Proyecto_Delivery-_Amazon-/refs/heads/main/amazon_delivery.csv'  # Reemplazar con la ruta correcta del dataset\n",
        "df = pd.read_csv(url, sep=',', header=None)\n",
        "\n",
        "# Mostrar las primeras filas del dataset\n",
        "df.head()"
      ],
      "metadata": {
        "colab": {
          "base_uri": "https://localhost:8080/",
          "height": 261
        },
        "id": "40gG52S14i9x",
        "outputId": "82bdd853-dccb-4df0-a08b-016854a1c2fa"
      },
      "execution_count": null,
      "outputs": [
        {
          "output_type": "stream",
          "name": "stderr",
          "text": [
            "<ipython-input-2-de8aab2d20f1>:3: DtypeWarning: Columns (1,2,3,4,5,6,14) have mixed types. Specify dtype option on import or set low_memory=False.\n",
            "  df = pd.read_csv(url, sep=',', header=None)\n"
          ]
        },
        {
          "output_type": "execute_result",
          "data": {
            "text/plain": [
              "              0          1             2               3                4   \\\n",
              "0       Order_ID  Agent_Age  Agent_Rating  Store_Latitude  Store_Longitude   \n",
              "1  ialx566343618         37           4.9       22.745049        75.892471   \n",
              "2  akqg208421122         34           4.5       12.913041        77.683237   \n",
              "3  njpu434582536         23           4.4       12.914264          77.6784   \n",
              "4  rjto796129700         38           4.7       11.003669        76.976494   \n",
              "\n",
              "              5               6           7           8            9   \\\n",
              "0  Drop_Latitude  Drop_Longitude  Order_Date  Order_Time  Pickup_Time   \n",
              "1      22.765049       75.912471  2022-03-19    11:30:00     11:45:00   \n",
              "2      13.043041       77.813237  2022-03-25    19:45:00     19:50:00   \n",
              "3      12.924264         77.6884  2022-03-19    08:30:00     08:45:00   \n",
              "4      11.053669       77.026494  2022-04-05    18:00:00     18:10:00   \n",
              "\n",
              "           10       11           12              13             14  \\\n",
              "0     Weather  Traffic      Vehicle            Area  Delivery_Time   \n",
              "1       Sunny    High   motorcycle           Urban             120   \n",
              "2      Stormy     Jam      scooter   Metropolitian             165   \n",
              "3  Sandstorms     Low   motorcycle           Urban             130   \n",
              "4       Sunny  Medium   motorcycle   Metropolitian             105   \n",
              "\n",
              "            15  \n",
              "0     Category  \n",
              "1     Clothing  \n",
              "2  Electronics  \n",
              "3       Sports  \n",
              "4    Cosmetics  "
            ],
            "text/html": [
              "\n",
              "  <div id=\"df-ea2e00fc-e116-44b5-bfc4-7515301008b2\" class=\"colab-df-container\">\n",
              "    <div>\n",
              "<style scoped>\n",
              "    .dataframe tbody tr th:only-of-type {\n",
              "        vertical-align: middle;\n",
              "    }\n",
              "\n",
              "    .dataframe tbody tr th {\n",
              "        vertical-align: top;\n",
              "    }\n",
              "\n",
              "    .dataframe thead th {\n",
              "        text-align: right;\n",
              "    }\n",
              "</style>\n",
              "<table border=\"1\" class=\"dataframe\">\n",
              "  <thead>\n",
              "    <tr style=\"text-align: right;\">\n",
              "      <th></th>\n",
              "      <th>0</th>\n",
              "      <th>1</th>\n",
              "      <th>2</th>\n",
              "      <th>3</th>\n",
              "      <th>4</th>\n",
              "      <th>5</th>\n",
              "      <th>6</th>\n",
              "      <th>7</th>\n",
              "      <th>8</th>\n",
              "      <th>9</th>\n",
              "      <th>10</th>\n",
              "      <th>11</th>\n",
              "      <th>12</th>\n",
              "      <th>13</th>\n",
              "      <th>14</th>\n",
              "      <th>15</th>\n",
              "    </tr>\n",
              "  </thead>\n",
              "  <tbody>\n",
              "    <tr>\n",
              "      <th>0</th>\n",
              "      <td>Order_ID</td>\n",
              "      <td>Agent_Age</td>\n",
              "      <td>Agent_Rating</td>\n",
              "      <td>Store_Latitude</td>\n",
              "      <td>Store_Longitude</td>\n",
              "      <td>Drop_Latitude</td>\n",
              "      <td>Drop_Longitude</td>\n",
              "      <td>Order_Date</td>\n",
              "      <td>Order_Time</td>\n",
              "      <td>Pickup_Time</td>\n",
              "      <td>Weather</td>\n",
              "      <td>Traffic</td>\n",
              "      <td>Vehicle</td>\n",
              "      <td>Area</td>\n",
              "      <td>Delivery_Time</td>\n",
              "      <td>Category</td>\n",
              "    </tr>\n",
              "    <tr>\n",
              "      <th>1</th>\n",
              "      <td>ialx566343618</td>\n",
              "      <td>37</td>\n",
              "      <td>4.9</td>\n",
              "      <td>22.745049</td>\n",
              "      <td>75.892471</td>\n",
              "      <td>22.765049</td>\n",
              "      <td>75.912471</td>\n",
              "      <td>2022-03-19</td>\n",
              "      <td>11:30:00</td>\n",
              "      <td>11:45:00</td>\n",
              "      <td>Sunny</td>\n",
              "      <td>High</td>\n",
              "      <td>motorcycle</td>\n",
              "      <td>Urban</td>\n",
              "      <td>120</td>\n",
              "      <td>Clothing</td>\n",
              "    </tr>\n",
              "    <tr>\n",
              "      <th>2</th>\n",
              "      <td>akqg208421122</td>\n",
              "      <td>34</td>\n",
              "      <td>4.5</td>\n",
              "      <td>12.913041</td>\n",
              "      <td>77.683237</td>\n",
              "      <td>13.043041</td>\n",
              "      <td>77.813237</td>\n",
              "      <td>2022-03-25</td>\n",
              "      <td>19:45:00</td>\n",
              "      <td>19:50:00</td>\n",
              "      <td>Stormy</td>\n",
              "      <td>Jam</td>\n",
              "      <td>scooter</td>\n",
              "      <td>Metropolitian</td>\n",
              "      <td>165</td>\n",
              "      <td>Electronics</td>\n",
              "    </tr>\n",
              "    <tr>\n",
              "      <th>3</th>\n",
              "      <td>njpu434582536</td>\n",
              "      <td>23</td>\n",
              "      <td>4.4</td>\n",
              "      <td>12.914264</td>\n",
              "      <td>77.6784</td>\n",
              "      <td>12.924264</td>\n",
              "      <td>77.6884</td>\n",
              "      <td>2022-03-19</td>\n",
              "      <td>08:30:00</td>\n",
              "      <td>08:45:00</td>\n",
              "      <td>Sandstorms</td>\n",
              "      <td>Low</td>\n",
              "      <td>motorcycle</td>\n",
              "      <td>Urban</td>\n",
              "      <td>130</td>\n",
              "      <td>Sports</td>\n",
              "    </tr>\n",
              "    <tr>\n",
              "      <th>4</th>\n",
              "      <td>rjto796129700</td>\n",
              "      <td>38</td>\n",
              "      <td>4.7</td>\n",
              "      <td>11.003669</td>\n",
              "      <td>76.976494</td>\n",
              "      <td>11.053669</td>\n",
              "      <td>77.026494</td>\n",
              "      <td>2022-04-05</td>\n",
              "      <td>18:00:00</td>\n",
              "      <td>18:10:00</td>\n",
              "      <td>Sunny</td>\n",
              "      <td>Medium</td>\n",
              "      <td>motorcycle</td>\n",
              "      <td>Metropolitian</td>\n",
              "      <td>105</td>\n",
              "      <td>Cosmetics</td>\n",
              "    </tr>\n",
              "  </tbody>\n",
              "</table>\n",
              "</div>\n",
              "    <div class=\"colab-df-buttons\">\n",
              "\n",
              "  <div class=\"colab-df-container\">\n",
              "    <button class=\"colab-df-convert\" onclick=\"convertToInteractive('df-ea2e00fc-e116-44b5-bfc4-7515301008b2')\"\n",
              "            title=\"Convert this dataframe to an interactive table.\"\n",
              "            style=\"display:none;\">\n",
              "\n",
              "  <svg xmlns=\"http://www.w3.org/2000/svg\" height=\"24px\" viewBox=\"0 -960 960 960\">\n",
              "    <path d=\"M120-120v-720h720v720H120Zm60-500h600v-160H180v160Zm220 220h160v-160H400v160Zm0 220h160v-160H400v160ZM180-400h160v-160H180v160Zm440 0h160v-160H620v160ZM180-180h160v-160H180v160Zm440 0h160v-160H620v160Z\"/>\n",
              "  </svg>\n",
              "    </button>\n",
              "\n",
              "  <style>\n",
              "    .colab-df-container {\n",
              "      display:flex;\n",
              "      gap: 12px;\n",
              "    }\n",
              "\n",
              "    .colab-df-convert {\n",
              "      background-color: #E8F0FE;\n",
              "      border: none;\n",
              "      border-radius: 50%;\n",
              "      cursor: pointer;\n",
              "      display: none;\n",
              "      fill: #1967D2;\n",
              "      height: 32px;\n",
              "      padding: 0 0 0 0;\n",
              "      width: 32px;\n",
              "    }\n",
              "\n",
              "    .colab-df-convert:hover {\n",
              "      background-color: #E2EBFA;\n",
              "      box-shadow: 0px 1px 2px rgba(60, 64, 67, 0.3), 0px 1px 3px 1px rgba(60, 64, 67, 0.15);\n",
              "      fill: #174EA6;\n",
              "    }\n",
              "\n",
              "    .colab-df-buttons div {\n",
              "      margin-bottom: 4px;\n",
              "    }\n",
              "\n",
              "    [theme=dark] .colab-df-convert {\n",
              "      background-color: #3B4455;\n",
              "      fill: #D2E3FC;\n",
              "    }\n",
              "\n",
              "    [theme=dark] .colab-df-convert:hover {\n",
              "      background-color: #434B5C;\n",
              "      box-shadow: 0px 1px 3px 1px rgba(0, 0, 0, 0.15);\n",
              "      filter: drop-shadow(0px 1px 2px rgba(0, 0, 0, 0.3));\n",
              "      fill: #FFFFFF;\n",
              "    }\n",
              "  </style>\n",
              "\n",
              "    <script>\n",
              "      const buttonEl =\n",
              "        document.querySelector('#df-ea2e00fc-e116-44b5-bfc4-7515301008b2 button.colab-df-convert');\n",
              "      buttonEl.style.display =\n",
              "        google.colab.kernel.accessAllowed ? 'block' : 'none';\n",
              "\n",
              "      async function convertToInteractive(key) {\n",
              "        const element = document.querySelector('#df-ea2e00fc-e116-44b5-bfc4-7515301008b2');\n",
              "        const dataTable =\n",
              "          await google.colab.kernel.invokeFunction('convertToInteractive',\n",
              "                                                    [key], {});\n",
              "        if (!dataTable) return;\n",
              "\n",
              "        const docLinkHtml = 'Like what you see? Visit the ' +\n",
              "          '<a target=\"_blank\" href=https://colab.research.google.com/notebooks/data_table.ipynb>data table notebook</a>'\n",
              "          + ' to learn more about interactive tables.';\n",
              "        element.innerHTML = '';\n",
              "        dataTable['output_type'] = 'display_data';\n",
              "        await google.colab.output.renderOutput(dataTable, element);\n",
              "        const docLink = document.createElement('div');\n",
              "        docLink.innerHTML = docLinkHtml;\n",
              "        element.appendChild(docLink);\n",
              "      }\n",
              "    </script>\n",
              "  </div>\n",
              "\n",
              "\n",
              "<div id=\"df-b00b558d-a91c-40a6-bce4-6f47f2148c53\">\n",
              "  <button class=\"colab-df-quickchart\" onclick=\"quickchart('df-b00b558d-a91c-40a6-bce4-6f47f2148c53')\"\n",
              "            title=\"Suggest charts\"\n",
              "            style=\"display:none;\">\n",
              "\n",
              "<svg xmlns=\"http://www.w3.org/2000/svg\" height=\"24px\"viewBox=\"0 0 24 24\"\n",
              "     width=\"24px\">\n",
              "    <g>\n",
              "        <path d=\"M19 3H5c-1.1 0-2 .9-2 2v14c0 1.1.9 2 2 2h14c1.1 0 2-.9 2-2V5c0-1.1-.9-2-2-2zM9 17H7v-7h2v7zm4 0h-2V7h2v10zm4 0h-2v-4h2v4z\"/>\n",
              "    </g>\n",
              "</svg>\n",
              "  </button>\n",
              "\n",
              "<style>\n",
              "  .colab-df-quickchart {\n",
              "      --bg-color: #E8F0FE;\n",
              "      --fill-color: #1967D2;\n",
              "      --hover-bg-color: #E2EBFA;\n",
              "      --hover-fill-color: #174EA6;\n",
              "      --disabled-fill-color: #AAA;\n",
              "      --disabled-bg-color: #DDD;\n",
              "  }\n",
              "\n",
              "  [theme=dark] .colab-df-quickchart {\n",
              "      --bg-color: #3B4455;\n",
              "      --fill-color: #D2E3FC;\n",
              "      --hover-bg-color: #434B5C;\n",
              "      --hover-fill-color: #FFFFFF;\n",
              "      --disabled-bg-color: #3B4455;\n",
              "      --disabled-fill-color: #666;\n",
              "  }\n",
              "\n",
              "  .colab-df-quickchart {\n",
              "    background-color: var(--bg-color);\n",
              "    border: none;\n",
              "    border-radius: 50%;\n",
              "    cursor: pointer;\n",
              "    display: none;\n",
              "    fill: var(--fill-color);\n",
              "    height: 32px;\n",
              "    padding: 0;\n",
              "    width: 32px;\n",
              "  }\n",
              "\n",
              "  .colab-df-quickchart:hover {\n",
              "    background-color: var(--hover-bg-color);\n",
              "    box-shadow: 0 1px 2px rgba(60, 64, 67, 0.3), 0 1px 3px 1px rgba(60, 64, 67, 0.15);\n",
              "    fill: var(--button-hover-fill-color);\n",
              "  }\n",
              "\n",
              "  .colab-df-quickchart-complete:disabled,\n",
              "  .colab-df-quickchart-complete:disabled:hover {\n",
              "    background-color: var(--disabled-bg-color);\n",
              "    fill: var(--disabled-fill-color);\n",
              "    box-shadow: none;\n",
              "  }\n",
              "\n",
              "  .colab-df-spinner {\n",
              "    border: 2px solid var(--fill-color);\n",
              "    border-color: transparent;\n",
              "    border-bottom-color: var(--fill-color);\n",
              "    animation:\n",
              "      spin 1s steps(1) infinite;\n",
              "  }\n",
              "\n",
              "  @keyframes spin {\n",
              "    0% {\n",
              "      border-color: transparent;\n",
              "      border-bottom-color: var(--fill-color);\n",
              "      border-left-color: var(--fill-color);\n",
              "    }\n",
              "    20% {\n",
              "      border-color: transparent;\n",
              "      border-left-color: var(--fill-color);\n",
              "      border-top-color: var(--fill-color);\n",
              "    }\n",
              "    30% {\n",
              "      border-color: transparent;\n",
              "      border-left-color: var(--fill-color);\n",
              "      border-top-color: var(--fill-color);\n",
              "      border-right-color: var(--fill-color);\n",
              "    }\n",
              "    40% {\n",
              "      border-color: transparent;\n",
              "      border-right-color: var(--fill-color);\n",
              "      border-top-color: var(--fill-color);\n",
              "    }\n",
              "    60% {\n",
              "      border-color: transparent;\n",
              "      border-right-color: var(--fill-color);\n",
              "    }\n",
              "    80% {\n",
              "      border-color: transparent;\n",
              "      border-right-color: var(--fill-color);\n",
              "      border-bottom-color: var(--fill-color);\n",
              "    }\n",
              "    90% {\n",
              "      border-color: transparent;\n",
              "      border-bottom-color: var(--fill-color);\n",
              "    }\n",
              "  }\n",
              "</style>\n",
              "\n",
              "  <script>\n",
              "    async function quickchart(key) {\n",
              "      const quickchartButtonEl =\n",
              "        document.querySelector('#' + key + ' button');\n",
              "      quickchartButtonEl.disabled = true;  // To prevent multiple clicks.\n",
              "      quickchartButtonEl.classList.add('colab-df-spinner');\n",
              "      try {\n",
              "        const charts = await google.colab.kernel.invokeFunction(\n",
              "            'suggestCharts', [key], {});\n",
              "      } catch (error) {\n",
              "        console.error('Error during call to suggestCharts:', error);\n",
              "      }\n",
              "      quickchartButtonEl.classList.remove('colab-df-spinner');\n",
              "      quickchartButtonEl.classList.add('colab-df-quickchart-complete');\n",
              "    }\n",
              "    (() => {\n",
              "      let quickchartButtonEl =\n",
              "        document.querySelector('#df-b00b558d-a91c-40a6-bce4-6f47f2148c53 button');\n",
              "      quickchartButtonEl.style.display =\n",
              "        google.colab.kernel.accessAllowed ? 'block' : 'none';\n",
              "    })();\n",
              "  </script>\n",
              "</div>\n",
              "\n",
              "    </div>\n",
              "  </div>\n"
            ],
            "application/vnd.google.colaboratory.intrinsic+json": {
              "type": "dataframe",
              "variable_name": "df",
              "summary": "{\n  \"name\": \"df\",\n  \"rows\": 43740,\n  \"fields\": [\n    {\n      \"column\": 0,\n      \"properties\": {\n        \"dtype\": \"string\",\n        \"num_unique_values\": 43740,\n        \"samples\": [\n          \"ioqs144419986\",\n          \"fvml427733005\",\n          \"xpti888373807\"\n        ],\n        \"semantic_type\": \"\",\n        \"description\": \"\"\n      }\n    },\n    {\n      \"column\": 1,\n      \"properties\": {\n        \"dtype\": \"category\",\n        \"num_unique_values\": 45,\n        \"samples\": [\n          39,\n          22,\n          29\n        ],\n        \"semantic_type\": \"\",\n        \"description\": \"\"\n      }\n    },\n    {\n      \"column\": 2,\n      \"properties\": {\n        \"dtype\": \"category\",\n        \"num_unique_values\": 57,\n        \"samples\": [\n          \"Agent_Rating\",\n          \"4.6\",\n          4.9\n        ],\n        \"semantic_type\": \"\",\n        \"description\": \"\"\n      }\n    },\n    {\n      \"column\": 3,\n      \"properties\": {\n        \"dtype\": \"category\",\n        \"num_unique_values\": 928,\n        \"samples\": [\n          26.913726,\n          18.56245,\n          \"21.160437\"\n        ],\n        \"semantic_type\": \"\",\n        \"description\": \"\"\n      }\n    },\n    {\n      \"column\": 4,\n      \"properties\": {\n        \"dtype\": \"category\",\n        \"num_unique_values\": 805,\n        \"samples\": [\n          \"75.887522\",\n          88.36783,\n          \"72.778059\"\n        ],\n        \"semantic_type\": \"\",\n        \"description\": \"\"\n      }\n    },\n    {\n      \"column\": 5,\n      \"properties\": {\n        \"dtype\": \"category\",\n        \"num_unique_values\": 7855,\n        \"samples\": [\n          26.614133,\n          \"15.62155\",\n          13.088616\n        ],\n        \"semantic_type\": \"\",\n        \"description\": \"\"\n      }\n    },\n    {\n      \"column\": 6,\n      \"properties\": {\n        \"dtype\": \"category\",\n        \"num_unique_values\": 7855,\n        \"samples\": [\n          80.4881,\n          \"73.809092\",\n          80.294151\n        ],\n        \"semantic_type\": \"\",\n        \"description\": \"\"\n      }\n    },\n    {\n      \"column\": 7,\n      \"properties\": {\n        \"dtype\": \"category\",\n        \"num_unique_values\": 45,\n        \"samples\": [\n          \"2022-02-18\",\n          \"2022-03-28\",\n          \"2022-03-18\"\n        ],\n        \"semantic_type\": \"\",\n        \"description\": \"\"\n      }\n    },\n    {\n      \"column\": 8,\n      \"properties\": {\n        \"dtype\": \"category\",\n        \"num_unique_values\": 178,\n        \"samples\": [\n          \"20:20:00\",\n          \"22:10:00\",\n          \"17:40:00\"\n        ],\n        \"semantic_type\": \"\",\n        \"description\": \"\"\n      }\n    },\n    {\n      \"column\": 9,\n      \"properties\": {\n        \"dtype\": \"category\",\n        \"num_unique_values\": 194,\n        \"samples\": [\n          \"19:35:00\",\n          \"15:10:00\",\n          \"08:35:00\"\n        ],\n        \"semantic_type\": \"\",\n        \"description\": \"\"\n      }\n    },\n    {\n      \"column\": 10,\n      \"properties\": {\n        \"dtype\": \"category\",\n        \"num_unique_values\": 7,\n        \"samples\": [\n          \"Weather\",\n          \"Sunny\",\n          \"Fog\"\n        ],\n        \"semantic_type\": \"\",\n        \"description\": \"\"\n      }\n    },\n    {\n      \"column\": 11,\n      \"properties\": {\n        \"dtype\": \"category\",\n        \"num_unique_values\": 6,\n        \"samples\": [\n          \"Traffic\",\n          \"High \",\n          \"NaN \"\n        ],\n        \"semantic_type\": \"\",\n        \"description\": \"\"\n      }\n    },\n    {\n      \"column\": 12,\n      \"properties\": {\n        \"dtype\": \"category\",\n        \"num_unique_values\": 5,\n        \"samples\": [\n          \"motorcycle \",\n          \"bicycle \",\n          \"scooter \"\n        ],\n        \"semantic_type\": \"\",\n        \"description\": \"\"\n      }\n    },\n    {\n      \"column\": 13,\n      \"properties\": {\n        \"dtype\": \"category\",\n        \"num_unique_values\": 5,\n        \"samples\": [\n          \"Urban \",\n          \"Other\",\n          \"Metropolitian \"\n        ],\n        \"semantic_type\": \"\",\n        \"description\": \"\"\n      }\n    },\n    {\n      \"column\": 14,\n      \"properties\": {\n        \"dtype\": \"category\",\n        \"num_unique_values\": 178,\n        \"samples\": [\n          \"235\",\n          \"240\",\n          30\n        ],\n        \"semantic_type\": \"\",\n        \"description\": \"\"\n      }\n    },\n    {\n      \"column\": 15,\n      \"properties\": {\n        \"dtype\": \"category\",\n        \"num_unique_values\": 17,\n        \"samples\": [\n          \"Category\",\n          \"Clothing\",\n          \"Toys\"\n        ],\n        \"semantic_type\": \"\",\n        \"description\": \"\"\n      }\n    }\n  ]\n}"
            }
          },
          "metadata": {},
          "execution_count": 2
        }
      ]
    },
    {
      "cell_type": "code",
      "source": [
        "df.info()"
      ],
      "metadata": {
        "colab": {
          "base_uri": "https://localhost:8080/"
        },
        "id": "uVAFD8cyuVxr",
        "outputId": "c7da7a1f-e241-4c7e-97f6-8275a8c9a1a5"
      },
      "execution_count": null,
      "outputs": [
        {
          "output_type": "stream",
          "name": "stdout",
          "text": [
            "<class 'pandas.core.frame.DataFrame'>\n",
            "RangeIndex: 43740 entries, 0 to 43739\n",
            "Data columns (total 16 columns):\n",
            " #   Column  Non-Null Count  Dtype \n",
            "---  ------  --------------  ----- \n",
            " 0   0       43740 non-null  object\n",
            " 1   1       43740 non-null  object\n",
            " 2   2       43686 non-null  object\n",
            " 3   3       43740 non-null  object\n",
            " 4   4       43740 non-null  object\n",
            " 5   5       43740 non-null  object\n",
            " 6   6       43740 non-null  object\n",
            " 7   7       43740 non-null  object\n",
            " 8   8       43740 non-null  object\n",
            " 9   9       43740 non-null  object\n",
            " 10  10      43649 non-null  object\n",
            " 11  11      43740 non-null  object\n",
            " 12  12      43740 non-null  object\n",
            " 13  13      43740 non-null  object\n",
            " 14  14      43740 non-null  object\n",
            " 15  15      43740 non-null  object\n",
            "dtypes: object(16)\n",
            "memory usage: 5.3+ MB\n"
          ]
        }
      ]
    },
    {
      "cell_type": "code",
      "source": [
        "df.shape"
      ],
      "metadata": {
        "colab": {
          "base_uri": "https://localhost:8080/"
        },
        "id": "0HFL2QxIujZC",
        "outputId": "e5c69a8d-deba-4b6b-9a67-8c46428f9fd6"
      },
      "execution_count": null,
      "outputs": [
        {
          "output_type": "execute_result",
          "data": {
            "text/plain": [
              "(43740, 16)"
            ]
          },
          "metadata": {},
          "execution_count": 4
        }
      ]
    },
    {
      "cell_type": "markdown",
      "source": [
        "#Lista de Variables\n",
        "       \n",
        "0. Orden_ID - ID_Orden\n",
        "1.   Agent_Age - Edad del Agente\n",
        "2.   Agent_Rating -Clasificación del Agente\n",
        "3.   Store_Latitude - Latitud de la Tienda\n",
        "4. Store_Longitude - Longitud de la Tienda\n",
        "5. Drop_Latitude - Latitud de la Entrada\n",
        "6. Drop_Longitude - Longitud de la Entrada\n",
        "7. Order_Date - Fecha del Pedido\n",
        "8. Order_Time - Hora del Pedido\n",
        "9. Pickup_Time - Hora de Recogida\n",
        "10. Weather - Clima\n",
        "11. Traffic - Trafico\n",
        "12. Vehicle - Vehículo\n",
        "13. Area - Área\n",
        "14. Delivery_Time - Tiempo de Entrega\n",
        "15. Category - Categoría"
      ],
      "metadata": {
        "id": "89VOTMhWvl6y"
      }
    },
    {
      "cell_type": "markdown",
      "source": [
        "La Variable ID_Orden esta compuesta por Letras y Números, puede entenderse como erronea. Para mejorar eso vamos a crear una columna  Autonumerica."
      ],
      "metadata": {
        "id": "8OehA50dzxxb"
      }
    },
    {
      "cell_type": "code",
      "source": [
        "# Asignar valores autonuméricos a la columna 'Order_ID'\n",
        "df['Order_ID'] = range(1, len(df) + 1)\n",
        "print(df)"
      ],
      "metadata": {
        "colab": {
          "base_uri": "https://localhost:8080/"
        },
        "id": "qz0dCO3110HH",
        "outputId": "43d78fbc-bcda-4fcf-c513-f567ab302f45"
      },
      "execution_count": null,
      "outputs": [
        {
          "output_type": "stream",
          "name": "stdout",
          "text": [
            "                   0          1             2               3  \\\n",
            "0           Order_ID  Agent_Age  Agent_Rating  Store_Latitude   \n",
            "1      ialx566343618         37           4.9       22.745049   \n",
            "2      akqg208421122         34           4.5       12.913041   \n",
            "3      njpu434582536         23           4.4       12.914264   \n",
            "4      rjto796129700         38           4.7       11.003669   \n",
            "...              ...        ...           ...             ...   \n",
            "43735  jlxf819993117         30           4.8       26.902328   \n",
            "43736  aevx342135787         21           4.6             0.0   \n",
            "43737  xnek760674819         30           4.9       13.022394   \n",
            "43738  cynl434665991         20           4.7       11.001753   \n",
            "43739  nsyz997960170         23           4.9       23.351058   \n",
            "\n",
            "                     4              5               6           7           8  \\\n",
            "0      Store_Longitude  Drop_Latitude  Drop_Longitude  Order_Date  Order_Time   \n",
            "1            75.892471      22.765049       75.912471  2022-03-19    11:30:00   \n",
            "2            77.683237      13.043041       77.813237  2022-03-25    19:45:00   \n",
            "3              77.6784      12.924264         77.6884  2022-03-19    08:30:00   \n",
            "4            76.976494      11.053669       77.026494  2022-04-05    18:00:00   \n",
            "...                ...            ...             ...         ...         ...   \n",
            "43735        75.794257      26.912328       75.804257  2022-03-24    11:35:00   \n",
            "43736              0.0           0.07            0.07  2022-02-16    19:55:00   \n",
            "43737        80.242439      13.052394       80.272439  2022-03-11    23:50:00   \n",
            "43738        76.986241      11.041753       77.026241  2022-03-07    13:35:00   \n",
            "43739        85.325731      23.431058       85.405731  2022-03-02    17:10:00   \n",
            "\n",
            "                 9          10       11           12              13  \\\n",
            "0      Pickup_Time     Weather  Traffic      Vehicle            Area   \n",
            "1         11:45:00       Sunny    High   motorcycle           Urban    \n",
            "2         19:50:00      Stormy     Jam      scooter   Metropolitian    \n",
            "3         08:45:00  Sandstorms     Low   motorcycle           Urban    \n",
            "4         18:10:00       Sunny  Medium   motorcycle   Metropolitian    \n",
            "...            ...         ...      ...          ...             ...   \n",
            "43735     11:45:00       Windy    High   motorcycle   Metropolitian    \n",
            "43736     20:10:00       Windy     Jam   motorcycle   Metropolitian    \n",
            "43737     00:05:00      Cloudy     Low      scooter   Metropolitian    \n",
            "43738     13:40:00      Cloudy    High   motorcycle   Metropolitian    \n",
            "43739     17:15:00         Fog  Medium      scooter   Metropolitian    \n",
            "\n",
            "                  14           15  Order_ID  \n",
            "0      Delivery_Time     Category         1  \n",
            "1                120     Clothing         2  \n",
            "2                165  Electronics         3  \n",
            "3                130       Sports         4  \n",
            "4                105    Cosmetics         5  \n",
            "...              ...          ...       ...  \n",
            "43735            160         Home     43736  \n",
            "43736            180      Jewelry     43737  \n",
            "43737             80         Home     43738  \n",
            "43738            130      Kitchen     43739  \n",
            "43739            180    Cosmetics     43740  \n",
            "\n",
            "[43740 rows x 17 columns]\n"
          ]
        }
      ]
    },
    {
      "cell_type": "code",
      "source": [
        "df_new = df.drop(columns=[0])\n",
        "print(df_new)"
      ],
      "metadata": {
        "colab": {
          "base_uri": "https://localhost:8080/"
        },
        "id": "aV-McppxgF1C",
        "outputId": "6be36fb0-7973-42e2-dd54-f4a1a9a0475a"
      },
      "execution_count": null,
      "outputs": [
        {
          "output_type": "stream",
          "name": "stdout",
          "text": [
            "               1             2               3                4  \\\n",
            "0      Agent_Age  Agent_Rating  Store_Latitude  Store_Longitude   \n",
            "1             37           4.9       22.745049        75.892471   \n",
            "2             34           4.5       12.913041        77.683237   \n",
            "3             23           4.4       12.914264          77.6784   \n",
            "4             38           4.7       11.003669        76.976494   \n",
            "...          ...           ...             ...              ...   \n",
            "43735         30           4.8       26.902328        75.794257   \n",
            "43736         21           4.6             0.0              0.0   \n",
            "43737         30           4.9       13.022394        80.242439   \n",
            "43738         20           4.7       11.001753        76.986241   \n",
            "43739         23           4.9       23.351058        85.325731   \n",
            "\n",
            "                   5               6           7           8            9  \\\n",
            "0      Drop_Latitude  Drop_Longitude  Order_Date  Order_Time  Pickup_Time   \n",
            "1          22.765049       75.912471  2022-03-19    11:30:00     11:45:00   \n",
            "2          13.043041       77.813237  2022-03-25    19:45:00     19:50:00   \n",
            "3          12.924264         77.6884  2022-03-19    08:30:00     08:45:00   \n",
            "4          11.053669       77.026494  2022-04-05    18:00:00     18:10:00   \n",
            "...              ...             ...         ...         ...          ...   \n",
            "43735      26.912328       75.804257  2022-03-24    11:35:00     11:45:00   \n",
            "43736           0.07            0.07  2022-02-16    19:55:00     20:10:00   \n",
            "43737      13.052394       80.272439  2022-03-11    23:50:00     00:05:00   \n",
            "43738      11.041753       77.026241  2022-03-07    13:35:00     13:40:00   \n",
            "43739      23.431058       85.405731  2022-03-02    17:10:00     17:15:00   \n",
            "\n",
            "               10       11           12              13             14  \\\n",
            "0         Weather  Traffic      Vehicle            Area  Delivery_Time   \n",
            "1           Sunny    High   motorcycle           Urban             120   \n",
            "2          Stormy     Jam      scooter   Metropolitian             165   \n",
            "3      Sandstorms     Low   motorcycle           Urban             130   \n",
            "4           Sunny  Medium   motorcycle   Metropolitian             105   \n",
            "...           ...      ...          ...             ...            ...   \n",
            "43735       Windy    High   motorcycle   Metropolitian             160   \n",
            "43736       Windy     Jam   motorcycle   Metropolitian             180   \n",
            "43737      Cloudy     Low      scooter   Metropolitian              80   \n",
            "43738      Cloudy    High   motorcycle   Metropolitian             130   \n",
            "43739         Fog  Medium      scooter   Metropolitian             180   \n",
            "\n",
            "                15  Order_ID  \n",
            "0         Category         1  \n",
            "1         Clothing         2  \n",
            "2      Electronics         3  \n",
            "3           Sports         4  \n",
            "4        Cosmetics         5  \n",
            "...            ...       ...  \n",
            "43735         Home     43736  \n",
            "43736      Jewelry     43737  \n",
            "43737         Home     43738  \n",
            "43738      Kitchen     43739  \n",
            "43739    Cosmetics     43740  \n",
            "\n",
            "[43740 rows x 16 columns]\n"
          ]
        }
      ]
    },
    {
      "cell_type": "code",
      "source": [
        "#con esto Elimino el ID de la Orden\n",
        "df = df_new.drop(columns=['Order_ID'])\n",
        "print(df)"
      ],
      "metadata": {
        "colab": {
          "base_uri": "https://localhost:8080/"
        },
        "id": "_EQ8Kd1Ngan6",
        "outputId": "84f19f44-d25d-4343-9f35-4c2aa6756858"
      },
      "execution_count": null,
      "outputs": [
        {
          "output_type": "stream",
          "name": "stdout",
          "text": [
            "               1             2               3                4  \\\n",
            "0      Agent_Age  Agent_Rating  Store_Latitude  Store_Longitude   \n",
            "1             37           4.9       22.745049        75.892471   \n",
            "2             34           4.5       12.913041        77.683237   \n",
            "3             23           4.4       12.914264          77.6784   \n",
            "4             38           4.7       11.003669        76.976494   \n",
            "...          ...           ...             ...              ...   \n",
            "43735         30           4.8       26.902328        75.794257   \n",
            "43736         21           4.6             0.0              0.0   \n",
            "43737         30           4.9       13.022394        80.242439   \n",
            "43738         20           4.7       11.001753        76.986241   \n",
            "43739         23           4.9       23.351058        85.325731   \n",
            "\n",
            "                   5               6           7           8            9  \\\n",
            "0      Drop_Latitude  Drop_Longitude  Order_Date  Order_Time  Pickup_Time   \n",
            "1          22.765049       75.912471  2022-03-19    11:30:00     11:45:00   \n",
            "2          13.043041       77.813237  2022-03-25    19:45:00     19:50:00   \n",
            "3          12.924264         77.6884  2022-03-19    08:30:00     08:45:00   \n",
            "4          11.053669       77.026494  2022-04-05    18:00:00     18:10:00   \n",
            "...              ...             ...         ...         ...          ...   \n",
            "43735      26.912328       75.804257  2022-03-24    11:35:00     11:45:00   \n",
            "43736           0.07            0.07  2022-02-16    19:55:00     20:10:00   \n",
            "43737      13.052394       80.272439  2022-03-11    23:50:00     00:05:00   \n",
            "43738      11.041753       77.026241  2022-03-07    13:35:00     13:40:00   \n",
            "43739      23.431058       85.405731  2022-03-02    17:10:00     17:15:00   \n",
            "\n",
            "               10       11           12              13             14  \\\n",
            "0         Weather  Traffic      Vehicle            Area  Delivery_Time   \n",
            "1           Sunny    High   motorcycle           Urban             120   \n",
            "2          Stormy     Jam      scooter   Metropolitian             165   \n",
            "3      Sandstorms     Low   motorcycle           Urban             130   \n",
            "4           Sunny  Medium   motorcycle   Metropolitian             105   \n",
            "...           ...      ...          ...             ...            ...   \n",
            "43735       Windy    High   motorcycle   Metropolitian             160   \n",
            "43736       Windy     Jam   motorcycle   Metropolitian             180   \n",
            "43737      Cloudy     Low      scooter   Metropolitian              80   \n",
            "43738      Cloudy    High   motorcycle   Metropolitian             130   \n",
            "43739         Fog  Medium      scooter   Metropolitian             180   \n",
            "\n",
            "                15  \n",
            "0         Category  \n",
            "1         Clothing  \n",
            "2      Electronics  \n",
            "3           Sports  \n",
            "4        Cosmetics  \n",
            "...            ...  \n",
            "43735         Home  \n",
            "43736      Jewelry  \n",
            "43737         Home  \n",
            "43738      Kitchen  \n",
            "43739    Cosmetics  \n",
            "\n",
            "[43740 rows x 15 columns]\n"
          ]
        }
      ]
    },
    {
      "cell_type": "markdown",
      "source": [
        "\n",
        "Como la columna ID_Orden no era necesaria para identificar las filas ya qeu los DataFrames de Pandas tienen un identificador generado automáticamente llamado  **Índice**, se elimino dicha Columna, con el fin de hacer más agíl su procesamiento.\n",
        "\n"
      ],
      "metadata": {
        "id": "Ju_LSsbtgFkO"
      }
    },
    {
      "cell_type": "code",
      "source": [
        "# Contar el número de valores igual a 0 en las columnas 1, 2, 3, 4 y 5\n",
        "columns_to_check = [1, 2, 3, 4, 5, 6, 7, 8, 9, 10, 11, 12, 13, 14, 15]\n",
        "\n",
        "# Contar los valores iguales a 0\n",
        "nun_missing = (df[columns_to_check] == 0).sum()\n",
        "\n",
        "# Mostrar el resultado\n",
        "print(nun_missing)"
      ],
      "metadata": {
        "colab": {
          "base_uri": "https://localhost:8080/"
        },
        "id": "cAqex1AFiyxP",
        "outputId": "3e205579-6e1c-46b5-de4c-2e173823e1e6"
      },
      "execution_count": null,
      "outputs": [
        {
          "output_type": "stream",
          "name": "stdout",
          "text": [
            "1       0\n",
            "2       0\n",
            "3     892\n",
            "4     892\n",
            "5       0\n",
            "6       0\n",
            "7       0\n",
            "8       0\n",
            "9       0\n",
            "10      0\n",
            "11      0\n",
            "12      0\n",
            "13      0\n",
            "14      0\n",
            "15      0\n",
            "dtype: int64\n"
          ]
        }
      ]
    },
    {
      "cell_type": "code",
      "source": [
        "print(df.columns)"
      ],
      "metadata": {
        "colab": {
          "base_uri": "https://localhost:8080/"
        },
        "id": "1u9wZ7GUmK03",
        "outputId": "b1eb9445-6218-4276-f41a-9b13f5f06274"
      },
      "execution_count": null,
      "outputs": [
        {
          "output_type": "stream",
          "name": "stdout",
          "text": [
            "Index([1, 2, 3, 4, 5, 6, 7, 8, 9, 10, 11, 12, 13, 14, 15], dtype='object')\n"
          ]
        }
      ]
    },
    {
      "cell_type": "markdown",
      "source": [
        "# Renombrar las columnas para mayor claridad\n",
        "**Verificar las primeras filas para confirmar el renombramiento**"
      ],
      "metadata": {
        "id": "hV2su5sBV-WA"
      }
    },
    {
      "cell_type": "code",
      "source": [
        "df.columns = [\"Agent_Age\", \"Agent_Rating\", \"Store_Latitude\", \"Store_Longitude\",\n",
        "    \"Drop_Latitude\", \"Drop_Longitude\", \"Order_Date\", \"Order_Time\",\n",
        "    \"Pickup_Time\", \"Weather\", \"Traffic\", \"Vehicle\", \"Area\",\n",
        "    \"Delivery_Time\", \"Category\"]\n",
        "df.head()\n"
      ],
      "metadata": {
        "colab": {
          "base_uri": "https://localhost:8080/",
          "height": 226
        },
        "id": "0i2NK-bPSoYE",
        "outputId": "74266be5-6cfa-4b5b-9098-560245d5752f"
      },
      "execution_count": null,
      "outputs": [
        {
          "output_type": "execute_result",
          "data": {
            "text/plain": [
              "   Agent_Age  Agent_Rating  Store_Latitude  Store_Longitude  Drop_Latitude  \\\n",
              "0  Agent_Age  Agent_Rating  Store_Latitude  Store_Longitude  Drop_Latitude   \n",
              "1         37           4.9       22.745049        75.892471      22.765049   \n",
              "2         34           4.5       12.913041        77.683237      13.043041   \n",
              "3         23           4.4       12.914264          77.6784      12.924264   \n",
              "4         38           4.7       11.003669        76.976494      11.053669   \n",
              "\n",
              "   Drop_Longitude  Order_Date  Order_Time  Pickup_Time     Weather  Traffic  \\\n",
              "0  Drop_Longitude  Order_Date  Order_Time  Pickup_Time     Weather  Traffic   \n",
              "1       75.912471  2022-03-19    11:30:00     11:45:00       Sunny    High    \n",
              "2       77.813237  2022-03-25    19:45:00     19:50:00      Stormy     Jam    \n",
              "3         77.6884  2022-03-19    08:30:00     08:45:00  Sandstorms     Low    \n",
              "4       77.026494  2022-04-05    18:00:00     18:10:00       Sunny  Medium    \n",
              "\n",
              "       Vehicle            Area  Delivery_Time     Category  \n",
              "0      Vehicle            Area  Delivery_Time     Category  \n",
              "1  motorcycle           Urban             120     Clothing  \n",
              "2     scooter   Metropolitian             165  Electronics  \n",
              "3  motorcycle           Urban             130       Sports  \n",
              "4  motorcycle   Metropolitian             105    Cosmetics  "
            ],
            "text/html": [
              "\n",
              "  <div id=\"df-77a9de46-6895-484e-ac1e-8f7cf570f8c0\" class=\"colab-df-container\">\n",
              "    <div>\n",
              "<style scoped>\n",
              "    .dataframe tbody tr th:only-of-type {\n",
              "        vertical-align: middle;\n",
              "    }\n",
              "\n",
              "    .dataframe tbody tr th {\n",
              "        vertical-align: top;\n",
              "    }\n",
              "\n",
              "    .dataframe thead th {\n",
              "        text-align: right;\n",
              "    }\n",
              "</style>\n",
              "<table border=\"1\" class=\"dataframe\">\n",
              "  <thead>\n",
              "    <tr style=\"text-align: right;\">\n",
              "      <th></th>\n",
              "      <th>Agent_Age</th>\n",
              "      <th>Agent_Rating</th>\n",
              "      <th>Store_Latitude</th>\n",
              "      <th>Store_Longitude</th>\n",
              "      <th>Drop_Latitude</th>\n",
              "      <th>Drop_Longitude</th>\n",
              "      <th>Order_Date</th>\n",
              "      <th>Order_Time</th>\n",
              "      <th>Pickup_Time</th>\n",
              "      <th>Weather</th>\n",
              "      <th>Traffic</th>\n",
              "      <th>Vehicle</th>\n",
              "      <th>Area</th>\n",
              "      <th>Delivery_Time</th>\n",
              "      <th>Category</th>\n",
              "    </tr>\n",
              "  </thead>\n",
              "  <tbody>\n",
              "    <tr>\n",
              "      <th>0</th>\n",
              "      <td>Agent_Age</td>\n",
              "      <td>Agent_Rating</td>\n",
              "      <td>Store_Latitude</td>\n",
              "      <td>Store_Longitude</td>\n",
              "      <td>Drop_Latitude</td>\n",
              "      <td>Drop_Longitude</td>\n",
              "      <td>Order_Date</td>\n",
              "      <td>Order_Time</td>\n",
              "      <td>Pickup_Time</td>\n",
              "      <td>Weather</td>\n",
              "      <td>Traffic</td>\n",
              "      <td>Vehicle</td>\n",
              "      <td>Area</td>\n",
              "      <td>Delivery_Time</td>\n",
              "      <td>Category</td>\n",
              "    </tr>\n",
              "    <tr>\n",
              "      <th>1</th>\n",
              "      <td>37</td>\n",
              "      <td>4.9</td>\n",
              "      <td>22.745049</td>\n",
              "      <td>75.892471</td>\n",
              "      <td>22.765049</td>\n",
              "      <td>75.912471</td>\n",
              "      <td>2022-03-19</td>\n",
              "      <td>11:30:00</td>\n",
              "      <td>11:45:00</td>\n",
              "      <td>Sunny</td>\n",
              "      <td>High</td>\n",
              "      <td>motorcycle</td>\n",
              "      <td>Urban</td>\n",
              "      <td>120</td>\n",
              "      <td>Clothing</td>\n",
              "    </tr>\n",
              "    <tr>\n",
              "      <th>2</th>\n",
              "      <td>34</td>\n",
              "      <td>4.5</td>\n",
              "      <td>12.913041</td>\n",
              "      <td>77.683237</td>\n",
              "      <td>13.043041</td>\n",
              "      <td>77.813237</td>\n",
              "      <td>2022-03-25</td>\n",
              "      <td>19:45:00</td>\n",
              "      <td>19:50:00</td>\n",
              "      <td>Stormy</td>\n",
              "      <td>Jam</td>\n",
              "      <td>scooter</td>\n",
              "      <td>Metropolitian</td>\n",
              "      <td>165</td>\n",
              "      <td>Electronics</td>\n",
              "    </tr>\n",
              "    <tr>\n",
              "      <th>3</th>\n",
              "      <td>23</td>\n",
              "      <td>4.4</td>\n",
              "      <td>12.914264</td>\n",
              "      <td>77.6784</td>\n",
              "      <td>12.924264</td>\n",
              "      <td>77.6884</td>\n",
              "      <td>2022-03-19</td>\n",
              "      <td>08:30:00</td>\n",
              "      <td>08:45:00</td>\n",
              "      <td>Sandstorms</td>\n",
              "      <td>Low</td>\n",
              "      <td>motorcycle</td>\n",
              "      <td>Urban</td>\n",
              "      <td>130</td>\n",
              "      <td>Sports</td>\n",
              "    </tr>\n",
              "    <tr>\n",
              "      <th>4</th>\n",
              "      <td>38</td>\n",
              "      <td>4.7</td>\n",
              "      <td>11.003669</td>\n",
              "      <td>76.976494</td>\n",
              "      <td>11.053669</td>\n",
              "      <td>77.026494</td>\n",
              "      <td>2022-04-05</td>\n",
              "      <td>18:00:00</td>\n",
              "      <td>18:10:00</td>\n",
              "      <td>Sunny</td>\n",
              "      <td>Medium</td>\n",
              "      <td>motorcycle</td>\n",
              "      <td>Metropolitian</td>\n",
              "      <td>105</td>\n",
              "      <td>Cosmetics</td>\n",
              "    </tr>\n",
              "  </tbody>\n",
              "</table>\n",
              "</div>\n",
              "    <div class=\"colab-df-buttons\">\n",
              "\n",
              "  <div class=\"colab-df-container\">\n",
              "    <button class=\"colab-df-convert\" onclick=\"convertToInteractive('df-77a9de46-6895-484e-ac1e-8f7cf570f8c0')\"\n",
              "            title=\"Convert this dataframe to an interactive table.\"\n",
              "            style=\"display:none;\">\n",
              "\n",
              "  <svg xmlns=\"http://www.w3.org/2000/svg\" height=\"24px\" viewBox=\"0 -960 960 960\">\n",
              "    <path d=\"M120-120v-720h720v720H120Zm60-500h600v-160H180v160Zm220 220h160v-160H400v160Zm0 220h160v-160H400v160ZM180-400h160v-160H180v160Zm440 0h160v-160H620v160ZM180-180h160v-160H180v160Zm440 0h160v-160H620v160Z\"/>\n",
              "  </svg>\n",
              "    </button>\n",
              "\n",
              "  <style>\n",
              "    .colab-df-container {\n",
              "      display:flex;\n",
              "      gap: 12px;\n",
              "    }\n",
              "\n",
              "    .colab-df-convert {\n",
              "      background-color: #E8F0FE;\n",
              "      border: none;\n",
              "      border-radius: 50%;\n",
              "      cursor: pointer;\n",
              "      display: none;\n",
              "      fill: #1967D2;\n",
              "      height: 32px;\n",
              "      padding: 0 0 0 0;\n",
              "      width: 32px;\n",
              "    }\n",
              "\n",
              "    .colab-df-convert:hover {\n",
              "      background-color: #E2EBFA;\n",
              "      box-shadow: 0px 1px 2px rgba(60, 64, 67, 0.3), 0px 1px 3px 1px rgba(60, 64, 67, 0.15);\n",
              "      fill: #174EA6;\n",
              "    }\n",
              "\n",
              "    .colab-df-buttons div {\n",
              "      margin-bottom: 4px;\n",
              "    }\n",
              "\n",
              "    [theme=dark] .colab-df-convert {\n",
              "      background-color: #3B4455;\n",
              "      fill: #D2E3FC;\n",
              "    }\n",
              "\n",
              "    [theme=dark] .colab-df-convert:hover {\n",
              "      background-color: #434B5C;\n",
              "      box-shadow: 0px 1px 3px 1px rgba(0, 0, 0, 0.15);\n",
              "      filter: drop-shadow(0px 1px 2px rgba(0, 0, 0, 0.3));\n",
              "      fill: #FFFFFF;\n",
              "    }\n",
              "  </style>\n",
              "\n",
              "    <script>\n",
              "      const buttonEl =\n",
              "        document.querySelector('#df-77a9de46-6895-484e-ac1e-8f7cf570f8c0 button.colab-df-convert');\n",
              "      buttonEl.style.display =\n",
              "        google.colab.kernel.accessAllowed ? 'block' : 'none';\n",
              "\n",
              "      async function convertToInteractive(key) {\n",
              "        const element = document.querySelector('#df-77a9de46-6895-484e-ac1e-8f7cf570f8c0');\n",
              "        const dataTable =\n",
              "          await google.colab.kernel.invokeFunction('convertToInteractive',\n",
              "                                                    [key], {});\n",
              "        if (!dataTable) return;\n",
              "\n",
              "        const docLinkHtml = 'Like what you see? Visit the ' +\n",
              "          '<a target=\"_blank\" href=https://colab.research.google.com/notebooks/data_table.ipynb>data table notebook</a>'\n",
              "          + ' to learn more about interactive tables.';\n",
              "        element.innerHTML = '';\n",
              "        dataTable['output_type'] = 'display_data';\n",
              "        await google.colab.output.renderOutput(dataTable, element);\n",
              "        const docLink = document.createElement('div');\n",
              "        docLink.innerHTML = docLinkHtml;\n",
              "        element.appendChild(docLink);\n",
              "      }\n",
              "    </script>\n",
              "  </div>\n",
              "\n",
              "\n",
              "<div id=\"df-8f75bb99-8d11-4f05-8edb-72a0daf8c18a\">\n",
              "  <button class=\"colab-df-quickchart\" onclick=\"quickchart('df-8f75bb99-8d11-4f05-8edb-72a0daf8c18a')\"\n",
              "            title=\"Suggest charts\"\n",
              "            style=\"display:none;\">\n",
              "\n",
              "<svg xmlns=\"http://www.w3.org/2000/svg\" height=\"24px\"viewBox=\"0 0 24 24\"\n",
              "     width=\"24px\">\n",
              "    <g>\n",
              "        <path d=\"M19 3H5c-1.1 0-2 .9-2 2v14c0 1.1.9 2 2 2h14c1.1 0 2-.9 2-2V5c0-1.1-.9-2-2-2zM9 17H7v-7h2v7zm4 0h-2V7h2v10zm4 0h-2v-4h2v4z\"/>\n",
              "    </g>\n",
              "</svg>\n",
              "  </button>\n",
              "\n",
              "<style>\n",
              "  .colab-df-quickchart {\n",
              "      --bg-color: #E8F0FE;\n",
              "      --fill-color: #1967D2;\n",
              "      --hover-bg-color: #E2EBFA;\n",
              "      --hover-fill-color: #174EA6;\n",
              "      --disabled-fill-color: #AAA;\n",
              "      --disabled-bg-color: #DDD;\n",
              "  }\n",
              "\n",
              "  [theme=dark] .colab-df-quickchart {\n",
              "      --bg-color: #3B4455;\n",
              "      --fill-color: #D2E3FC;\n",
              "      --hover-bg-color: #434B5C;\n",
              "      --hover-fill-color: #FFFFFF;\n",
              "      --disabled-bg-color: #3B4455;\n",
              "      --disabled-fill-color: #666;\n",
              "  }\n",
              "\n",
              "  .colab-df-quickchart {\n",
              "    background-color: var(--bg-color);\n",
              "    border: none;\n",
              "    border-radius: 50%;\n",
              "    cursor: pointer;\n",
              "    display: none;\n",
              "    fill: var(--fill-color);\n",
              "    height: 32px;\n",
              "    padding: 0;\n",
              "    width: 32px;\n",
              "  }\n",
              "\n",
              "  .colab-df-quickchart:hover {\n",
              "    background-color: var(--hover-bg-color);\n",
              "    box-shadow: 0 1px 2px rgba(60, 64, 67, 0.3), 0 1px 3px 1px rgba(60, 64, 67, 0.15);\n",
              "    fill: var(--button-hover-fill-color);\n",
              "  }\n",
              "\n",
              "  .colab-df-quickchart-complete:disabled,\n",
              "  .colab-df-quickchart-complete:disabled:hover {\n",
              "    background-color: var(--disabled-bg-color);\n",
              "    fill: var(--disabled-fill-color);\n",
              "    box-shadow: none;\n",
              "  }\n",
              "\n",
              "  .colab-df-spinner {\n",
              "    border: 2px solid var(--fill-color);\n",
              "    border-color: transparent;\n",
              "    border-bottom-color: var(--fill-color);\n",
              "    animation:\n",
              "      spin 1s steps(1) infinite;\n",
              "  }\n",
              "\n",
              "  @keyframes spin {\n",
              "    0% {\n",
              "      border-color: transparent;\n",
              "      border-bottom-color: var(--fill-color);\n",
              "      border-left-color: var(--fill-color);\n",
              "    }\n",
              "    20% {\n",
              "      border-color: transparent;\n",
              "      border-left-color: var(--fill-color);\n",
              "      border-top-color: var(--fill-color);\n",
              "    }\n",
              "    30% {\n",
              "      border-color: transparent;\n",
              "      border-left-color: var(--fill-color);\n",
              "      border-top-color: var(--fill-color);\n",
              "      border-right-color: var(--fill-color);\n",
              "    }\n",
              "    40% {\n",
              "      border-color: transparent;\n",
              "      border-right-color: var(--fill-color);\n",
              "      border-top-color: var(--fill-color);\n",
              "    }\n",
              "    60% {\n",
              "      border-color: transparent;\n",
              "      border-right-color: var(--fill-color);\n",
              "    }\n",
              "    80% {\n",
              "      border-color: transparent;\n",
              "      border-right-color: var(--fill-color);\n",
              "      border-bottom-color: var(--fill-color);\n",
              "    }\n",
              "    90% {\n",
              "      border-color: transparent;\n",
              "      border-bottom-color: var(--fill-color);\n",
              "    }\n",
              "  }\n",
              "</style>\n",
              "\n",
              "  <script>\n",
              "    async function quickchart(key) {\n",
              "      const quickchartButtonEl =\n",
              "        document.querySelector('#' + key + ' button');\n",
              "      quickchartButtonEl.disabled = true;  // To prevent multiple clicks.\n",
              "      quickchartButtonEl.classList.add('colab-df-spinner');\n",
              "      try {\n",
              "        const charts = await google.colab.kernel.invokeFunction(\n",
              "            'suggestCharts', [key], {});\n",
              "      } catch (error) {\n",
              "        console.error('Error during call to suggestCharts:', error);\n",
              "      }\n",
              "      quickchartButtonEl.classList.remove('colab-df-spinner');\n",
              "      quickchartButtonEl.classList.add('colab-df-quickchart-complete');\n",
              "    }\n",
              "    (() => {\n",
              "      let quickchartButtonEl =\n",
              "        document.querySelector('#df-8f75bb99-8d11-4f05-8edb-72a0daf8c18a button');\n",
              "      quickchartButtonEl.style.display =\n",
              "        google.colab.kernel.accessAllowed ? 'block' : 'none';\n",
              "    })();\n",
              "  </script>\n",
              "</div>\n",
              "\n",
              "    </div>\n",
              "  </div>\n"
            ],
            "application/vnd.google.colaboratory.intrinsic+json": {
              "type": "dataframe",
              "variable_name": "df",
              "summary": "{\n  \"name\": \"df\",\n  \"rows\": 43740,\n  \"fields\": [\n    {\n      \"column\": \"Agent_Age\",\n      \"properties\": {\n        \"dtype\": \"category\",\n        \"num_unique_values\": 45,\n        \"samples\": [\n          39,\n          22,\n          29\n        ],\n        \"semantic_type\": \"\",\n        \"description\": \"\"\n      }\n    },\n    {\n      \"column\": \"Agent_Rating\",\n      \"properties\": {\n        \"dtype\": \"category\",\n        \"num_unique_values\": 57,\n        \"samples\": [\n          \"Agent_Rating\",\n          \"4.6\",\n          4.9\n        ],\n        \"semantic_type\": \"\",\n        \"description\": \"\"\n      }\n    },\n    {\n      \"column\": \"Store_Latitude\",\n      \"properties\": {\n        \"dtype\": \"category\",\n        \"num_unique_values\": 928,\n        \"samples\": [\n          26.913726,\n          18.56245,\n          \"21.160437\"\n        ],\n        \"semantic_type\": \"\",\n        \"description\": \"\"\n      }\n    },\n    {\n      \"column\": \"Store_Longitude\",\n      \"properties\": {\n        \"dtype\": \"category\",\n        \"num_unique_values\": 805,\n        \"samples\": [\n          \"75.887522\",\n          88.36783,\n          \"72.778059\"\n        ],\n        \"semantic_type\": \"\",\n        \"description\": \"\"\n      }\n    },\n    {\n      \"column\": \"Drop_Latitude\",\n      \"properties\": {\n        \"dtype\": \"category\",\n        \"num_unique_values\": 7855,\n        \"samples\": [\n          26.614133,\n          \"15.62155\",\n          13.088616\n        ],\n        \"semantic_type\": \"\",\n        \"description\": \"\"\n      }\n    },\n    {\n      \"column\": \"Drop_Longitude\",\n      \"properties\": {\n        \"dtype\": \"category\",\n        \"num_unique_values\": 7855,\n        \"samples\": [\n          80.4881,\n          \"73.809092\",\n          80.294151\n        ],\n        \"semantic_type\": \"\",\n        \"description\": \"\"\n      }\n    },\n    {\n      \"column\": \"Order_Date\",\n      \"properties\": {\n        \"dtype\": \"category\",\n        \"num_unique_values\": 45,\n        \"samples\": [\n          \"2022-02-18\",\n          \"2022-03-28\",\n          \"2022-03-18\"\n        ],\n        \"semantic_type\": \"\",\n        \"description\": \"\"\n      }\n    },\n    {\n      \"column\": \"Order_Time\",\n      \"properties\": {\n        \"dtype\": \"category\",\n        \"num_unique_values\": 178,\n        \"samples\": [\n          \"20:20:00\",\n          \"22:10:00\",\n          \"17:40:00\"\n        ],\n        \"semantic_type\": \"\",\n        \"description\": \"\"\n      }\n    },\n    {\n      \"column\": \"Pickup_Time\",\n      \"properties\": {\n        \"dtype\": \"category\",\n        \"num_unique_values\": 194,\n        \"samples\": [\n          \"19:35:00\",\n          \"15:10:00\",\n          \"08:35:00\"\n        ],\n        \"semantic_type\": \"\",\n        \"description\": \"\"\n      }\n    },\n    {\n      \"column\": \"Weather\",\n      \"properties\": {\n        \"dtype\": \"category\",\n        \"num_unique_values\": 7,\n        \"samples\": [\n          \"Weather\",\n          \"Sunny\",\n          \"Fog\"\n        ],\n        \"semantic_type\": \"\",\n        \"description\": \"\"\n      }\n    },\n    {\n      \"column\": \"Traffic\",\n      \"properties\": {\n        \"dtype\": \"category\",\n        \"num_unique_values\": 6,\n        \"samples\": [\n          \"Traffic\",\n          \"High \",\n          \"NaN \"\n        ],\n        \"semantic_type\": \"\",\n        \"description\": \"\"\n      }\n    },\n    {\n      \"column\": \"Vehicle\",\n      \"properties\": {\n        \"dtype\": \"category\",\n        \"num_unique_values\": 5,\n        \"samples\": [\n          \"motorcycle \",\n          \"bicycle \",\n          \"scooter \"\n        ],\n        \"semantic_type\": \"\",\n        \"description\": \"\"\n      }\n    },\n    {\n      \"column\": \"Area\",\n      \"properties\": {\n        \"dtype\": \"category\",\n        \"num_unique_values\": 5,\n        \"samples\": [\n          \"Urban \",\n          \"Other\",\n          \"Metropolitian \"\n        ],\n        \"semantic_type\": \"\",\n        \"description\": \"\"\n      }\n    },\n    {\n      \"column\": \"Delivery_Time\",\n      \"properties\": {\n        \"dtype\": \"category\",\n        \"num_unique_values\": 178,\n        \"samples\": [\n          \"235\",\n          \"240\",\n          30\n        ],\n        \"semantic_type\": \"\",\n        \"description\": \"\"\n      }\n    },\n    {\n      \"column\": \"Category\",\n      \"properties\": {\n        \"dtype\": \"category\",\n        \"num_unique_values\": 17,\n        \"samples\": [\n          \"Category\",\n          \"Clothing\",\n          \"Toys\"\n        ],\n        \"semantic_type\": \"\",\n        \"description\": \"\"\n      }\n    }\n  ]\n}"
            }
          },
          "metadata": {},
          "execution_count": 10
        }
      ]
    },
    {
      "cell_type": "markdown",
      "source": [
        "# Limpieza inicial: detectar valores faltantes"
      ],
      "metadata": {
        "id": "hEfhkRxpWUQf"
      }
    },
    {
      "cell_type": "code",
      "source": [
        "missing_values = df.isnull().sum()\n",
        "print(\"Valores faltantes por columna:\")\n",
        "print(missing_values)"
      ],
      "metadata": {
        "colab": {
          "base_uri": "https://localhost:8080/"
        },
        "id": "g5tZ6bQDVh8J",
        "outputId": "79e352fb-2636-484b-de25-2f2da1b1f25f"
      },
      "execution_count": null,
      "outputs": [
        {
          "output_type": "stream",
          "name": "stdout",
          "text": [
            "Valores faltantes por columna:\n",
            "Agent_Age           0\n",
            "Agent_Rating       54\n",
            "Store_Latitude      0\n",
            "Store_Longitude     0\n",
            "Drop_Latitude       0\n",
            "Drop_Longitude      0\n",
            "Order_Date          0\n",
            "Order_Time          0\n",
            "Pickup_Time         0\n",
            "Weather            91\n",
            "Traffic             0\n",
            "Vehicle             0\n",
            "Area                0\n",
            "Delivery_Time       0\n",
            "Category            0\n",
            "dtype: int64\n"
          ]
        }
      ]
    },
    {
      "cell_type": "markdown",
      "source": [
        "# Eliminación de filas con valores faltantes"
      ],
      "metadata": {
        "id": "WD8Vn-0ZWatg"
      }
    },
    {
      "cell_type": "code",
      "source": [
        "df_cleaned = df.dropna()"
      ],
      "metadata": {
        "id": "CiDxLugnVpFh"
      },
      "execution_count": null,
      "outputs": []
    },
    {
      "cell_type": "markdown",
      "source": [
        "# Confirmar la limpieza de datos"
      ],
      "metadata": {
        "id": "eFIcEz7RWiRp"
      }
    },
    {
      "cell_type": "code",
      "source": [
        "missing_values_cleaned = df_cleaned.isnull().sum()\n",
        "print(\"\\nDespués de la limpieza:\")\n",
        "print(missing_values_cleaned)"
      ],
      "metadata": {
        "colab": {
          "base_uri": "https://localhost:8080/"
        },
        "id": "jtHhBzxKVws8",
        "outputId": "161f2221-6b2f-4e3c-8265-d5b7cfdb4ec3"
      },
      "execution_count": null,
      "outputs": [
        {
          "output_type": "stream",
          "name": "stdout",
          "text": [
            "\n",
            "Después de la limpieza:\n",
            "Agent_Age          0\n",
            "Agent_Rating       0\n",
            "Store_Latitude     0\n",
            "Store_Longitude    0\n",
            "Drop_Latitude      0\n",
            "Drop_Longitude     0\n",
            "Order_Date         0\n",
            "Order_Time         0\n",
            "Pickup_Time        0\n",
            "Weather            0\n",
            "Traffic            0\n",
            "Vehicle            0\n",
            "Area               0\n",
            "Delivery_Time      0\n",
            "Category           0\n",
            "dtype: int64\n"
          ]
        }
      ]
    },
    {
      "cell_type": "markdown",
      "source": [
        "# Verificación de datos numéricos y sus tipos"
      ],
      "metadata": {
        "id": "ciB2TsbIWk6u"
      }
    },
    {
      "cell_type": "code",
      "source": [
        "print(\"\\nInformación del DataFrame:\")\n",
        "print(df_cleaned.info())"
      ],
      "metadata": {
        "colab": {
          "base_uri": "https://localhost:8080/"
        },
        "id": "KEDmk7cOV0Na",
        "outputId": "a9efe32f-4d7d-4bd6-b4cd-61677538881a"
      },
      "execution_count": null,
      "outputs": [
        {
          "output_type": "stream",
          "name": "stdout",
          "text": [
            "\n",
            "Información del DataFrame:\n",
            "<class 'pandas.core.frame.DataFrame'>\n",
            "Index: 43595 entries, 0 to 43739\n",
            "Data columns (total 15 columns):\n",
            " #   Column           Non-Null Count  Dtype \n",
            "---  ------           --------------  ----- \n",
            " 0   Agent_Age        43595 non-null  object\n",
            " 1   Agent_Rating     43595 non-null  object\n",
            " 2   Store_Latitude   43595 non-null  object\n",
            " 3   Store_Longitude  43595 non-null  object\n",
            " 4   Drop_Latitude    43595 non-null  object\n",
            " 5   Drop_Longitude   43595 non-null  object\n",
            " 6   Order_Date       43595 non-null  object\n",
            " 7   Order_Time       43595 non-null  object\n",
            " 8   Pickup_Time      43595 non-null  object\n",
            " 9   Weather          43595 non-null  object\n",
            " 10  Traffic          43595 non-null  object\n",
            " 11  Vehicle          43595 non-null  object\n",
            " 12  Area             43595 non-null  object\n",
            " 13  Delivery_Time    43595 non-null  object\n",
            " 14  Category         43595 non-null  object\n",
            "dtypes: object(15)\n",
            "memory usage: 5.3+ MB\n",
            "None\n"
          ]
        }
      ]
    },
    {
      "cell_type": "markdown",
      "source": [
        "# Preparación del Data Frame para Gráficos"
      ],
      "metadata": {
        "id": "2IeDygt5W64n"
      }
    },
    {
      "cell_type": "code",
      "source": [
        "plt.style.use('ggplot')"
      ],
      "metadata": {
        "id": "zzOMUiqoV5hF"
      },
      "execution_count": null,
      "outputs": []
    },
    {
      "cell_type": "code",
      "source": [
        "df_temp = df_cleaned.copy()\n",
        "df_temp['Traffic'] = df_temp['Traffic'].astype(str).str.strip()  # Asegurar que todos los valores sean cadenas\n",
        "\n",
        "df_temp.head()"
      ],
      "metadata": {
        "colab": {
          "base_uri": "https://localhost:8080/",
          "height": 226
        },
        "id": "SnDjX3SoTGdX",
        "outputId": "e1ba6eba-63be-498d-a5f4-d468a6b4d3db"
      },
      "execution_count": null,
      "outputs": [
        {
          "output_type": "execute_result",
          "data": {
            "text/plain": [
              "   Agent_Age  Agent_Rating  Store_Latitude  Store_Longitude  Drop_Latitude  \\\n",
              "0  Agent_Age  Agent_Rating  Store_Latitude  Store_Longitude  Drop_Latitude   \n",
              "1         37           4.9       22.745049        75.892471      22.765049   \n",
              "2         34           4.5       12.913041        77.683237      13.043041   \n",
              "3         23           4.4       12.914264          77.6784      12.924264   \n",
              "4         38           4.7       11.003669        76.976494      11.053669   \n",
              "\n",
              "   Drop_Longitude  Order_Date  Order_Time  Pickup_Time     Weather  Traffic  \\\n",
              "0  Drop_Longitude  Order_Date  Order_Time  Pickup_Time     Weather  Traffic   \n",
              "1       75.912471  2022-03-19    11:30:00     11:45:00       Sunny     High   \n",
              "2       77.813237  2022-03-25    19:45:00     19:50:00      Stormy      Jam   \n",
              "3         77.6884  2022-03-19    08:30:00     08:45:00  Sandstorms      Low   \n",
              "4       77.026494  2022-04-05    18:00:00     18:10:00       Sunny   Medium   \n",
              "\n",
              "       Vehicle            Area  Delivery_Time     Category  \n",
              "0      Vehicle            Area  Delivery_Time     Category  \n",
              "1  motorcycle           Urban             120     Clothing  \n",
              "2     scooter   Metropolitian             165  Electronics  \n",
              "3  motorcycle           Urban             130       Sports  \n",
              "4  motorcycle   Metropolitian             105    Cosmetics  "
            ],
            "text/html": [
              "\n",
              "  <div id=\"df-65d63e73-7828-44c5-a2ea-4d888ae91875\" class=\"colab-df-container\">\n",
              "    <div>\n",
              "<style scoped>\n",
              "    .dataframe tbody tr th:only-of-type {\n",
              "        vertical-align: middle;\n",
              "    }\n",
              "\n",
              "    .dataframe tbody tr th {\n",
              "        vertical-align: top;\n",
              "    }\n",
              "\n",
              "    .dataframe thead th {\n",
              "        text-align: right;\n",
              "    }\n",
              "</style>\n",
              "<table border=\"1\" class=\"dataframe\">\n",
              "  <thead>\n",
              "    <tr style=\"text-align: right;\">\n",
              "      <th></th>\n",
              "      <th>Agent_Age</th>\n",
              "      <th>Agent_Rating</th>\n",
              "      <th>Store_Latitude</th>\n",
              "      <th>Store_Longitude</th>\n",
              "      <th>Drop_Latitude</th>\n",
              "      <th>Drop_Longitude</th>\n",
              "      <th>Order_Date</th>\n",
              "      <th>Order_Time</th>\n",
              "      <th>Pickup_Time</th>\n",
              "      <th>Weather</th>\n",
              "      <th>Traffic</th>\n",
              "      <th>Vehicle</th>\n",
              "      <th>Area</th>\n",
              "      <th>Delivery_Time</th>\n",
              "      <th>Category</th>\n",
              "    </tr>\n",
              "  </thead>\n",
              "  <tbody>\n",
              "    <tr>\n",
              "      <th>0</th>\n",
              "      <td>Agent_Age</td>\n",
              "      <td>Agent_Rating</td>\n",
              "      <td>Store_Latitude</td>\n",
              "      <td>Store_Longitude</td>\n",
              "      <td>Drop_Latitude</td>\n",
              "      <td>Drop_Longitude</td>\n",
              "      <td>Order_Date</td>\n",
              "      <td>Order_Time</td>\n",
              "      <td>Pickup_Time</td>\n",
              "      <td>Weather</td>\n",
              "      <td>Traffic</td>\n",
              "      <td>Vehicle</td>\n",
              "      <td>Area</td>\n",
              "      <td>Delivery_Time</td>\n",
              "      <td>Category</td>\n",
              "    </tr>\n",
              "    <tr>\n",
              "      <th>1</th>\n",
              "      <td>37</td>\n",
              "      <td>4.9</td>\n",
              "      <td>22.745049</td>\n",
              "      <td>75.892471</td>\n",
              "      <td>22.765049</td>\n",
              "      <td>75.912471</td>\n",
              "      <td>2022-03-19</td>\n",
              "      <td>11:30:00</td>\n",
              "      <td>11:45:00</td>\n",
              "      <td>Sunny</td>\n",
              "      <td>High</td>\n",
              "      <td>motorcycle</td>\n",
              "      <td>Urban</td>\n",
              "      <td>120</td>\n",
              "      <td>Clothing</td>\n",
              "    </tr>\n",
              "    <tr>\n",
              "      <th>2</th>\n",
              "      <td>34</td>\n",
              "      <td>4.5</td>\n",
              "      <td>12.913041</td>\n",
              "      <td>77.683237</td>\n",
              "      <td>13.043041</td>\n",
              "      <td>77.813237</td>\n",
              "      <td>2022-03-25</td>\n",
              "      <td>19:45:00</td>\n",
              "      <td>19:50:00</td>\n",
              "      <td>Stormy</td>\n",
              "      <td>Jam</td>\n",
              "      <td>scooter</td>\n",
              "      <td>Metropolitian</td>\n",
              "      <td>165</td>\n",
              "      <td>Electronics</td>\n",
              "    </tr>\n",
              "    <tr>\n",
              "      <th>3</th>\n",
              "      <td>23</td>\n",
              "      <td>4.4</td>\n",
              "      <td>12.914264</td>\n",
              "      <td>77.6784</td>\n",
              "      <td>12.924264</td>\n",
              "      <td>77.6884</td>\n",
              "      <td>2022-03-19</td>\n",
              "      <td>08:30:00</td>\n",
              "      <td>08:45:00</td>\n",
              "      <td>Sandstorms</td>\n",
              "      <td>Low</td>\n",
              "      <td>motorcycle</td>\n",
              "      <td>Urban</td>\n",
              "      <td>130</td>\n",
              "      <td>Sports</td>\n",
              "    </tr>\n",
              "    <tr>\n",
              "      <th>4</th>\n",
              "      <td>38</td>\n",
              "      <td>4.7</td>\n",
              "      <td>11.003669</td>\n",
              "      <td>76.976494</td>\n",
              "      <td>11.053669</td>\n",
              "      <td>77.026494</td>\n",
              "      <td>2022-04-05</td>\n",
              "      <td>18:00:00</td>\n",
              "      <td>18:10:00</td>\n",
              "      <td>Sunny</td>\n",
              "      <td>Medium</td>\n",
              "      <td>motorcycle</td>\n",
              "      <td>Metropolitian</td>\n",
              "      <td>105</td>\n",
              "      <td>Cosmetics</td>\n",
              "    </tr>\n",
              "  </tbody>\n",
              "</table>\n",
              "</div>\n",
              "    <div class=\"colab-df-buttons\">\n",
              "\n",
              "  <div class=\"colab-df-container\">\n",
              "    <button class=\"colab-df-convert\" onclick=\"convertToInteractive('df-65d63e73-7828-44c5-a2ea-4d888ae91875')\"\n",
              "            title=\"Convert this dataframe to an interactive table.\"\n",
              "            style=\"display:none;\">\n",
              "\n",
              "  <svg xmlns=\"http://www.w3.org/2000/svg\" height=\"24px\" viewBox=\"0 -960 960 960\">\n",
              "    <path d=\"M120-120v-720h720v720H120Zm60-500h600v-160H180v160Zm220 220h160v-160H400v160Zm0 220h160v-160H400v160ZM180-400h160v-160H180v160Zm440 0h160v-160H620v160ZM180-180h160v-160H180v160Zm440 0h160v-160H620v160Z\"/>\n",
              "  </svg>\n",
              "    </button>\n",
              "\n",
              "  <style>\n",
              "    .colab-df-container {\n",
              "      display:flex;\n",
              "      gap: 12px;\n",
              "    }\n",
              "\n",
              "    .colab-df-convert {\n",
              "      background-color: #E8F0FE;\n",
              "      border: none;\n",
              "      border-radius: 50%;\n",
              "      cursor: pointer;\n",
              "      display: none;\n",
              "      fill: #1967D2;\n",
              "      height: 32px;\n",
              "      padding: 0 0 0 0;\n",
              "      width: 32px;\n",
              "    }\n",
              "\n",
              "    .colab-df-convert:hover {\n",
              "      background-color: #E2EBFA;\n",
              "      box-shadow: 0px 1px 2px rgba(60, 64, 67, 0.3), 0px 1px 3px 1px rgba(60, 64, 67, 0.15);\n",
              "      fill: #174EA6;\n",
              "    }\n",
              "\n",
              "    .colab-df-buttons div {\n",
              "      margin-bottom: 4px;\n",
              "    }\n",
              "\n",
              "    [theme=dark] .colab-df-convert {\n",
              "      background-color: #3B4455;\n",
              "      fill: #D2E3FC;\n",
              "    }\n",
              "\n",
              "    [theme=dark] .colab-df-convert:hover {\n",
              "      background-color: #434B5C;\n",
              "      box-shadow: 0px 1px 3px 1px rgba(0, 0, 0, 0.15);\n",
              "      filter: drop-shadow(0px 1px 2px rgba(0, 0, 0, 0.3));\n",
              "      fill: #FFFFFF;\n",
              "    }\n",
              "  </style>\n",
              "\n",
              "    <script>\n",
              "      const buttonEl =\n",
              "        document.querySelector('#df-65d63e73-7828-44c5-a2ea-4d888ae91875 button.colab-df-convert');\n",
              "      buttonEl.style.display =\n",
              "        google.colab.kernel.accessAllowed ? 'block' : 'none';\n",
              "\n",
              "      async function convertToInteractive(key) {\n",
              "        const element = document.querySelector('#df-65d63e73-7828-44c5-a2ea-4d888ae91875');\n",
              "        const dataTable =\n",
              "          await google.colab.kernel.invokeFunction('convertToInteractive',\n",
              "                                                    [key], {});\n",
              "        if (!dataTable) return;\n",
              "\n",
              "        const docLinkHtml = 'Like what you see? Visit the ' +\n",
              "          '<a target=\"_blank\" href=https://colab.research.google.com/notebooks/data_table.ipynb>data table notebook</a>'\n",
              "          + ' to learn more about interactive tables.';\n",
              "        element.innerHTML = '';\n",
              "        dataTable['output_type'] = 'display_data';\n",
              "        await google.colab.output.renderOutput(dataTable, element);\n",
              "        const docLink = document.createElement('div');\n",
              "        docLink.innerHTML = docLinkHtml;\n",
              "        element.appendChild(docLink);\n",
              "      }\n",
              "    </script>\n",
              "  </div>\n",
              "\n",
              "\n",
              "<div id=\"df-eb56e643-1b8d-43f0-bd55-01065ab99107\">\n",
              "  <button class=\"colab-df-quickchart\" onclick=\"quickchart('df-eb56e643-1b8d-43f0-bd55-01065ab99107')\"\n",
              "            title=\"Suggest charts\"\n",
              "            style=\"display:none;\">\n",
              "\n",
              "<svg xmlns=\"http://www.w3.org/2000/svg\" height=\"24px\"viewBox=\"0 0 24 24\"\n",
              "     width=\"24px\">\n",
              "    <g>\n",
              "        <path d=\"M19 3H5c-1.1 0-2 .9-2 2v14c0 1.1.9 2 2 2h14c1.1 0 2-.9 2-2V5c0-1.1-.9-2-2-2zM9 17H7v-7h2v7zm4 0h-2V7h2v10zm4 0h-2v-4h2v4z\"/>\n",
              "    </g>\n",
              "</svg>\n",
              "  </button>\n",
              "\n",
              "<style>\n",
              "  .colab-df-quickchart {\n",
              "      --bg-color: #E8F0FE;\n",
              "      --fill-color: #1967D2;\n",
              "      --hover-bg-color: #E2EBFA;\n",
              "      --hover-fill-color: #174EA6;\n",
              "      --disabled-fill-color: #AAA;\n",
              "      --disabled-bg-color: #DDD;\n",
              "  }\n",
              "\n",
              "  [theme=dark] .colab-df-quickchart {\n",
              "      --bg-color: #3B4455;\n",
              "      --fill-color: #D2E3FC;\n",
              "      --hover-bg-color: #434B5C;\n",
              "      --hover-fill-color: #FFFFFF;\n",
              "      --disabled-bg-color: #3B4455;\n",
              "      --disabled-fill-color: #666;\n",
              "  }\n",
              "\n",
              "  .colab-df-quickchart {\n",
              "    background-color: var(--bg-color);\n",
              "    border: none;\n",
              "    border-radius: 50%;\n",
              "    cursor: pointer;\n",
              "    display: none;\n",
              "    fill: var(--fill-color);\n",
              "    height: 32px;\n",
              "    padding: 0;\n",
              "    width: 32px;\n",
              "  }\n",
              "\n",
              "  .colab-df-quickchart:hover {\n",
              "    background-color: var(--hover-bg-color);\n",
              "    box-shadow: 0 1px 2px rgba(60, 64, 67, 0.3), 0 1px 3px 1px rgba(60, 64, 67, 0.15);\n",
              "    fill: var(--button-hover-fill-color);\n",
              "  }\n",
              "\n",
              "  .colab-df-quickchart-complete:disabled,\n",
              "  .colab-df-quickchart-complete:disabled:hover {\n",
              "    background-color: var(--disabled-bg-color);\n",
              "    fill: var(--disabled-fill-color);\n",
              "    box-shadow: none;\n",
              "  }\n",
              "\n",
              "  .colab-df-spinner {\n",
              "    border: 2px solid var(--fill-color);\n",
              "    border-color: transparent;\n",
              "    border-bottom-color: var(--fill-color);\n",
              "    animation:\n",
              "      spin 1s steps(1) infinite;\n",
              "  }\n",
              "\n",
              "  @keyframes spin {\n",
              "    0% {\n",
              "      border-color: transparent;\n",
              "      border-bottom-color: var(--fill-color);\n",
              "      border-left-color: var(--fill-color);\n",
              "    }\n",
              "    20% {\n",
              "      border-color: transparent;\n",
              "      border-left-color: var(--fill-color);\n",
              "      border-top-color: var(--fill-color);\n",
              "    }\n",
              "    30% {\n",
              "      border-color: transparent;\n",
              "      border-left-color: var(--fill-color);\n",
              "      border-top-color: var(--fill-color);\n",
              "      border-right-color: var(--fill-color);\n",
              "    }\n",
              "    40% {\n",
              "      border-color: transparent;\n",
              "      border-right-color: var(--fill-color);\n",
              "      border-top-color: var(--fill-color);\n",
              "    }\n",
              "    60% {\n",
              "      border-color: transparent;\n",
              "      border-right-color: var(--fill-color);\n",
              "    }\n",
              "    80% {\n",
              "      border-color: transparent;\n",
              "      border-right-color: var(--fill-color);\n",
              "      border-bottom-color: var(--fill-color);\n",
              "    }\n",
              "    90% {\n",
              "      border-color: transparent;\n",
              "      border-bottom-color: var(--fill-color);\n",
              "    }\n",
              "  }\n",
              "</style>\n",
              "\n",
              "  <script>\n",
              "    async function quickchart(key) {\n",
              "      const quickchartButtonEl =\n",
              "        document.querySelector('#' + key + ' button');\n",
              "      quickchartButtonEl.disabled = true;  // To prevent multiple clicks.\n",
              "      quickchartButtonEl.classList.add('colab-df-spinner');\n",
              "      try {\n",
              "        const charts = await google.colab.kernel.invokeFunction(\n",
              "            'suggestCharts', [key], {});\n",
              "      } catch (error) {\n",
              "        console.error('Error during call to suggestCharts:', error);\n",
              "      }\n",
              "      quickchartButtonEl.classList.remove('colab-df-spinner');\n",
              "      quickchartButtonEl.classList.add('colab-df-quickchart-complete');\n",
              "    }\n",
              "    (() => {\n",
              "      let quickchartButtonEl =\n",
              "        document.querySelector('#df-eb56e643-1b8d-43f0-bd55-01065ab99107 button');\n",
              "      quickchartButtonEl.style.display =\n",
              "        google.colab.kernel.accessAllowed ? 'block' : 'none';\n",
              "    })();\n",
              "  </script>\n",
              "</div>\n",
              "\n",
              "    </div>\n",
              "  </div>\n"
            ],
            "application/vnd.google.colaboratory.intrinsic+json": {
              "type": "dataframe",
              "variable_name": "df_temp",
              "summary": "{\n  \"name\": \"df_temp\",\n  \"rows\": 43595,\n  \"fields\": [\n    {\n      \"column\": \"Agent_Age\",\n      \"properties\": {\n        \"dtype\": \"category\",\n        \"num_unique_values\": 41,\n        \"samples\": [\n          29,\n          \"25\",\n          \"35\"\n        ],\n        \"semantic_type\": \"\",\n        \"description\": \"\"\n      }\n    },\n    {\n      \"column\": \"Agent_Rating\",\n      \"properties\": {\n        \"dtype\": \"category\",\n        \"num_unique_values\": 53,\n        \"samples\": [\n          \"3.1\",\n          3.6,\n          2.5\n        ],\n        \"semantic_type\": \"\",\n        \"description\": \"\"\n      }\n    },\n    {\n      \"column\": \"Store_Latitude\",\n      \"properties\": {\n        \"dtype\": \"category\",\n        \"num_unique_values\": 894,\n        \"samples\": [\n          18.994237,\n          \"-22.538731\",\n          12.98041\n        ],\n        \"semantic_type\": \"\",\n        \"description\": \"\"\n      }\n    },\n    {\n      \"column\": \"Store_Longitude\",\n      \"properties\": {\n        \"dtype\": \"category\",\n        \"num_unique_values\": 779,\n        \"samples\": [\n          78.385883,\n          78.04725,\n          72.768778\n        ],\n        \"semantic_type\": \"\",\n        \"description\": \"\"\n      }\n    },\n    {\n      \"column\": \"Drop_Latitude\",\n      \"properties\": {\n        \"dtype\": \"category\",\n        \"num_unique_values\": 7845,\n        \"samples\": [\n          13.060221,\n          \"11.010762\",\n          \"15.624419\"\n        ],\n        \"semantic_type\": \"\",\n        \"description\": \"\"\n      }\n    },\n    {\n      \"column\": \"Drop_Longitude\",\n      \"properties\": {\n        \"dtype\": \"category\",\n        \"num_unique_values\": 7845,\n        \"samples\": [\n          77.735396,\n          \"76.991876\",\n          \"73.835736\"\n        ],\n        \"semantic_type\": \"\",\n        \"description\": \"\"\n      }\n    },\n    {\n      \"column\": \"Order_Date\",\n      \"properties\": {\n        \"dtype\": \"category\",\n        \"num_unique_values\": 45,\n        \"samples\": [\n          \"2022-02-18\",\n          \"2022-03-28\",\n          \"2022-03-18\"\n        ],\n        \"semantic_type\": \"\",\n        \"description\": \"\"\n      }\n    },\n    {\n      \"column\": \"Order_Time\",\n      \"properties\": {\n        \"dtype\": \"category\",\n        \"num_unique_values\": 177,\n        \"samples\": [\n          \"20:20:00\",\n          \"22:10:00\",\n          \"17:35:00\"\n        ],\n        \"semantic_type\": \"\",\n        \"description\": \"\"\n      }\n    },\n    {\n      \"column\": \"Pickup_Time\",\n      \"properties\": {\n        \"dtype\": \"category\",\n        \"num_unique_values\": 194,\n        \"samples\": [\n          \"19:35:00\",\n          \"15:10:00\",\n          \"08:35:00\"\n        ],\n        \"semantic_type\": \"\",\n        \"description\": \"\"\n      }\n    },\n    {\n      \"column\": \"Weather\",\n      \"properties\": {\n        \"dtype\": \"category\",\n        \"num_unique_values\": 7,\n        \"samples\": [\n          \"Weather\",\n          \"Sunny\",\n          \"Fog\"\n        ],\n        \"semantic_type\": \"\",\n        \"description\": \"\"\n      }\n    },\n    {\n      \"column\": \"Traffic\",\n      \"properties\": {\n        \"dtype\": \"category\",\n        \"num_unique_values\": 5,\n        \"samples\": [\n          \"High\",\n          \"Medium\",\n          \"Jam\"\n        ],\n        \"semantic_type\": \"\",\n        \"description\": \"\"\n      }\n    },\n    {\n      \"column\": \"Vehicle\",\n      \"properties\": {\n        \"dtype\": \"category\",\n        \"num_unique_values\": 4,\n        \"samples\": [\n          \"motorcycle \",\n          \"van\",\n          \"Vehicle\"\n        ],\n        \"semantic_type\": \"\",\n        \"description\": \"\"\n      }\n    },\n    {\n      \"column\": \"Area\",\n      \"properties\": {\n        \"dtype\": \"category\",\n        \"num_unique_values\": 5,\n        \"samples\": [\n          \"Urban \",\n          \"Other\",\n          \"Metropolitian \"\n        ],\n        \"semantic_type\": \"\",\n        \"description\": \"\"\n      }\n    },\n    {\n      \"column\": \"Delivery_Time\",\n      \"properties\": {\n        \"dtype\": \"category\",\n        \"num_unique_values\": 178,\n        \"samples\": [\n          \"235\",\n          \"240\",\n          30\n        ],\n        \"semantic_type\": \"\",\n        \"description\": \"\"\n      }\n    },\n    {\n      \"column\": \"Category\",\n      \"properties\": {\n        \"dtype\": \"category\",\n        \"num_unique_values\": 17,\n        \"samples\": [\n          \"Category\",\n          \"Clothing\",\n          \"Toys\"\n        ],\n        \"semantic_type\": \"\",\n        \"description\": \"\"\n      }\n    }\n  ]\n}"
            }
          },
          "metadata": {},
          "execution_count": 16
        }
      ]
    },
    {
      "cell_type": "code",
      "source": [
        "df_cleaned['Traffic'] = df_cleaned['Traffic'].astype(str)\n",
        "\n"
      ],
      "metadata": {
        "colab": {
          "base_uri": "https://localhost:8080/"
        },
        "id": "9L9up4r4b0qx",
        "outputId": "6528af63-506d-4663-9202-d72fde6eea6d"
      },
      "execution_count": null,
      "outputs": [
        {
          "output_type": "stream",
          "name": "stderr",
          "text": [
            "<ipython-input-17-8430aa05cad6>:1: SettingWithCopyWarning: \n",
            "A value is trying to be set on a copy of a slice from a DataFrame.\n",
            "Try using .loc[row_indexer,col_indexer] = value instead\n",
            "\n",
            "See the caveats in the documentation: https://pandas.pydata.org/pandas-docs/stable/user_guide/indexing.html#returning-a-view-versus-a-copy\n",
            "  df_cleaned['Traffic'] = df_cleaned['Traffic'].astype(str)\n"
          ]
        }
      ]
    },
    {
      "cell_type": "code",
      "source": [
        "#Revisar los valores únicos en la columna 'Traffic'\n",
        "print(\"Valores únicos en 'Traffic' antes de la conversión:\")\n",
        "print(df_cleaned['Traffic'].unique())\n"
      ],
      "metadata": {
        "colab": {
          "base_uri": "https://localhost:8080/"
        },
        "collapsed": true,
        "id": "1aHjsEg4dYXK",
        "outputId": "c0d5702c-44a3-4c6a-8807-65d0a5948c88"
      },
      "execution_count": null,
      "outputs": [
        {
          "output_type": "stream",
          "name": "stdout",
          "text": [
            "Valores únicos en 'Traffic' antes de la conversión:\n",
            "['Traffic' 'High ' 'Jam ' 'Low ' 'Medium ']\n"
          ]
        }
      ]
    },
    {
      "cell_type": "code",
      "source": [
        "# Verificar valores únicos en 'Traffic'\n",
        "print(\"Valores únicos en 'Traffic':\")\n",
        "print(df_cleaned['Traffic'].unique())"
      ],
      "metadata": {
        "colab": {
          "base_uri": "https://localhost:8080/"
        },
        "id": "qxGqjIAdfRZd",
        "outputId": "4a124130-e90d-44c5-b19a-7cc67727bd3b"
      },
      "execution_count": null,
      "outputs": [
        {
          "output_type": "stream",
          "name": "stdout",
          "text": [
            "Valores únicos en 'Traffic':\n",
            "['Traffic' 'High ' 'Jam ' 'Low ' 'Medium ']\n"
          ]
        }
      ]
    },
    {
      "cell_type": "code",
      "source": [
        "# Verificar si hay valores nulos\n",
        "print(\"\\nValores nulos en 'Traffic':\")\n",
        "print(df_cleaned['Traffic'].isnull().sum())"
      ],
      "metadata": {
        "colab": {
          "base_uri": "https://localhost:8080/"
        },
        "id": "CwBNknsBfWx7",
        "outputId": "b5e242b3-295a-49a2-c0f9-108791d3556f"
      },
      "execution_count": null,
      "outputs": [
        {
          "output_type": "stream",
          "name": "stdout",
          "text": [
            "\n",
            "Valores nulos en 'Traffic':\n",
            "0\n"
          ]
        }
      ]
    },
    {
      "cell_type": "code",
      "source": [
        "# Revisar el tipo de datos de la columna\n",
        "print(\"\\nTipo de datos de 'Traffic':\", df_cleaned['Traffic'].dtype)"
      ],
      "metadata": {
        "colab": {
          "base_uri": "https://localhost:8080/"
        },
        "id": "HM648jGFfYpR",
        "outputId": "90fe3533-40df-4e48-9e1e-29d86255b5a0"
      },
      "execution_count": null,
      "outputs": [
        {
          "output_type": "stream",
          "name": "stdout",
          "text": [
            "\n",
            "Tipo de datos de 'Traffic': object\n"
          ]
        }
      ]
    },
    {
      "cell_type": "code",
      "source": [
        "# Opcional: Reemplazar valores nulos o inconsistentes con 'Unknown'\n",
        "df_cleaned['Traffic'] = df_cleaned['Traffic'].replace(['nan', 'None', 'NaN'], 'Unknown')\n"
      ],
      "metadata": {
        "colab": {
          "base_uri": "https://localhost:8080/"
        },
        "id": "LC0IUtwAfec6",
        "outputId": "28c4ab70-9047-4b32-8c01-036c4276d003"
      },
      "execution_count": null,
      "outputs": [
        {
          "output_type": "stream",
          "name": "stderr",
          "text": [
            "<ipython-input-22-c0e7936920f1>:2: SettingWithCopyWarning: \n",
            "A value is trying to be set on a copy of a slice from a DataFrame.\n",
            "Try using .loc[row_indexer,col_indexer] = value instead\n",
            "\n",
            "See the caveats in the documentation: https://pandas.pydata.org/pandas-docs/stable/user_guide/indexing.html#returning-a-view-versus-a-copy\n",
            "  df_cleaned['Traffic'] = df_cleaned['Traffic'].replace(['nan', 'None', 'NaN'], 'Unknown')\n"
          ]
        }
      ]
    },
    {
      "cell_type": "code",
      "source": [
        "# Usar .loc para realizar cambios de manera explícita\n",
        "df_cleaned.loc[:, 'Traffic'] = df_cleaned['Traffic'].replace(['nan', 'None', 'NaN'], 'Unknown')"
      ],
      "metadata": {
        "id": "mMiArc-kfvPy"
      },
      "execution_count": null,
      "outputs": []
    },
    {
      "cell_type": "code",
      "source": [
        "# Verificar valores únicos después de limpieza\n",
        "print(\"Valores únicos en 'Traffic' después de limpieza:\")\n",
        "print(df_cleaned['Traffic'].unique())"
      ],
      "metadata": {
        "colab": {
          "base_uri": "https://localhost:8080/"
        },
        "id": "sx8t1fyngAAa",
        "outputId": "b1a5973f-5566-4d7c-c405-a1434cf0b037"
      },
      "execution_count": null,
      "outputs": [
        {
          "output_type": "stream",
          "name": "stdout",
          "text": [
            "Valores únicos en 'Traffic' después de limpieza:\n",
            "['Traffic' 'High ' 'Jam ' 'Low ' 'Medium ']\n"
          ]
        }
      ]
    },
    {
      "cell_type": "code",
      "source": [
        "print(df_cleaned['Traffic'].value_counts())  # Revisar categorías de tráfico\n",
        "print(df_cleaned['Delivery_Time'].describe())  # Verificar los valores de tiempo de entrega\n"
      ],
      "metadata": {
        "colab": {
          "base_uri": "https://localhost:8080/"
        },
        "id": "3c3GCOh-hhwC",
        "outputId": "49926bab-43a2-485a-96fe-0577f1814a35"
      },
      "execution_count": null,
      "outputs": [
        {
          "output_type": "stream",
          "name": "stdout",
          "text": [
            "Traffic\n",
            "Low        14976\n",
            "Jam        13710\n",
            "Medium     10614\n",
            "High        4294\n",
            "Traffic        1\n",
            "Name: count, dtype: int64\n",
            "count     43595\n",
            "unique      178\n",
            "top         130\n",
            "freq       1424\n",
            "Name: Delivery_Time, dtype: object\n"
          ]
        }
      ]
    },
    {
      "cell_type": "code",
      "source": [
        "# Reemplazar el valor inválido en 'Traffic' con 'Unknown'\n",
        "df_cleaned.loc[:, 'Traffic'] = df_cleaned['Traffic'].replace('Traffic', 'Unknown')\n",
        "\n",
        "# Verificar nuevamente los valores únicos\n",
        "print(\"Valores únicos en 'Traffic' después de limpieza:\")\n",
        "print(df_cleaned['Traffic'].unique())"
      ],
      "metadata": {
        "colab": {
          "base_uri": "https://localhost:8080/"
        },
        "id": "rf6O8dVjiBbp",
        "outputId": "011b38e9-2308-4da7-e169-156de4df6f93"
      },
      "execution_count": null,
      "outputs": [
        {
          "output_type": "stream",
          "name": "stdout",
          "text": [
            "Valores únicos en 'Traffic' después de limpieza:\n",
            "['Unknown' 'High ' 'Jam ' 'Low ' 'Medium ']\n"
          ]
        }
      ]
    },
    {
      "cell_type": "code",
      "source": [
        "# Convertir 'Delivery_Time' a formato numérico\n",
        "df_cleaned.loc[:, 'Delivery_Time'] = pd.to_numeric(df_cleaned['Delivery_Time'], errors='coerce')"
      ],
      "metadata": {
        "id": "lEtBIvUOiXCl"
      },
      "execution_count": null,
      "outputs": []
    },
    {
      "cell_type": "code",
      "source": [
        "# Eliminar filas con valores NaN en 'Delivery_Time'\n",
        "df_cleaned = df_cleaned.dropna(subset=['Delivery_Time'])\n",
        "\n",
        "\n"
      ],
      "metadata": {
        "id": "Xd3B_q4IiaXq"
      },
      "execution_count": null,
      "outputs": []
    },
    {
      "cell_type": "code",
      "source": [
        "# Asegurarse de que 'Agent_Rating' y 'Delivery_Time' sean numéricos\n",
        "df_cleaned['Agent_Rating'] = pd.to_numeric(df_cleaned['Agent_Rating'], errors='coerce')\n",
        "df_cleaned['Delivery_Time'] = pd.to_numeric(df_cleaned['Delivery_Time'], errors='coerce')"
      ],
      "metadata": {
        "id": "e6EZ8LjKvLj2",
        "colab": {
          "base_uri": "https://localhost:8080/"
        },
        "outputId": "c1c24893-bde5-4a21-f37c-e523a7e94ca2"
      },
      "execution_count": null,
      "outputs": [
        {
          "output_type": "stream",
          "name": "stderr",
          "text": [
            "<ipython-input-29-beeb23ddf514>:2: SettingWithCopyWarning: \n",
            "A value is trying to be set on a copy of a slice from a DataFrame.\n",
            "Try using .loc[row_indexer,col_indexer] = value instead\n",
            "\n",
            "See the caveats in the documentation: https://pandas.pydata.org/pandas-docs/stable/user_guide/indexing.html#returning-a-view-versus-a-copy\n",
            "  df_cleaned['Agent_Rating'] = pd.to_numeric(df_cleaned['Agent_Rating'], errors='coerce')\n",
            "<ipython-input-29-beeb23ddf514>:3: SettingWithCopyWarning: \n",
            "A value is trying to be set on a copy of a slice from a DataFrame.\n",
            "Try using .loc[row_indexer,col_indexer] = value instead\n",
            "\n",
            "See the caveats in the documentation: https://pandas.pydata.org/pandas-docs/stable/user_guide/indexing.html#returning-a-view-versus-a-copy\n",
            "  df_cleaned['Delivery_Time'] = pd.to_numeric(df_cleaned['Delivery_Time'], errors='coerce')\n"
          ]
        }
      ]
    },
    {
      "cell_type": "code",
      "source": [
        "# Eliminar filas con valores NaN en estas columnas\n",
        "df_cleaned = df_cleaned.dropna(subset=['Agent_Rating', 'Delivery_Time'])"
      ],
      "metadata": {
        "id": "1J4evYcZx9hU"
      },
      "execution_count": null,
      "outputs": []
    },
    {
      "cell_type": "code",
      "source": [
        "# Asegurarse de que 'Agent_Rating' y 'Delivery_Time' sean numéricos\n",
        "df_cleaned['Agent_Rating'] = pd.to_numeric(df_cleaned['Agent_Rating'], errors='coerce')\n",
        "df_cleaned['Delivery_Time'] = pd.to_numeric(df_cleaned['Delivery_Time'], errors='coerce')"
      ],
      "metadata": {
        "id": "fvg_Je3xyDT3"
      },
      "execution_count": null,
      "outputs": []
    },
    {
      "cell_type": "code",
      "source": [
        "# Función para calcular la distancia geográfica\n",
        "def calculate_distance(row):\n",
        "    try:\n",
        "        # Coordenadas de inicio y fin\n",
        "        start = (row['Store_Latitude'], row['Store_Longitude'])\n",
        "        end = (row['Drop_Latitude'], row['Drop_Longitude'])\n",
        "        return geodesic(start, end).km  # Retorna la distancia en kilómetros\n",
        "    except ValueError:\n",
        "        return None  # En caso de datos inválidos, retorna None"
      ],
      "metadata": {
        "id": "1ZHn-3oByOEi"
      },
      "execution_count": null,
      "outputs": []
    },
    {
      "cell_type": "code",
      "source": [
        "# Eliminar filas con valores NaN en estas columnas\n",
        "df_cleaned = df_cleaned.dropna(subset=['Agent_Rating', 'Delivery_Time'])"
      ],
      "metadata": {
        "id": "w0OzXiKTyUKl"
      },
      "execution_count": null,
      "outputs": []
    },
    {
      "cell_type": "code",
      "source": [
        "# Conversión de columnas de latitud y longitud a valores numéricos\n",
        "columns_to_convert = ['Store_Latitude', 'Store_Longitude', 'Drop_Latitude', 'Drop_Longitude']\n",
        "for col in columns_to_convert:\n",
        "    df_cleaned[col] = pd.to_numeric(df_cleaned[col], errors='coerce')"
      ],
      "metadata": {
        "id": "Oc8CFRk7zHBB"
      },
      "execution_count": null,
      "outputs": []
    },
    {
      "cell_type": "code",
      "source": [
        "# Función para calcular la distancia\n",
        "def calculate_distance(row):\n",
        "    try:\n",
        "        start = (row['Store_Latitude'], row['Store_Longitude'])\n",
        "        end = (row['Drop_Latitude'], row['Drop_Longitude'])\n",
        "        return geodesic(start, end).km  # Distancia en kilómetros\n",
        "    except ValueError:\n",
        "        return None"
      ],
      "metadata": {
        "id": "IzisQUvQzREL"
      },
      "execution_count": null,
      "outputs": []
    },
    {
      "cell_type": "code",
      "source": [
        "# Aplicar la función para calcular la distancia\n",
        "df_cleaned['Distance'] = df_cleaned.apply(calculate_distance, axis=1)"
      ],
      "metadata": {
        "id": "kGwVVKoszWYY"
      },
      "execution_count": null,
      "outputs": []
    },
    {
      "cell_type": "code",
      "source": [
        "# Eliminar filas con valores NaN en 'Distance' o 'Delivery_Time'\n",
        "df_cleaned = df_cleaned.dropna(subset=['Distance', 'Delivery_Time'])\n",
        "\n",
        "# Mostrar las primeras filas del DataFrame limpio\n",
        "print(df_cleaned.head())"
      ],
      "metadata": {
        "colab": {
          "base_uri": "https://localhost:8080/"
        },
        "id": "ZTpVKzV9zbpq",
        "outputId": "aa95f1c6-7c55-47fc-c4e9-87c3bbbc9a34"
      },
      "execution_count": null,
      "outputs": [
        {
          "output_type": "stream",
          "name": "stdout",
          "text": [
            "  Agent_Age  Agent_Rating  Store_Latitude  Store_Longitude  Drop_Latitude  \\\n",
            "1        37           4.9       22.745049        75.892471      22.765049   \n",
            "2        34           4.5       12.913041        77.683237      13.043041   \n",
            "3        23           4.4       12.914264        77.678400      12.924264   \n",
            "4        38           4.7       11.003669        76.976494      11.053669   \n",
            "5        32           4.6       12.972793        80.249982      13.012793   \n",
            "\n",
            "   Drop_Longitude  Order_Date Order_Time Pickup_Time     Weather  Traffic  \\\n",
            "1       75.912471  2022-03-19   11:30:00    11:45:00       Sunny    High    \n",
            "2       77.813237  2022-03-25   19:45:00    19:50:00      Stormy     Jam    \n",
            "3       77.688400  2022-03-19   08:30:00    08:45:00  Sandstorms     Low    \n",
            "4       77.026494  2022-04-05   18:00:00    18:10:00       Sunny  Medium    \n",
            "5       80.289982  2022-03-26   13:30:00    13:45:00      Cloudy    High    \n",
            "\n",
            "       Vehicle            Area  Delivery_Time     Category   Distance  \n",
            "1  motorcycle           Urban           120.0     Clothing   3.020737  \n",
            "2     scooter   Metropolitian           165.0  Electronics  20.143737  \n",
            "3  motorcycle           Urban           130.0       Sports   1.549693  \n",
            "4  motorcycle   Metropolitian           105.0    Cosmetics   7.774497  \n",
            "5     scooter   Metropolitian           150.0         Toys   6.197898  \n"
          ]
        }
      ]
    },
    {
      "cell_type": "code",
      "source": [],
      "metadata": {
        "id": "V0cePExGzdFD"
      },
      "execution_count": null,
      "outputs": []
    },
    {
      "cell_type": "markdown",
      "source": [
        "#Análisis y Visualización\n",
        "**Conclusiones y Recomendacionespor gráfico**\n",
        "\n",
        "\n",
        "\n"
      ],
      "metadata": {
        "id": "ObK_qlqgrxXx"
      }
    },
    {
      "cell_type": "markdown",
      "source": [
        "#1- Distribución del tiempo de entrega por tráfico\n",
        "\n"
      ],
      "metadata": {
        "id": "gf8HJLoXsKp8"
      }
    },
    {
      "cell_type": "code",
      "source": [
        "plt.figure(figsize=(10, 6))\n",
        "sns.barplot(\n",
        "    x='Traffic',\n",
        "    y='Delivery_Time',\n",
        "    data=df_cleaned,\n",
        "    errorbar=None,\n",
        "    palette=\"coolwarm\"\n",
        ")\n",
        "plt.title('Promedio del Tiempo de Entrega según el Tráfico')\n",
        "plt.xlabel('Tráfico')\n",
        "plt.ylabel('Tiempo de Entrega (minutos)')\n",
        "plt.show()"
      ],
      "metadata": {
        "colab": {
          "base_uri": "https://localhost:8080/",
          "height": 677
        },
        "id": "8vi7DKWeiefI",
        "outputId": "12f5a53c-a11d-4269-840e-cbe1b9624e5a"
      },
      "execution_count": null,
      "outputs": [
        {
          "output_type": "stream",
          "name": "stderr",
          "text": [
            "<ipython-input-38-7704c07233d2>:2: FutureWarning: \n",
            "\n",
            "Passing `palette` without assigning `hue` is deprecated and will be removed in v0.14.0. Assign the `x` variable to `hue` and set `legend=False` for the same effect.\n",
            "\n",
            "  sns.barplot(\n"
          ]
        },
        {
          "output_type": "display_data",
          "data": {
            "text/plain": [
              "<Figure size 1000x600 with 1 Axes>"
            ],
            "image/png": "[encoded data removed]"
          },
          "metadata": {}
        }
      ]
    },
    {
      "cell_type": "markdown",
      "source": [
        "#Análisis del Gráfico 1: Distribución del Tiempo de Entrega según el Tráfico.\n",
        "\n",
        "**Conclusión**\n",
        "\n",
        "Los tiempos de entrega son más altos y variables en tráfico \"alto\" y \"atascos\". En contraste, tráfico \"bajo\" y \"medio\" presentan tiempos más consistentes y bajos. La congestión del tráfico tiene un impacto significativo en los tiempos de entrega. Las categorías con \"Jam\" y \"High\" tráfico muestran los tiempos de entrega promedio más altos, mientras que \"Low\" tráfico está asociado con tiempos más bajos. Esto refleja cómo la intensidad del tráfico ralentiza las entregas.\n",
        "\n",
        "\n",
        "**Recomendación**  \n",
        "\n",
        "Implementar algoritmos de predicción para optimizar rutas y evitar zonas de tráfico denso.Implementar sistemas de planificación de rutas dinámicos para optimizar las entregas en horarios de menor tráfico."
      ],
      "metadata": {
        "id": "GweL7RR0i5G0"
      }
    },
    {
      "cell_type": "markdown",
      "source": [
        "#2: Impacto del Clima en el Tiempo de Entrega\n"
      ],
      "metadata": {
        "id": "1mJu1n3Qjzqp"
      }
    },
    {
      "cell_type": "code",
      "source": [
        "# Impacto del clima en el tiempo de entrega\n",
        "plt.figure(figsize=(12, 6))\n",
        "sns.boxplot(x='Weather', y='Delivery_Time', data=df_cleaned, palette=\"coolwarm\")\n",
        "plt.title('Impacto del Clima en el Tiempo de Entrega')\n",
        "plt.xlabel('Clima')\n",
        "plt.ylabel('Tiempo de Entrega (minutos)')\n",
        "plt.xticks(rotation=45)\n",
        "plt.show()"
      ],
      "metadata": {
        "colab": {
          "base_uri": "https://localhost:8080/",
          "height": 689
        },
        "id": "T_lgV6sfi6zb",
        "outputId": "7e1a44dd-a5f4-44f9-ef82-18b8f6e07790"
      },
      "execution_count": null,
      "outputs": [
        {
          "output_type": "stream",
          "name": "stderr",
          "text": [
            "<ipython-input-39-28e0a8f9fa5e>:3: FutureWarning: \n",
            "\n",
            "Passing `palette` without assigning `hue` is deprecated and will be removed in v0.14.0. Assign the `x` variable to `hue` and set `legend=False` for the same effect.\n",
            "\n",
            "  sns.boxplot(x='Weather', y='Delivery_Time', data=df_cleaned, palette=\"coolwarm\")\n"
          ]
        },
        {
          "output_type": "display_data",
          "data": {
            "text/plain": [
              "<Figure size 1200x600 with 1 Axes>"
            ],
            "image/png": "[encoded data removed]"
          },
          "metadata": {}
        }
      ]
    },
    {
      "cell_type": "markdown",
      "source": [
        "#Análisis Completado Grafico 2: Impacto del Clima en el Tiempo de Entrega\n",
        "\n",
        "**Conclusión**\n",
        "\n",
        "Los climas adversos, como tormentas y niebla, incrementan significativamente los tiempos de entrega y su variabilidad. Las condiciones soleadas muestran tiempos más rápidos y consistentes.Los climas extremos parecen provocar más retrasos en comparación con condiciones normales.\n",
        "\n",
        " **Recomendación**\n",
        "\n",
        "Establecer políticas flexibles y una comunicación proactiva con los clientes para manejar las expectativas durante climas adversos.Adaptar las rutas y tiempos según las condiciones meteorológicas e incorporar alertas en tiempo real para prever retrasos debido al clima."
      ],
      "metadata": {
        "id": "p4AVKrmgsV-m"
      }
    },
    {
      "cell_type": "markdown",
      "source": [
        "#3: Relación entre la Calificación del Agente y el Tiempo de Entrega\n",
        "\n"
      ],
      "metadata": {
        "id": "6JLQGtrntJp5"
      }
    },
    {
      "cell_type": "code",
      "source": [
        "# Relación entre la calificación del agente y el tiempo de entrega\n",
        "plt.figure(figsize=(12, 6))\n",
        "sns.scatterplot(x='Agent_Rating', y='Delivery_Time', data=df_cleaned, alpha=0.6)\n",
        "plt.title('Relación entre la Calificación del Agente y el Tiempo de Entrega')\n",
        "plt.xlabel('Calificación del Agente')\n",
        "plt.ylabel('Tiempo de Entrega (minutos)')\n",
        "plt.show()"
      ],
      "metadata": {
        "colab": {
          "base_uri": "https://localhost:8080/",
          "height": 534
        },
        "id": "qY9k90RkysHm",
        "outputId": "ea8eb056-0677-42c7-9cfe-71669faa8d60"
      },
      "execution_count": null,
      "outputs": [
        {
          "output_type": "display_data",
          "data": {
            "text/plain": [
              "<Figure size 1200x600 with 1 Axes>"
            ],
            "image/png": "[encoded data removed]"
          },
          "metadata": {}
        }
      ]
    },
    {
      "cell_type": "markdown",
      "source": [
        "#Análisis del Gráfico 3: Relación entre la Calificación del Agente y el Tiempo de Entrega.\n",
        "\n",
        "**Conclusión**:   \n",
        "\n",
        "Los agentes con calificaciones más altas presentan tiempos de entrega más consistentes y rápidos, indicando que su experiencia y rendimiento contribuyen directamente a la eficiencia.\n",
        "\n",
        "\n",
        "**Recomendación**:\n",
        "\n",
        " Diseñar programas de capacitación centrados en las mejores prácticas de entrega para fomentar un desempeño sobresaliente."
      ],
      "metadata": {
        "id": "PHcTw4P8uRXk"
      }
    },
    {
      "cell_type": "markdown",
      "source": [
        "#4: Relación entre la distancia y el tiempo de entrega\n"
      ],
      "metadata": {
        "id": "4r4TqWNqzpbj"
      }
    },
    {
      "cell_type": "code",
      "source": [
        "# Relación entre la distancia y el tiempo de entrega\n",
        "plt.figure(figsize=(12, 6))\n",
        "sns.scatterplot(x='Distance', y='Delivery_Time', data=df_cleaned, alpha=0.6, color='purple')\n",
        "plt.title('Relación entre la Distancia y el Tiempo de Entrega')\n",
        "plt.xlabel('Distancia (aproximada)')\n",
        "plt.ylabel('Tiempo de Entrega (minutos)')\n",
        "plt.show()"
      ],
      "metadata": {
        "colab": {
          "base_uri": "https://localhost:8080/",
          "height": 533
        },
        "id": "1aPZKmMkwd8l",
        "outputId": "bb8fc57e-5d5e-4313-ca1a-3ba61201491a"
      },
      "execution_count": null,
      "outputs": [
        {
          "output_type": "display_data",
          "data": {
            "text/plain": [
              "<Figure size 1200x600 with 1 Axes>"
            ],
            "image/png": "[encoded data removed]"
          },
          "metadata": {}
        }
      ]
    },
    {
      "cell_type": "markdown",
      "source": [
        "#Análisis del Gráfico 3 Relación entre la distancia y el tiempo de entrega\n",
        "\n",
        "**Conclusión**\n",
        "\n",
        "A mayor distancia, se observa un ligero incremento en los tiempos de entrega. Sin embargo, hay dispersión en distancias cortas, indicando que otros factores (tráfico o clima) también impactan en la eficiencia.\n",
        "\n",
        "\n",
        "\n",
        "**Recomendación**\n",
        "\n",
        "\n",
        "Optimizar rutas para minimizar distancias y analizar casos de tiempos elevados, cuellos de botella no relacionados con la distancia para identificar posibles causas."
      ],
      "metadata": {
        "id": "4MOesm7Hwo5T"
      }
    },
    {
      "cell_type": "markdown",
      "source": [
        "#5: Distribución del Tiempo de Entrega por Categoría de Producto"
      ],
      "metadata": {
        "id": "CmTAVAgk0FAg"
      }
    },
    {
      "cell_type": "code",
      "source": [
        "# Distribución del tiempo de entrega por categoría de producto\n",
        "plt.figure(figsize=(14, 7))\n",
        "sns.boxplot(x='Category', y='Delivery_Time', data=df_cleaned, palette=\"Set3\")\n",
        "plt.title('Distribución del Tiempo de Entrega por Categoría de Producto')\n",
        "plt.xlabel('Categoría de Producto')\n",
        "plt.ylabel('Tiempo de Entrega (minutos)')\n",
        "plt.xticks(rotation=45)\n",
        "plt.show()"
      ],
      "metadata": {
        "colab": {
          "base_uri": "https://localhost:8080/",
          "height": 680
        },
        "id": "AxjgQho1w0_F",
        "outputId": "c8018e0b-316d-48f5-bdd2-64366cc9e85a"
      },
      "execution_count": null,
      "outputs": [
        {
          "output_type": "stream",
          "name": "stderr",
          "text": [
            "<ipython-input-42-50038f3e04a5>:3: FutureWarning: \n",
            "\n",
            "Passing `palette` without assigning `hue` is deprecated and will be removed in v0.14.0. Assign the `x` variable to `hue` and set `legend=False` for the same effect.\n",
            "\n",
            "  sns.boxplot(x='Category', y='Delivery_Time', data=df_cleaned, palette=\"Set3\")\n"
          ]
        },
        {
          "output_type": "display_data",
          "data": {
            "text/plain": [
              "<Figure size 1400x700 with 1 Axes>"
            ],
            "image/png": "[encoded data removed]"
          },
          "metadata": {}
        }
      ]
    },
    {
      "cell_type": "markdown",
      "source": [
        "#Análisis del Grafico 5: Distribución del Tiempo de Entrega por Categoría de Producto\n",
        "\n",
        "**Conclusión**\n",
        "\n",
        "\n",
        "Las categorías de productos como \"Groceries\" tienen tiempos de entrega más consistentes y bajos, mientras que otras categorías presentan alta variabilidad. Esto podría deberse a diferencias en manejo o prioridad logística..\n",
        "\n",
        "**Recomendación**\n",
        "\n",
        "\n",
        "Revisar procesos logísticos para categorías con tiempos altos, optimizando inventarios y priorizando la asignación de entregas.\n",
        "Ajustar la prioridad de entregas según la categoría del producto, optimizando especialmente para categorías con alta variabilidad."
      ],
      "metadata": {
        "id": "x5CP1Qnhxfdv"
      }
    },
    {
      "cell_type": "markdown",
      "source": [
        "#MODELO DE RESOLUCION\n",
        "\n",
        "Con este dataset, implementaré un modelo de clasificación basado en Random Forest, una técnica conocida por su robustez, facilidad de interpretación y eficacia en el manejo de datos con múltiples características. Este enfoque no solo garantizará una precisión adecuada, sino que también proporcionará información valiosa sobre la relevancia de cada variable en el modelo.\n",
        "Con este enfoque, podremos verificar si las hipótesis son válidas basándote en los resultados de los modelos y sus métricas.\n",
        "\n",
        "PASOS\n",
        "\n",
        "1- Preprocesamiento: Limpieza de datos, transformamos las variables categoricas, y gestionamos los nulos.\n",
        "\n",
        "2- Division de Datos: Dividimos el dataset en conjuntos de entrenamiento y prueba.\n",
        "\n",
        "3- Entrenamiento del Modelo: Entrenamos un modelo de Random Forest y ajustamos hiperparametros basicos.\n",
        "\n",
        "4- Evaluacion: Evaluamos el modelo con metricas de clasificacion y vemos la importancia de cada caracteristica.\n",
        "\n"
      ],
      "metadata": {
        "id": "d4Z9LT3DofKM"
      }
    },
    {
      "cell_type": "markdown",
      "source": [
        "#**Conclusión Ejecutiva**\n",
        "\n",
        "El modelo desarrollado confirma parcialmente las hipótesis planteadas. Las variables Traffic, Weather y Distance son claramente relevantes, mientras que Agent_Rating tiene una influencia moderada. A futuro, las mejoras en la calidad de los datos y la optimización del modelo permitirán obtener predicciones más precisas y un entendimiento más profundo de los factores que afectan los tiempos de entrega. Implementar estas recomendaciones fortalecerá la capacidad del sistema para predecir y gestionar tiempos de entrega de manera eficiente."
      ],
      "metadata": {
        "id": "CVzq8TkjhHmm"
      }
    },
    {
      "cell_type": "code",
      "source": [
        "# Importar bibliotecas necesarias\n",
        "import matplotlib.pyplot as plt\n",
        "from sklearn.model_selection import train_test_split\n",
        "from sklearn.ensemble import RandomForestRegressor\n",
        "from sklearn.tree import DecisionTreeRegressor\n",
        "from sklearn.linear_model import LinearRegression\n",
        "from xgboost import XGBRegressor\n",
        "from sklearn.metrics import mean_squared_error, r2_score\n",
        "from sklearn.preprocessing import LabelEncoder\n",
        "from geopy.distance import geodesic\n",
        "from sklearn.metrics import confusion_matrix\n"
      ],
      "metadata": {
        "id": "xvg4wZ9cqZyR"
      },
      "execution_count": null,
      "outputs": []
    },
    {
      "cell_type": "code",
      "source": [
        "# Limpiar el dataframe de valores nulos y duplicados\n",
        "df = df.dropna()\n",
        "df = df.drop_duplicates()"
      ],
      "metadata": {
        "id": "5eCmxzUtq_7n"
      },
      "execution_count": null,
      "outputs": []
    },
    {
      "cell_type": "code",
      "source": [
        "# Convertir las variables categóricas a variables numéricas\n",
        "label_encoder = LabelEncoder()\n",
        "df['Weather'] = label_encoder.fit_transform(df['Weather'])\n",
        "df['Traffic'] = label_encoder.fit_transform(df['Traffic'])\n",
        "df['Vehicle'] = label_encoder.fit_transform(df['Vehicle'])\n",
        "df['Area'] = label_encoder.fit_transform(df['Area'])\n",
        "df['Category'] = label_encoder.fit_transform(df['Category'])"
      ],
      "metadata": {
        "id": "2-UGwe49rYlW"
      },
      "execution_count": null,
      "outputs": []
    },
    {
      "cell_type": "code",
      "source": [
        "# Calcular la distancia entre la tienda y el destino usando la fórmula de Haversine\n",
        "from geopy.distance import geodesic"
      ],
      "metadata": {
        "id": "ejv1UcTKrcQx"
      },
      "execution_count": null,
      "outputs": []
    },
    {
      "cell_type": "code",
      "source": [
        "def calculate_distance(row):\n",
        "    store_coords = (row['Store_Latitude'], row['Store_Longitude'])\n",
        "    drop_coords = (row['Drop_Latitude'], row['Drop_Longitude'])\n",
        "    return geodesic(store_coords, drop_coords).km\n",
        "\n",
        "    df['Distance'] = df.apply(calculate_distance, axis=1)\n"
      ],
      "metadata": {
        "id": "bN-7t5iVrfv6"
      },
      "execution_count": null,
      "outputs": []
    },
    {
      "cell_type": "code",
      "source": [
        "print(df.columns)"
      ],
      "metadata": {
        "colab": {
          "base_uri": "https://localhost:8080/"
        },
        "id": "p2QaJ7y9rpMX",
        "outputId": "6974d406-fb79-47af-b143-54d879aebf7e"
      },
      "execution_count": null,
      "outputs": [
        {
          "output_type": "stream",
          "name": "stdout",
          "text": [
            "Index(['Agent_Age', 'Agent_Rating', 'Store_Latitude', 'Store_Longitude',\n",
            "       'Drop_Latitude', 'Drop_Longitude', 'Order_Date', 'Order_Time',\n",
            "       'Pickup_Time', 'Weather', 'Traffic', 'Vehicle', 'Area', 'Delivery_Time',\n",
            "       'Category'],\n",
            "      dtype='object')\n"
          ]
        }
      ]
    },
    {
      "cell_type": "code",
      "source": [
        "# Definir la función para calcular la distancia\n",
        "def calculate_distance(row):\n",
        "    store_coords = (row['Store_Latitude'], row['Store_Longitude'])\n",
        "    drop_coords = (row['Drop_Latitude'], row['Drop_Longitude'])\n",
        "    return geodesic(store_coords, drop_coords).km\n"
      ],
      "metadata": {
        "id": "G4U23E83tI4C"
      },
      "execution_count": null,
      "outputs": []
    },
    {
      "cell_type": "code",
      "source": [
        "# Manejar valores nulos y aplicar la función\n",
        "for col in ['Store_Latitude', 'Store_Longitude', 'Drop_Latitude', 'Drop_Longitude']:\n",
        "    df[col] = pd.to_numeric(df[col], errors='coerce')  # Convert to numeric, invalid parsing will be set as NaN\n",
        "\n",
        "# Elimine filas con valores NaN en las columnas relevantes para evitar errores en el cálculo de la distancia\n",
        "df = df.dropna(subset=['Store_Latitude', 'Store_Longitude', 'Drop_Latitude', 'Drop_Longitude'])\n",
        "\n",
        "#Ahora aplica la función calcular_distancia\n",
        "df['Distance'] = df.apply(calculate_distance, axis=1)\n",
        "\n"
      ],
      "metadata": {
        "id": "Q8YjstOgtMR0"
      },
      "execution_count": null,
      "outputs": []
    },
    {
      "cell_type": "code",
      "source": [
        "for col in ['Store_Latitude', 'Store_Longitude', 'Drop_Latitude', 'Drop_Longitude']:\n",
        "    df[col] = pd.to_numeric(df[col], errors='coerce')  # Convert to numeric, invalid parsing will be set as NaN\n",
        "\n",
        "df = df.dropna(subset=['Store_Latitude', 'Store_Longitude', 'Drop_Latitude', 'Drop_Longitude'])\n",
        "df['Distance'] = df.apply(calculate_distance, axis=1)"
      ],
      "metadata": {
        "id": "fHWFicY1tgLE"
      },
      "execution_count": null,
      "outputs": []
    },
    {
      "cell_type": "code",
      "source": [
        "# Verificar las primeras filas\n",
        "print(df[['Store_Latitude', 'Store_Longitude', 'Drop_Latitude', 'Drop_Longitude', 'Distance']].head())"
      ],
      "metadata": {
        "colab": {
          "base_uri": "https://localhost:8080/"
        },
        "id": "lVvNPcVGtwQv",
        "outputId": "a2c25e25-4f86-487f-871a-c3cf1244f1cc"
      },
      "execution_count": null,
      "outputs": [
        {
          "output_type": "stream",
          "name": "stdout",
          "text": [
            "   Store_Latitude  Store_Longitude  Drop_Latitude  Drop_Longitude   Distance\n",
            "1       22.745049        75.892471      22.765049       75.912471   3.020737\n",
            "2       12.913041        77.683237      13.043041       77.813237  20.143737\n",
            "3       12.914264        77.678400      12.924264       77.688400   1.549693\n",
            "4       11.003669        76.976494      11.053669       77.026494   7.774497\n",
            "5       12.972793        80.249982      13.012793       80.289982   6.197898\n"
          ]
        }
      ]
    },
    {
      "cell_type": "code",
      "source": [
        "# Definir las variables independientes y dependientes\n",
        "X = df[['Traffic', 'Weather', 'Agent_Age', 'Agent_Rating', 'Distance']]\n",
        "y = df['Delivery_Time']"
      ],
      "metadata": {
        "id": "fsIt3LKKt55A"
      },
      "execution_count": null,
      "outputs": []
    },
    {
      "cell_type": "code",
      "source": [
        "# Dividir en entrenamiento y prueba\n",
        "X_train, X_test, y_train, y_test = train_test_split(X, y, test_size=0.2, random_state=42)\n"
      ],
      "metadata": {
        "id": "fWVWh7oQt9Am"
      },
      "execution_count": null,
      "outputs": []
    },
    {
      "cell_type": "code",
      "source": [
        "# Inicializar los modelos\n",
        "models = {\n",
        "    \"Random Forest\": RandomForestRegressor(),}\n",
        "# Inicializar los modelos\n",
        "models = {\n",
        "    \"Random Forest\": RandomForestRegressor(),\n",
        "    \"Decision Tree\": DecisionTreeRegressor(),\n",
        "    \"Linear Regression\": LinearRegression(),\n",
        "    \"XGBoost\": XGBRegressor()\n",
        "}"
      ],
      "metadata": {
        "id": "0zx9Upq8uArB"
      },
      "execution_count": null,
      "outputs": []
    },
    {
      "cell_type": "code",
      "source": [
        "# Entrenar los modelos y evaluar el rendimiento\n",
        "results = {}  # Initialize the results dictionary here\n",
        "\n",
        "for model_name, model in models.items():\n",
        "    # Convertir 'Agent_Age' y 'Agent_Rating' a numéricos antes de realizar el ajuste\n",
        "    X_train['Agent_Age'] = pd.to_numeric(X_train['Agent_Age'], errors='coerce')\n",
        "    X_train['Agent_Rating'] = pd.to_numeric(X_train['Agent_Rating'], errors='coerce')\n",
        "\n",
        "    # Se necesita una conversión similar para X_test antes de la predicción\n",
        "    X_test['Agent_Age'] = pd.to_numeric(X_test['Agent_Age'], errors='coerce')\n",
        "    X_test['Agent_Rating'] = pd.to_numeric(X_test['Agent_Rating'], errors='coerce')\n",
        "\n",
        "    # Ahora ajusta el modelo\n",
        "    model.fit(X_train, y_train)\n",
        "    y_pred = model.predict(X_test)\n",
        "\n",
        "    # Evaluar el rendimiento  # This line and the following were incorrectly indented\n",
        "    r2 = r2_score(y_test, y_pred)\n",
        "    mse = mean_squared_error(y_test, y_pred)\n",
        "\n",
        "    results[model_name] = {\n",
        "        \"R^2\": r2,\n",
        "        \"MSE\": mse\n",
        "    }"
      ],
      "metadata": {
        "id": "fqFTdTl3uknj"
      },
      "execution_count": null,
      "outputs": []
    },
    {
      "cell_type": "code",
      "source": [
        "results_df = pd.DataFrame(results).T\n",
        "print(results_df)"
      ],
      "metadata": {
        "colab": {
          "base_uri": "https://localhost:8080/"
        },
        "id": "Z3E3Uba9voh8",
        "outputId": "f0bfd2ab-5acb-4ff2-bbf3-4bc0e32f4f8f"
      },
      "execution_count": null,
      "outputs": [
        {
          "output_type": "stream",
          "name": "stdout",
          "text": [
            "                        R^2          MSE\n",
            "Random Forest      0.446197  1456.403715\n",
            "Decision Tree     -0.013843  2666.225644\n",
            "Linear Regression  0.183407  2147.492236\n",
            "XGBoost            0.507185  1296.015625\n"
          ]
        }
      ]
    },
    {
      "cell_type": "code",
      "source": [
        "# Visualización de la importancia de las características con Random Forest\n",
        "rf_model = models[\"Random Forest\"]\n",
        "importance = rf_model.feature_importances_\n",
        "features = X.columns"
      ],
      "metadata": {
        "id": "i57MNf7ywIGH"
      },
      "execution_count": null,
      "outputs": []
    },
    {
      "cell_type": "code",
      "source": [
        "# Gráfico de importancia de las características\n",
        "plt.figure(figsize=(10, 6))\n",
        "sns.barplot(x=importance, y=features)\n",
        "plt.title(\"Importancia de las características (Random Forest)\")\n",
        "plt.xlabel(\"Importancia\")\n",
        "plt.ylabel(\"Características\")\n",
        "plt.show()\n"
      ],
      "metadata": {
        "colab": {
          "base_uri": "https://localhost:8080/",
          "height": 570
        },
        "id": "_YTp3VyawMUS",
        "outputId": "7fcb6a82-521d-4898-975a-17ce6df236b7"
      },
      "execution_count": null,
      "outputs": [
        {
          "output_type": "display_data",
          "data": {
            "text/plain": [
              "<Figure size 1000x600 with 1 Axes>"
            ],
            "image/png": "[encoded data removed]"
          },
          "metadata": {}
        }
      ]
    },
    {
      "cell_type": "code",
      "source": [
        "# Conclusiones\n",
        "print(\"Hipótesis H1: El tráfico y el clima adverso incrementan significativamente los tiempos de entrega.\")\n",
        "# Aquí interpretaríamos si los modelos demuestran que las variables 'Traffic' y 'Weather' son importantes para predecir 'Delivery_Time'\n",
        "\n",
        "print(\"Hipótesis H2: Agentes con mejores calificaciones tienen tiempos de entrega más rápidos.\")\n",
        "# Evaluar la relación entre 'Agent_Rating' y 'Delivery_Time'\n",
        "\n",
        "print(\"Hipótesis H3: Las distancias más largas aumentan los tiempos de entrega.\")\n",
        "# Analizar la importancia de 'Distance' en el modelo\n"
      ],
      "metadata": {
        "colab": {
          "base_uri": "https://localhost:8080/"
        },
        "id": "Pf2K9LjqwQTd",
        "outputId": "65f58c95-dc3d-48ba-85df-70c8d948fc2b"
      },
      "execution_count": null,
      "outputs": [
        {
          "output_type": "stream",
          "name": "stdout",
          "text": [
            "Hipótesis H1: El tráfico y el clima adverso incrementan significativamente los tiempos de entrega.\n",
            "Hipótesis H2: Agentes con mejores calificaciones tienen tiempos de entrega más rápidos.\n",
            "Hipótesis H3: Las distancias más largas aumentan los tiempos de entrega.\n"
          ]
        }
      ]
    },
    {
      "cell_type": "markdown",
      "source": [
        "#Próximos pasos y lineamientos futuros\n",
        "\n",
        "\n",
        "\n",
        "1- Optimización del Modelo:\n",
        "\n",
        " Ajustar los hiperparámetros del modelo Random Forest utilizando técnicas como Grid Search o Random Search para mejorar el rendimiento.\n",
        "Considerar la implementación de modelos más avanzados, como Gradient Boosting (por ejemplo, XGBoost o LightGBM), que ya han mostrado un mejor desempeño en esta tarea.\n",
        "\n",
        "2- Mejorar la Calidad de los Datos:\n",
        "\n",
        "Ampliar el dataset incorporando datos adicionales relacionados con:\n",
        "Factores de congestión de tráfico en tiempo real.\n",
        "Tipos de clima más detallados (por ejemplo, lluvia ligera, tormenta).\n",
        "Información demográfica o de experiencia de los agentes.\n",
        "Garantizar la limpieza constante de los datos para evitar valores nulos o inconsistentes que puedan afectar el rendimiento del modelo.\n",
        "\n",
        "3- Validación Adicional de las Hipótesis:\n",
        "\n",
        "Diseñar un análisis estadístico más detallado para determinar la fuerza de la relación entre las variables predictoras y el tiempo de entrega.\n",
        "Validar las hipótesis con diferentes conjuntos de datos o mediante técnicas de validación cruzada para confirmar la generalización de los resultados.\n",
        "\n",
        "4- Incorporación de Predicción en Tiempo Real:\n",
        "\n",
        "Implementar el modelo en un sistema que pueda realizar predicciones en tiempo real basándose en datos dinámicos como tráfico y clima.\n",
        "Esto permitirá una planificación logística más eficiente, optimizando las rutas de entrega.\n",
        "\n",
        "5- Análisis Geoespacial:\n",
        "\n",
        "Incorporar análisis geoespacial para capturar patrones relacionados con áreas específicas donde el tiempo de entrega puede variar debido a factores locales.\n",
        "Extensión del Modelo a Nuevas Métricas:\n",
        "\n",
        "Introducir nuevas métricas de evaluación, como el tiempo promedio por tramo o la tasa de entregas exitosas, para complementar la predicción del tiempo de entrega.\n",
        "Considerar predicciones categóricas para identificar entregas críticas que podrían exceder un tiempo límite definido.\n",
        "\n"
      ],
      "metadata": {
        "id": "3Ta-mjX1hgp8"
      }
    },
    {
      "cell_type": "markdown",
      "source": [
        "#Modelo 2\n",
        "\n",
        "Objetivo\n",
        "\n",
        "El modelo propuesto tiene como objetivo predecir los tiempos de entrega (Delivery_Time) de manera precisa utilizando un enfoque basado en dos algoritmos: Random Forest y LightGBM. Estas técnicas se seleccionaron por su capacidad de manejar conjuntos de datos complejos con múltiples características, ofreciendo interpretabilidad y rendimiento eficiente.\n",
        "\n",
        "El propósito principal es evaluar tres hipótesis clave relacionadas con el impacto de diferentes variables, como tráfico, clima, calificación de los agentes y distancia, sobre los tiempos de entrega. Además, el modelo busca proporcionar métricas sólidas y visualizaciones que permitan identificar las variables más relevantes para mejorar la logística y los tiempos de respuesta en entregas."
      ],
      "metadata": {
        "id": "mgxjqhckjfUL"
      }
    },
    {
      "cell_type": "markdown",
      "source": [
        "#Conclusión Ejecutiva\n",
        "\n",
        "\n",
        "**Comparación del rendimiento de los modelos:**\n",
        "\n",
        "LightGBM demostró ser el modelo más efectivo con un R² de 0.53, un MSE de 1234.12, y un MAE de 24.39, superando a Random Forest en todas las métricas.\n",
        "Random Forest presentó un desempeño aceptable con un R² de 0.44, pero mostró mayores errores (MSE: 1461.55, MAE: 27.12), lo que lo hace menos adecuado en este caso.\n",
        "\n",
        "\n",
        "\n",
        "**Hipótesis evaluadas:**  \n",
        "\n",
        "\n",
        "**Hipótesis 1:** El tráfico y el clima adverso incrementan los tiempos de entrega.\n",
        "Validada. Las características Traffic y Weather tienen un impacto significativo en el modelo, confirmando esta hipótesis.\n",
        "\n",
        "**Hipótesis 2:** Agentes con mejores calificaciones tienen tiempos de entrega más rápidos.\n",
        "Parcialmente validada. La variable Agent_Rating tiene una influencia moderada, lo que sugiere que otros factores como distancia y tráfico son más determinantes.\n",
        "\n",
        "**Hipótesis 3:** Las distancias más largas aumentan los tiempos de entrega.\n",
        "Validada. Distance es una de las características más relevantes y tiene una relación directa con los tiempos de entrega, respaldando esta hipótesis.\n",
        "Visualización y análisis de características:\n",
        "\n",
        "Las variables Distance, Traffic y Weather son las más importantes según el análisis del modelo Random Forest, lo que concuerda con las hipótesis planteadas.\n",
        "Se observaron dispersión y errores mayores en predicciones extremas, lo que indica posibles valores atípicos o ruido en los datos."
      ],
      "metadata": {
        "id": "YXFGofLvkbiO"
      }
    },
    {
      "cell_type": "code",
      "source": [
        "import lightgbm as lgb\n",
        "from sklearn.metrics import mean_absolute_error, mean_squared_error, r2_score\n",
        "\n",
        "\n",
        "# Transformar variables categóricas a numéricas\n",
        "label_encoder = LabelEncoder()\n",
        "for col in ['Weather', 'Traffic', 'Vehicle', 'Area', 'Category']:\n",
        "    df[col] = label_encoder.fit_transform(df[col])"
      ],
      "metadata": {
        "colab": {
          "base_uri": "https://localhost:8080/"
        },
        "id": "x28yaa4f67-V",
        "outputId": "7d624ef1-e7b2-4b50-bd58-aafdfc897c7f"
      },
      "execution_count": null,
      "outputs": [
        {
          "output_type": "stream",
          "name": "stderr",
          "text": [
            "/usr/local/lib/python3.10/dist-packages/dask/dataframe/__init__.py:42: FutureWarning: \n",
            "Dask dataframe query planning is disabled because dask-expr is not installed.\n",
            "\n",
            "You can install it with `pip install dask[dataframe]` or `conda install dask`.\n",
            "This will raise in a future version.\n",
            "\n",
            "  warnings.warn(msg, FutureWarning)\n"
          ]
        }
      ]
    },
    {
      "cell_type": "code",
      "source": [
        "# Calcular la distancia geográfica\n",
        "from geopy.distance import geodesic\n",
        "\n",
        "def calculate_distance(row):\n",
        "    store_coords = (row['Store_Latitude'], row['Store_Longitude'])\n",
        "    drop_coords = (row['Drop_Latitude'], row['Drop_Longitude'])\n",
        "    return geodesic(store_coords, drop_coords).km"
      ],
      "metadata": {
        "id": "h5xxNRtt8iYx"
      },
      "execution_count": null,
      "outputs": []
    },
    {
      "cell_type": "code",
      "source": [
        "# Aplicar la función una sola vez:\n",
        "for col in ['Store_Latitude', 'Store_Longitude', 'Drop_Latitude', 'Drop_Longitude']:\n",
        "    df[col] = pd.to_numeric(df[col], errors='coerce')\n",
        "df = df.dropna(subset=['Store_Latitude', 'Store_Longitude', 'Drop_Latitude', 'Drop_Longitude'])\n",
        "df['Distance'] = df.apply(calculate_distance, axis=1)"
      ],
      "metadata": {
        "id": "5DmabPwAFbER"
      },
      "execution_count": null,
      "outputs": []
    },
    {
      "cell_type": "code",
      "source": [
        "# Filtrar filas con valores no numéricos en las columnas específicas\n",
        "df = df[df['Agent_Age'].apply(lambda x: str(x).replace('.', '', 1).isdigit())]\n",
        "df = df[df['Agent_Rating'].apply(lambda x: str(x).replace('.', '', 1).isdigit())]"
      ],
      "metadata": {
        "id": "G1zgodqZGqv5"
      },
      "execution_count": null,
      "outputs": []
    },
    {
      "cell_type": "code",
      "source": [
        "# Identificar valores no convertibles a números\n",
        "problematic_rows = df.loc[\n",
        "    ~df['Agent_Rating'].apply(lambda x: isinstance(x, (int, float))) |\n",
        "    ~df['Agent_Age'].apply(lambda x: isinstance(x, (int, float)))\n",
        "]\n",
        "print(\"Filas problemáticas:\")\n",
        "print(problematic_rows)"
      ],
      "metadata": {
        "colab": {
          "base_uri": "https://localhost:8080/"
        },
        "id": "GxLtFzgyHvA7",
        "outputId": "59a466e5-54f6-4cd5-f5b4-cc0ab3cee81c"
      },
      "execution_count": null,
      "outputs": [
        {
          "output_type": "stream",
          "name": "stdout",
          "text": [
            "Filas problemáticas:\n",
            "       Agent_Age Agent_Rating  Store_Latitude  Store_Longitude  Drop_Latitude  \\\n",
            "1             37          4.9       22.745049        75.892471      22.765049   \n",
            "2             34          4.5       12.913041        77.683237      13.043041   \n",
            "3             23          4.4       12.914264        77.678400      12.924264   \n",
            "4             38          4.7       11.003669        76.976494      11.053669   \n",
            "5             32          4.6       12.972793        80.249982      13.012793   \n",
            "...          ...          ...             ...              ...            ...   \n",
            "32763         23          3.5       22.311844        73.165081      22.381844   \n",
            "32764         24          4.5       23.369746        85.339820      23.459746   \n",
            "32765         35          4.8       21.183434        72.814492      21.273434   \n",
            "32766         30          4.3       22.760072        75.892574      22.780072   \n",
            "32767         20          4.6       10.006881        76.345397      10.086881   \n",
            "\n",
            "       Drop_Longitude  Order_Date Order_Time Pickup_Time  Weather  Traffic  \\\n",
            "1           75.912471  2022-03-19   11:30:00    11:45:00        4        0   \n",
            "2           77.813237  2022-03-25   19:45:00    19:50:00        3        1   \n",
            "3           77.688400  2022-03-19   08:30:00    08:45:00        2        2   \n",
            "4           77.026494  2022-04-05   18:00:00    18:10:00        4        3   \n",
            "5           80.289982  2022-03-26   13:30:00    13:45:00        0        0   \n",
            "...               ...         ...        ...         ...      ...      ...   \n",
            "32763       73.235081  2022-03-16   23:40:00    23:55:00        4        2   \n",
            "32764       85.429820  2022-03-29   17:55:00    18:05:00        1        3   \n",
            "32765       72.904492  2022-03-27   23:30:00    23:40:00        3        2   \n",
            "32766       75.912574  2022-03-01   11:25:00    11:30:00        5        0   \n",
            "32767       76.425397  2022-02-12   17:45:00    17:50:00        4        3   \n",
            "\n",
            "       Vehicle  Area Delivery_Time  Category   Distance  \n",
            "1            0     3           120         2   3.020737  \n",
            "2            1     0           165         4  20.143737  \n",
            "3            0     3           130        14   1.549693  \n",
            "4            0     0           105         3   7.774497  \n",
            "5            1     0           150        15   6.197898  \n",
            "...        ...   ...           ...       ...        ...  \n",
            "32763        1     0           190        12  10.586704  \n",
            "32764        1     3           125         1  13.563367  \n",
            "32765        2     0           120         7  13.659771  \n",
            "32766        0     3           235         2   3.020587  \n",
            "32767        1     3            65         2  12.458310  \n",
            "\n",
            "[32657 rows x 16 columns]\n"
          ]
        }
      ]
    },
    {
      "cell_type": "code",
      "source": [
        "# Convertir columnas a numérico, reemplazar nulos con valores seguros\n",
        "df['Agent_Age'] = pd.to_numeric(df['Agent_Age'], errors='coerce')\n",
        "df['Agent_Rating'] = pd.to_numeric(df['Agent_Rating'], errors='coerce')\n",
        "\n",
        "# Rellenar valores NaN\n",
        "df['Agent_Age'].fillna(0, inplace=True)  # Rellenar con 0\n",
        "df['Agent_Rating'].fillna(df['Agent_Rating'].mean(), inplace=True)  # Rellenar con la media"
      ],
      "metadata": {
        "colab": {
          "base_uri": "https://localhost:8080/"
        },
        "id": "C1KOBW9pG8rB",
        "outputId": "dffe7b75-120b-4ed0-9cb2-84b2b0dd67d2"
      },
      "execution_count": null,
      "outputs": [
        {
          "output_type": "stream",
          "name": "stderr",
          "text": [
            "<ipython-input-86-79d5c38d37aa>:6: FutureWarning: A value is trying to be set on a copy of a DataFrame or Series through chained assignment using an inplace method.\n",
            "The behavior will change in pandas 3.0. This inplace method will never work because the intermediate object on which we are setting values always behaves as a copy.\n",
            "\n",
            "For example, when doing 'df[col].method(value, inplace=True)', try using 'df.method({col: value}, inplace=True)' or df[col] = df[col].method(value) instead, to perform the operation inplace on the original object.\n",
            "\n",
            "\n",
            "  df['Agent_Age'].fillna(0, inplace=True)  # Rellenar con 0\n",
            "<ipython-input-86-79d5c38d37aa>:7: FutureWarning: A value is trying to be set on a copy of a DataFrame or Series through chained assignment using an inplace method.\n",
            "The behavior will change in pandas 3.0. This inplace method will never work because the intermediate object on which we are setting values always behaves as a copy.\n",
            "\n",
            "For example, when doing 'df[col].method(value, inplace=True)', try using 'df.method({col: value}, inplace=True)' or df[col] = df[col].method(value) instead, to perform the operation inplace on the original object.\n",
            "\n",
            "\n",
            "  df['Agent_Rating'].fillna(df['Agent_Rating'].mean(), inplace=True)  # Rellenar con la media\n"
          ]
        }
      ]
    },
    {
      "cell_type": "code",
      "source": [
        "print(df[['Agent_Age', 'Agent_Rating']].dtypes)\n",
        "print(df[['Agent_Age', 'Agent_Rating']].head())"
      ],
      "metadata": {
        "colab": {
          "base_uri": "https://localhost:8080/"
        },
        "id": "vLElCohlH4ay",
        "outputId": "20396e20-715d-4a57-b25c-25ee2597053c"
      },
      "execution_count": null,
      "outputs": [
        {
          "output_type": "stream",
          "name": "stdout",
          "text": [
            "Agent_Age         int64\n",
            "Agent_Rating    float64\n",
            "dtype: object\n",
            "   Agent_Age  Agent_Rating\n",
            "1         37           4.9\n",
            "2         34           4.5\n",
            "3         23           4.4\n",
            "4         38           4.7\n",
            "5         32           4.6\n"
          ]
        }
      ]
    },
    {
      "cell_type": "code",
      "source": [
        "# Ver los valores únicos en la columna Delivery_Time\n",
        "print(df['Delivery_Time'].unique())\n"
      ],
      "metadata": {
        "colab": {
          "base_uri": "https://localhost:8080/"
        },
        "id": "s3eRbpLlIGdv",
        "outputId": "f8ef79e3-f895-4240-c275-9ab48b265530"
      },
      "execution_count": null,
      "outputs": [
        {
          "output_type": "stream",
          "name": "stdout",
          "text": [
            "['120' '165' '130' '105' '150' '200' '160' '170' '230' '115' '100' '205'\n",
            " '33' '75' '180' '195' '90' '190' '235' '60' '110' '125' '35' '50' '95'\n",
            " '55' '140' '260' '16' '80' '135' '245' '85' '70' '15' '185' '220' '210'\n",
            " '155' '65' '145' '19' '175' '215' '240' '26' '270' '25' '53' '28' '250'\n",
            " '24' '37' '13' '225' '10' '22' '21' '14' '12' '27' '29' '23' '41' '34'\n",
            " '42' '11' '45' '47' '265' '255' '17' '38' '18' '36' '20' '39' '44' '49'\n",
            " '48' '46' '32' '40' '43' '30' '51' '31' '52' '54' 200 90 140 50 85 115\n",
            " 150 95 180 125 145 23 70 170 80 210 130 155 165 225 120 195 105 185 135\n",
            " 75 65 60 220 100 110 25 245 55 34 26 230 205 175 160 19 190 32 260 215 40\n",
            " 48 240 27 265 30 255 28 29 36 16 33 235 15 21 39 38 31 37 20 17 18 13 22\n",
            " 270 41 11 42 43 250 24 12 44 10 45 14 54 35 49 47 53 51 46]\n"
          ]
        }
      ]
    },
    {
      "cell_type": "code",
      "source": [
        "# Reemplazar valores no válidos en Delivery_Time\n",
        "df['Delivery_Time'] = pd.to_numeric(df['Delivery_Time'], errors='coerce')\n",
        "\n",
        "# Eliminar filas donde Delivery_Time sigue siendo NaN después de la conversión\n",
        "df = df.dropna(subset=['Delivery_Time'])"
      ],
      "metadata": {
        "id": "8IkcKc3kI6Bd"
      },
      "execution_count": null,
      "outputs": []
    },
    {
      "cell_type": "code",
      "source": [
        "# Convertir Delivery_Time a numérico y rellenar valores faltantes con la media\n",
        "df['Delivery_Time'] = pd.to_numeric(df['Delivery_Time'], errors='coerce')\n",
        "df['Delivery_Time'] = df['Delivery_Time'].fillna(df['Delivery_Time'].mean())"
      ],
      "metadata": {
        "id": "vsMaI-ANI9K_"
      },
      "execution_count": null,
      "outputs": []
    },
    {
      "cell_type": "code",
      "source": [
        "print(df['Delivery_Time'].dtypes)\n",
        "print(df['Delivery_Time'].head())"
      ],
      "metadata": {
        "colab": {
          "base_uri": "https://localhost:8080/"
        },
        "id": "LveS-klhJBYN",
        "outputId": "a538d6fa-0068-42f8-f26a-1483c23aecf1"
      },
      "execution_count": null,
      "outputs": [
        {
          "output_type": "stream",
          "name": "stdout",
          "text": [
            "int64\n",
            "1    120\n",
            "2    165\n",
            "3    130\n",
            "4    105\n",
            "5    150\n",
            "Name: Delivery_Time, dtype: int64\n"
          ]
        }
      ]
    },
    {
      "cell_type": "code",
      "source": [
        "# Definir variables de entrada (X) y salida (y)\n",
        "X = df[['Traffic', 'Weather', 'Agent_Age', 'Agent_Rating', 'Distance']]\n",
        "y = df['Delivery_Time']  # Ahora debe estar completamente limpio\n"
      ],
      "metadata": {
        "id": "rgjOKjbJJE8L"
      },
      "execution_count": null,
      "outputs": []
    },
    {
      "cell_type": "code",
      "source": [
        "# División en conjuntos de entrenamiento y prueba\n",
        "from sklearn.model_selection import train_test_split\n",
        "\n",
        "X_train, X_test, y_train, y_test = train_test_split(X, y, test_size=0.2, random_state=42)"
      ],
      "metadata": {
        "id": "Xd68kQKqJJGz"
      },
      "execution_count": null,
      "outputs": []
    },
    {
      "cell_type": "code",
      "source": [
        "\n",
        "\n"
      ],
      "metadata": {
        "id": "KUk7Fvw98l0O"
      },
      "execution_count": null,
      "outputs": []
    },
    {
      "cell_type": "code",
      "source": [
        "import lightgbm\n",
        "print(lightgbm.__version__)"
      ],
      "metadata": {
        "colab": {
          "base_uri": "https://localhost:8080/"
        },
        "id": "Dmi_lS-ZBI75",
        "outputId": "8453a4ff-2895-4fa2-febd-1ff63975e731"
      },
      "execution_count": null,
      "outputs": [
        {
          "output_type": "stream",
          "name": "stdout",
          "text": [
            "4.5.0\n"
          ]
        }
      ]
    },
    {
      "cell_type": "code",
      "source": [
        "\n",
        "from sklearn.ensemble import RandomForestRegressor\n",
        "\n",
        "# Definir los parámetros para Random Forest\n",
        "rf_params = {\n",
        "    'n_estimators': 100,       # Número de árboles en el bosque\n",
        "    'max_depth': None,         # Profundidad máxima del árbol\n",
        "    'min_samples_split': 2,    # Número mínimo de muestras para dividir un nodo\n",
        "    'min_samples_leaf': 1,     # Número mínimo de muestras en una hoja\n",
        "    'random_state': 42,        # Reproducibilidad\n",
        "}"
      ],
      "metadata": {
        "id": "g90bX-i00aWG"
      },
      "execution_count": null,
      "outputs": []
    },
    {
      "cell_type": "code",
      "source": [
        "# Inicializar el modelo con los parámetros definidos\n",
        "rf_model = RandomForestRegressor(**rf_params)\n",
        "\n",
        "# Entrenar el modelo\n",
        "rf_model.fit(X_train, y_train)\n",
        "\n"
      ],
      "metadata": {
        "colab": {
          "base_uri": "https://localhost:8080/",
          "height": 80
        },
        "id": "MOo_G-iV0jlb",
        "outputId": "7425e9f6-95cd-4de7-961f-fc5e24ce8a5d"
      },
      "execution_count": null,
      "outputs": [
        {
          "output_type": "execute_result",
          "data": {
            "text/plain": [
              "RandomForestRegressor(random_state=42)"
            ],
            "text/html": [
              "<style>#sk-container-id-1 {\n",
              "  /* Definition of color scheme common for light and dark mode */\n",
              "  --sklearn-color-text: #000;\n",
              "  --sklearn-color-text-muted: #666;\n",
              "  --sklearn-color-line: gray;\n",
              "  /* Definition of color scheme for unfitted estimators */\n",
              "  --sklearn-color-unfitted-level-0: #fff5e6;\n",
              "  --sklearn-color-unfitted-level-1: #f6e4d2;\n",
              "  --sklearn-color-unfitted-level-2: #ffe0b3;\n",
              "  --sklearn-color-unfitted-level-3: chocolate;\n",
              "  /* Definition of color scheme for fitted estimators */\n",
              "  --sklearn-color-fitted-level-0: #f0f8ff;\n",
              "  --sklearn-color-fitted-level-1: #d4ebff;\n",
              "  --sklearn-color-fitted-level-2: #b3dbfd;\n",
              "  --sklearn-color-fitted-level-3: cornflowerblue;\n",
              "\n",
              "  /* Specific color for light theme */\n",
              "  --sklearn-color-text-on-default-background: var(--sg-text-color, var(--theme-code-foreground, var(--jp-content-font-color1, black)));\n",
              "  --sklearn-color-background: var(--sg-background-color, var(--theme-background, var(--jp-layout-color0, white)));\n",
              "  --sklearn-color-border-box: var(--sg-text-color, var(--theme-code-foreground, var(--jp-content-font-color1, black)));\n",
              "  --sklearn-color-icon: #696969;\n",
              "\n",
              "  @media (prefers-color-scheme: dark) {\n",
              "    /* Redefinition of color scheme for dark theme */\n",
              "    --sklearn-color-text-on-default-background: var(--sg-text-color, var(--theme-code-foreground, var(--jp-content-font-color1, white)));\n",
              "    --sklearn-color-background: var(--sg-background-color, var(--theme-background, var(--jp-layout-color0, #111)));\n",
              "    --sklearn-color-border-box: var(--sg-text-color, var(--theme-code-foreground, var(--jp-content-font-color1, white)));\n",
              "    --sklearn-color-icon: #878787;\n",
              "  }\n",
              "}\n",
              "\n",
              "#sk-container-id-1 {\n",
              "  color: var(--sklearn-color-text);\n",
              "}\n",
              "\n",
              "#sk-container-id-1 pre {\n",
              "  padding: 0;\n",
              "}\n",
              "\n",
              "#sk-container-id-1 input.sk-hidden--visually {\n",
              "  border: 0;\n",
              "  clip: rect(1px 1px 1px 1px);\n",
              "  clip: rect(1px, 1px, 1px, 1px);\n",
              "  height: 1px;\n",
              "  margin: -1px;\n",
              "  overflow: hidden;\n",
              "  padding: 0;\n",
              "  position: absolute;\n",
              "  width: 1px;\n",
              "}\n",
              "\n",
              "#sk-container-id-1 div.sk-dashed-wrapped {\n",
              "  border: 1px dashed var(--sklearn-color-line);\n",
              "  margin: 0 0.4em 0.5em 0.4em;\n",
              "  box-sizing: border-box;\n",
              "  padding-bottom: 0.4em;\n",
              "  background-color: var(--sklearn-color-background);\n",
              "}\n",
              "\n",
              "#sk-container-id-1 div.sk-container {\n",
              "  /* jupyter's `normalize.less` sets `[hidden] { display: none; }`\n",
              "     but bootstrap.min.css set `[hidden] { display: none !important; }`\n",
              "     so we also need the `!important` here to be able to override the\n",
              "     default hidden behavior on the sphinx rendered scikit-learn.org.\n",
              "     See: https://github.com/scikit-learn/scikit-learn/issues/21755 */\n",
              "  display: inline-block !important;\n",
              "  position: relative;\n",
              "}\n",
              "\n",
              "#sk-container-id-1 div.sk-text-repr-fallback {\n",
              "  display: none;\n",
              "}\n",
              "\n",
              "div.sk-parallel-item,\n",
              "div.sk-serial,\n",
              "div.sk-item {\n",
              "  /* draw centered vertical line to link estimators */\n",
              "  background-image: linear-gradient(var(--sklearn-color-text-on-default-background), var(--sklearn-color-text-on-default-background));\n",
              "  background-size: 2px 100%;\n",
              "  background-repeat: no-repeat;\n",
              "  background-position: center center;\n",
              "}\n",
              "\n",
              "/* Parallel-specific style estimator block */\n",
              "\n",
              "#sk-container-id-1 div.sk-parallel-item::after {\n",
              "  content: \"\";\n",
              "  width: 100%;\n",
              "  border-bottom: 2px solid var(--sklearn-color-text-on-default-background);\n",
              "  flex-grow: 1;\n",
              "}\n",
              "\n",
              "#sk-container-id-1 div.sk-parallel {\n",
              "  display: flex;\n",
              "  align-items: stretch;\n",
              "  justify-content: center;\n",
              "  background-color: var(--sklearn-color-background);\n",
              "  position: relative;\n",
              "}\n",
              "\n",
              "#sk-container-id-1 div.sk-parallel-item {\n",
              "  display: flex;\n",
              "  flex-direction: column;\n",
              "}\n",
              "\n",
              "#sk-container-id-1 div.sk-parallel-item:first-child::after {\n",
              "  align-self: flex-end;\n",
              "  width: 50%;\n",
              "}\n",
              "\n",
              "#sk-container-id-1 div.sk-parallel-item:last-child::after {\n",
              "  align-self: flex-start;\n",
              "  width: 50%;\n",
              "}\n",
              "\n",
              "#sk-container-id-1 div.sk-parallel-item:only-child::after {\n",
              "  width: 0;\n",
              "}\n",
              "\n",
              "/* Serial-specific style estimator block */\n",
              "\n",
              "#sk-container-id-1 div.sk-serial {\n",
              "  display: flex;\n",
              "  flex-direction: column;\n",
              "  align-items: center;\n",
              "  background-color: var(--sklearn-color-background);\n",
              "  padding-right: 1em;\n",
              "  padding-left: 1em;\n",
              "}\n",
              "\n",
              "\n",
              "/* Toggleable style: style used for estimator/Pipeline/ColumnTransformer box that is\n",
              "clickable and can be expanded/collapsed.\n",
              "- Pipeline and ColumnTransformer use this feature and define the default style\n",
              "- Estimators will overwrite some part of the style using the `sk-estimator` class\n",
              "*/\n",
              "\n",
              "/* Pipeline and ColumnTransformer style (default) */\n",
              "\n",
              "#sk-container-id-1 div.sk-toggleable {\n",
              "  /* Default theme specific background. It is overwritten whether we have a\n",
              "  specific estimator or a Pipeline/ColumnTransformer */\n",
              "  background-color: var(--sklearn-color-background);\n",
              "}\n",
              "\n",
              "/* Toggleable label */\n",
              "#sk-container-id-1 label.sk-toggleable__label {\n",
              "  cursor: pointer;\n",
              "  display: flex;\n",
              "  width: 100%;\n",
              "  margin-bottom: 0;\n",
              "  padding: 0.5em;\n",
              "  box-sizing: border-box;\n",
              "  text-align: center;\n",
              "  align-items: start;\n",
              "  justify-content: space-between;\n",
              "  gap: 0.5em;\n",
              "}\n",
              "\n",
              "#sk-container-id-1 label.sk-toggleable__label .caption {\n",
              "  font-size: 0.6rem;\n",
              "  font-weight: lighter;\n",
              "  color: var(--sklearn-color-text-muted);\n",
              "}\n",
              "\n",
              "#sk-container-id-1 label.sk-toggleable__label-arrow:before {\n",
              "  /* Arrow on the left of the label */\n",
              "  content: \"▸\";\n",
              "  float: left;\n",
              "  margin-right: 0.25em;\n",
              "  color: var(--sklearn-color-icon);\n",
              "}\n",
              "\n",
              "#sk-container-id-1 label.sk-toggleable__label-arrow:hover:before {\n",
              "  color: var(--sklearn-color-text);\n",
              "}\n",
              "\n",
              "/* Toggleable content - dropdown */\n",
              "\n",
              "#sk-container-id-1 div.sk-toggleable__content {\n",
              "  max-height: 0;\n",
              "  max-width: 0;\n",
              "  overflow: hidden;\n",
              "  text-align: left;\n",
              "  /* unfitted */\n",
              "  background-color: var(--sklearn-color-unfitted-level-0);\n",
              "}\n",
              "\n",
              "#sk-container-id-1 div.sk-toggleable__content.fitted {\n",
              "  /* fitted */\n",
              "  background-color: var(--sklearn-color-fitted-level-0);\n",
              "}\n",
              "\n",
              "#sk-container-id-1 div.sk-toggleable__content pre {\n",
              "  margin: 0.2em;\n",
              "  border-radius: 0.25em;\n",
              "  color: var(--sklearn-color-text);\n",
              "  /* unfitted */\n",
              "  background-color: var(--sklearn-color-unfitted-level-0);\n",
              "}\n",
              "\n",
              "#sk-container-id-1 div.sk-toggleable__content.fitted pre {\n",
              "  /* unfitted */\n",
              "  background-color: var(--sklearn-color-fitted-level-0);\n",
              "}\n",
              "\n",
              "#sk-container-id-1 input.sk-toggleable__control:checked~div.sk-toggleable__content {\n",
              "  /* Expand drop-down */\n",
              "  max-height: 200px;\n",
              "  max-width: 100%;\n",
              "  overflow: auto;\n",
              "}\n",
              "\n",
              "#sk-container-id-1 input.sk-toggleable__control:checked~label.sk-toggleable__label-arrow:before {\n",
              "  content: \"▾\";\n",
              "}\n",
              "\n",
              "/* Pipeline/ColumnTransformer-specific style */\n",
              "\n",
              "#sk-container-id-1 div.sk-label input.sk-toggleable__control:checked~label.sk-toggleable__label {\n",
              "  color: var(--sklearn-color-text);\n",
              "  background-color: var(--sklearn-color-unfitted-level-2);\n",
              "}\n",
              "\n",
              "#sk-container-id-1 div.sk-label.fitted input.sk-toggleable__control:checked~label.sk-toggleable__label {\n",
              "  background-color: var(--sklearn-color-fitted-level-2);\n",
              "}\n",
              "\n",
              "/* Estimator-specific style */\n",
              "\n",
              "/* Colorize estimator box */\n",
              "#sk-container-id-1 div.sk-estimator input.sk-toggleable__control:checked~label.sk-toggleable__label {\n",
              "  /* unfitted */\n",
              "  background-color: var(--sklearn-color-unfitted-level-2);\n",
              "}\n",
              "\n",
              "#sk-container-id-1 div.sk-estimator.fitted input.sk-toggleable__control:checked~label.sk-toggleable__label {\n",
              "  /* fitted */\n",
              "  background-color: var(--sklearn-color-fitted-level-2);\n",
              "}\n",
              "\n",
              "#sk-container-id-1 div.sk-label label.sk-toggleable__label,\n",
              "#sk-container-id-1 div.sk-label label {\n",
              "  /* The background is the default theme color */\n",
              "  color: var(--sklearn-color-text-on-default-background);\n",
              "}\n",
              "\n",
              "/* On hover, darken the color of the background */\n",
              "#sk-container-id-1 div.sk-label:hover label.sk-toggleable__label {\n",
              "  color: var(--sklearn-color-text);\n",
              "  background-color: var(--sklearn-color-unfitted-level-2);\n",
              "}\n",
              "\n",
              "/* Label box, darken color on hover, fitted */\n",
              "#sk-container-id-1 div.sk-label.fitted:hover label.sk-toggleable__label.fitted {\n",
              "  color: var(--sklearn-color-text);\n",
              "  background-color: var(--sklearn-color-fitted-level-2);\n",
              "}\n",
              "\n",
              "/* Estimator label */\n",
              "\n",
              "#sk-container-id-1 div.sk-label label {\n",
              "  font-family: monospace;\n",
              "  font-weight: bold;\n",
              "  display: inline-block;\n",
              "  line-height: 1.2em;\n",
              "}\n",
              "\n",
              "#sk-container-id-1 div.sk-label-container {\n",
              "  text-align: center;\n",
              "}\n",
              "\n",
              "/* Estimator-specific */\n",
              "#sk-container-id-1 div.sk-estimator {\n",
              "  font-family: monospace;\n",
              "  border: 1px dotted var(--sklearn-color-border-box);\n",
              "  border-radius: 0.25em;\n",
              "  box-sizing: border-box;\n",
              "  margin-bottom: 0.5em;\n",
              "  /* unfitted */\n",
              "  background-color: var(--sklearn-color-unfitted-level-0);\n",
              "}\n",
              "\n",
              "#sk-container-id-1 div.sk-estimator.fitted {\n",
              "  /* fitted */\n",
              "  background-color: var(--sklearn-color-fitted-level-0);\n",
              "}\n",
              "\n",
              "/* on hover */\n",
              "#sk-container-id-1 div.sk-estimator:hover {\n",
              "  /* unfitted */\n",
              "  background-color: var(--sklearn-color-unfitted-level-2);\n",
              "}\n",
              "\n",
              "#sk-container-id-1 div.sk-estimator.fitted:hover {\n",
              "  /* fitted */\n",
              "  background-color: var(--sklearn-color-fitted-level-2);\n",
              "}\n",
              "\n",
              "/* Specification for estimator info (e.g. \"i\" and \"?\") */\n",
              "\n",
              "/* Common style for \"i\" and \"?\" */\n",
              "\n",
              ".sk-estimator-doc-link,\n",
              "a:link.sk-estimator-doc-link,\n",
              "a:visited.sk-estimator-doc-link {\n",
              "  float: right;\n",
              "  font-size: smaller;\n",
              "  line-height: 1em;\n",
              "  font-family: monospace;\n",
              "  background-color: var(--sklearn-color-background);\n",
              "  border-radius: 1em;\n",
              "  height: 1em;\n",
              "  width: 1em;\n",
              "  text-decoration: none !important;\n",
              "  margin-left: 0.5em;\n",
              "  text-align: center;\n",
              "  /* unfitted */\n",
              "  border: var(--sklearn-color-unfitted-level-1) 1pt solid;\n",
              "  color: var(--sklearn-color-unfitted-level-1);\n",
              "}\n",
              "\n",
              ".sk-estimator-doc-link.fitted,\n",
              "a:link.sk-estimator-doc-link.fitted,\n",
              "a:visited.sk-estimator-doc-link.fitted {\n",
              "  /* fitted */\n",
              "  border: var(--sklearn-color-fitted-level-1) 1pt solid;\n",
              "  color: var(--sklearn-color-fitted-level-1);\n",
              "}\n",
              "\n",
              "/* On hover */\n",
              "div.sk-estimator:hover .sk-estimator-doc-link:hover,\n",
              ".sk-estimator-doc-link:hover,\n",
              "div.sk-label-container:hover .sk-estimator-doc-link:hover,\n",
              ".sk-estimator-doc-link:hover {\n",
              "  /* unfitted */\n",
              "  background-color: var(--sklearn-color-unfitted-level-3);\n",
              "  color: var(--sklearn-color-background);\n",
              "  text-decoration: none;\n",
              "}\n",
              "\n",
              "div.sk-estimator.fitted:hover .sk-estimator-doc-link.fitted:hover,\n",
              ".sk-estimator-doc-link.fitted:hover,\n",
              "div.sk-label-container:hover .sk-estimator-doc-link.fitted:hover,\n",
              ".sk-estimator-doc-link.fitted:hover {\n",
              "  /* fitted */\n",
              "  background-color: var(--sklearn-color-fitted-level-3);\n",
              "  color: var(--sklearn-color-background);\n",
              "  text-decoration: none;\n",
              "}\n",
              "\n",
              "/* Span, style for the box shown on hovering the info icon */\n",
              ".sk-estimator-doc-link span {\n",
              "  display: none;\n",
              "  z-index: 9999;\n",
              "  position: relative;\n",
              "  font-weight: normal;\n",
              "  right: .2ex;\n",
              "  padding: .5ex;\n",
              "  margin: .5ex;\n",
              "  width: min-content;\n",
              "  min-width: 20ex;\n",
              "  max-width: 50ex;\n",
              "  color: var(--sklearn-color-text);\n",
              "  box-shadow: 2pt 2pt 4pt #999;\n",
              "  /* unfitted */\n",
              "  background: var(--sklearn-color-unfitted-level-0);\n",
              "  border: .5pt solid var(--sklearn-color-unfitted-level-3);\n",
              "}\n",
              "\n",
              ".sk-estimator-doc-link.fitted span {\n",
              "  /* fitted */\n",
              "  background: var(--sklearn-color-fitted-level-0);\n",
              "  border: var(--sklearn-color-fitted-level-3);\n",
              "}\n",
              "\n",
              ".sk-estimator-doc-link:hover span {\n",
              "  display: block;\n",
              "}\n",
              "\n",
              "/* \"?\"-specific style due to the `<a>` HTML tag */\n",
              "\n",
              "#sk-container-id-1 a.estimator_doc_link {\n",
              "  float: right;\n",
              "  font-size: 1rem;\n",
              "  line-height: 1em;\n",
              "  font-family: monospace;\n",
              "  background-color: var(--sklearn-color-background);\n",
              "  border-radius: 1rem;\n",
              "  height: 1rem;\n",
              "  width: 1rem;\n",
              "  text-decoration: none;\n",
              "  /* unfitted */\n",
              "  color: var(--sklearn-color-unfitted-level-1);\n",
              "  border: var(--sklearn-color-unfitted-level-1) 1pt solid;\n",
              "}\n",
              "\n",
              "#sk-container-id-1 a.estimator_doc_link.fitted {\n",
              "  /* fitted */\n",
              "  border: var(--sklearn-color-fitted-level-1) 1pt solid;\n",
              "  color: var(--sklearn-color-fitted-level-1);\n",
              "}\n",
              "\n",
              "/* On hover */\n",
              "#sk-container-id-1 a.estimator_doc_link:hover {\n",
              "  /* unfitted */\n",
              "  background-color: var(--sklearn-color-unfitted-level-3);\n",
              "  color: var(--sklearn-color-background);\n",
              "  text-decoration: none;\n",
              "}\n",
              "\n",
              "#sk-container-id-1 a.estimator_doc_link.fitted:hover {\n",
              "  /* fitted */\n",
              "  background-color: var(--sklearn-color-fitted-level-3);\n",
              "}\n",
              "</style><div id=\"sk-container-id-1\" class=\"sk-top-container\"><div class=\"sk-text-repr-fallback\"><pre>RandomForestRegressor(random_state=42)</pre><b>In a Jupyter environment, please rerun this cell to show the HTML representation or trust the notebook. <br />On GitHub, the HTML representation is unable to render, please try loading this page with nbviewer.org.</b></div><div class=\"sk-container\" hidden><div class=\"sk-item\"><div class=\"sk-estimator fitted sk-toggleable\"><input class=\"sk-toggleable__control sk-hidden--visually\" id=\"sk-estimator-id-1\" type=\"checkbox\" checked><label for=\"sk-estimator-id-1\" class=\"sk-toggleable__label fitted sk-toggleable__label-arrow\"><div><div>RandomForestRegressor</div></div><div><a class=\"sk-estimator-doc-link fitted\" rel=\"noreferrer\" target=\"_blank\" href=\"https://scikit-learn.org/1.6/modules/generated/sklearn.ensemble.RandomForestRegressor.html\">?<span>Documentation for RandomForestRegressor</span></a><span class=\"sk-estimator-doc-link fitted\">i<span>Fitted</span></span></div></label><div class=\"sk-toggleable__content fitted\"><pre>RandomForestRegressor(random_state=42)</pre></div> </div></div></div></div>"
            ]
          },
          "metadata": {},
          "execution_count": 98
        }
      ]
    },
    {
      "cell_type": "code",
      "source": [
        "import lightgbm as lgb\n",
        "\n",
        "# Definir los parámetros para LightGBM\n",
        "lgb_params = {\n",
        "    'objective': 'regression',  # Cambia a 'binary' para clasificación\n",
        "    'metric': 'rmse',           # Métrica para evaluar el modelo\n",
        "    'learning_rate': 0.1,       # Tasa de aprendizaje\n",
        "    'num_leaves': 31,           # Número máximo de hojas en un árbol\n",
        "    'max_depth': -1,            # Sin límite en la profundidad del árbol\n",
        "    'min_data_in_leaf': 20,     # Número mínimo de muestras en una hoja\n",
        "    'feature_fraction': 0.8,    # Fracción de características usadas para construir un árbol\n",
        "    'bagging_fraction': 0.8,    # Fracción de datos usados para construir un árbol\n",
        "    'bagging_freq': 5,          # Frecuencia de muestreo de datos\n",
        "    'boosting_type': 'gbdt',    # Tipo de boosting\n",
        "    'random_state': 42          # Reproducibilidad\n",
        "    }\n"
      ],
      "metadata": {
        "id": "qTMyovXc17Zw"
      },
      "execution_count": null,
      "outputs": []
    },
    {
      "cell_type": "code",
      "source": [
        "# Crear conjuntos LightGBM\n",
        "train_data = lgb.Dataset(X_train, label=y_train)\n",
        "test_data = lgb.Dataset(X_test, label=y_test)\n"
      ],
      "metadata": {
        "id": "V8zGaZm0JyEe"
      },
      "execution_count": null,
      "outputs": []
    },
    {
      "cell_type": "code",
      "source": [
        "# Entrenar el modelo\n",
        "lgb_model = lgb.train(\n",
        "    params=lgb_params,\n",
        "    train_set=train_data,\n",
        "    num_boost_round=100,\n",
        "    valid_sets=[test_data],\n",
        "    callbacks=[\n",
        "        lgb.early_stopping(stopping_rounds=10),  # Parada temprana\n",
        "        lgb.log_evaluation(period=10)           # Registro cada 10 iteraciones\n",
        "    ]\n",
        ")"
      ],
      "metadata": {
        "colab": {
          "base_uri": "https://localhost:8080/"
        },
        "id": "K0R_XebCJ5K0",
        "outputId": "f8430342-d8d2-47cf-f4fc-6045486097b0"
      },
      "execution_count": null,
      "outputs": [
        {
          "output_type": "stream",
          "name": "stdout",
          "text": [
            "[LightGBM] [Info] Auto-choosing row-wise multi-threading, the overhead of testing was 0.001513 seconds.\n",
            "You can set `force_row_wise=true` to remove the overhead.\n",
            "And if memory is not enough, you can set `force_col_wise=true`.\n",
            "[LightGBM] [Info] Total Bins 313\n",
            "[LightGBM] [Info] Number of data points in the train set: 34875, number of used features: 5\n",
            "[LightGBM] [Info] Start training from score 125.163642\n",
            "Training until validation scores don't improve for 10 rounds\n",
            "[10]\tvalid_0's rmse: 38.6766\n",
            "[20]\tvalid_0's rmse: 36.0424\n",
            "[30]\tvalid_0's rmse: 35.3648\n",
            "[40]\tvalid_0's rmse: 35.1698\n",
            "[50]\tvalid_0's rmse: 35.1309\n",
            "[60]\tvalid_0's rmse: 35.1395\n",
            "Early stopping, best iteration is:\n",
            "[51]\tvalid_0's rmse: 35.1301\n"
          ]
        }
      ]
    },
    {
      "cell_type": "code",
      "source": [
        "from sklearn.metrics import mean_squared_error, r2_score, mean_absolute_error\n",
        "\n",
        "# Función para evaluar el rendimiento del modelo\n",
        "def evaluate_model(model, X_test, y_test):\n",
        "    # Realizar predicciones\n",
        "    y_pred = model.predict(X_test)\n",
        "\n",
        "    # Calcular métricas\n",
        "    r2 = r2_score(y_test, y_pred)\n",
        "    mse = mean_squared_error(y_test, y_pred)\n",
        "    mae = mean_absolute_error(y_test, y_pred)\n",
        "\n",
        "    # Retornar las métricas\n",
        "    return {\"R²\": r2, \"MSE\": mse, \"MAE\": mae}\n",
        "\n",
        "# Evaluar Random Forest\n",
        "rf_metrics = evaluate_model(rf_model, X_test, y_test)\n",
        "print(\"Rendimiento de Random Forest:\")\n",
        "print(rf_metrics)\n",
        "\n",
        "# Evaluar LightGBM (si lo usaste)\n",
        "lgb_metrics = evaluate_model(lgb_model, X_test, y_test)\n",
        "print(\"\\nRendimiento de LightGBM:\")\n",
        "print(lgb_metrics)"
      ],
      "metadata": {
        "colab": {
          "base_uri": "https://localhost:8080/"
        },
        "id": "vpd0TK6TKU9A",
        "outputId": "1cc9fae7-ed89-44c7-a0a0-811385450860"
      },
      "execution_count": null,
      "outputs": [
        {
          "output_type": "stream",
          "name": "stdout",
          "text": [
            "Rendimiento de Random Forest:\n",
            "{'R²': 0.444238602696032, 'MSE': 1461.552995856511, 'MAE': 27.123351262158724}\n",
            "\n",
            "Rendimiento de LightGBM:\n",
            "{'R²': 0.5307196219176384, 'MSE': 1234.1233950580013, 'MAE': 24.39019897825337}\n"
          ]
        }
      ]
    },
    {
      "cell_type": "code",
      "source": [
        "import pandas as pd\n",
        "\n",
        "# Crear un DataFrame con los resultados\n",
        "results = {\n",
        "    \"Random Forest\": rf_metrics,\n",
        "    \"LightGBM\": lgb_metrics\n",
        "}\n",
        "\n",
        "results_df = pd.DataFrame(results).T\n",
        "print(\"\\nComparación de Rendimiento:\")\n",
        "print(results_df)"
      ],
      "metadata": {
        "colab": {
          "base_uri": "https://localhost:8080/"
        },
        "id": "ZNVxdnMEKbQR",
        "outputId": "88cc3a2b-7e5e-4451-ec88-d1bb1d0bd9dd"
      },
      "execution_count": null,
      "outputs": [
        {
          "output_type": "stream",
          "name": "stdout",
          "text": [
            "\n",
            "Comparación de Rendimiento:\n",
            "                     R²          MSE        MAE\n",
            "Random Forest  0.444239  1461.552996  27.123351\n",
            "LightGBM       0.530720  1234.123395  24.390199\n"
          ]
        }
      ]
    },
    {
      "cell_type": "code",
      "source": [
        "import matplotlib.pyplot as plt\n",
        "\n",
        "# Predicciones de Random Forest\n",
        "y_pred_rf = rf_model.predict(X_test)\n",
        "\n",
        "plt.figure(figsize=(10, 6))\n",
        "plt.scatter(y_test, y_pred_rf, alpha=0.6, label=\"Random Forest\")\n",
        "plt.plot([y_test.min(), y_test.max()], [y_test.min(), y_test.max()], '--r', label=\"Ideal\")\n",
        "plt.xlabel(\"Valores Reales\")\n",
        "plt.ylabel(\"Predicciones\")\n",
        "plt.title(\"Comparación de Predicciones (Random Forest)\")\n",
        "plt.legend()\n",
        "plt.show()"
      ],
      "metadata": {
        "colab": {
          "base_uri": "https://localhost:8080/",
          "height": 570
        },
        "id": "5FwTWqDeKfz-",
        "outputId": "d6428779-6cf8-4f67-8099-193572707d4c"
      },
      "execution_count": null,
      "outputs": [
        {
          "output_type": "display_data",
          "data": {
            "text/plain": [
              "<Figure size 1000x600 with 1 Axes>"
            ],
            "image/png": "[encoded data removed]"
          },
          "metadata": {}
        }
      ]
    },
    {
      "cell_type": "markdown",
      "source": [
        "#Explicación de Métricas\n",
        "R² (Coeficiente de Determinación):\n",
        "\n",
        "Mide qué tan bien el modelo explica la variabilidad de los datos.\n",
        "Valores cercanos a 1 indican un buen ajuste.\n",
        "MSE (Error Cuadrático Medio):\n",
        "\n",
        "Penaliza grandes errores de predicción.\n",
        "Valores más bajos indican mejor rendimiento.\n",
        "MAE (Error Absoluto Medio):\n",
        "\n",
        "Promedio de los errores absolutos.\n",
        "Proporciona una interpretación directa de los errores en la misma escala que los datos."
      ],
      "metadata": {
        "id": "MIEnzC_9KxJL"
      }
    },
    {
      "cell_type": "markdown",
      "source": [
        "#Resultados Esperados\n",
        "Si R² es cercano a 1 y las métricas de error son bajas, el modelo tiene un buen rendimiento.\n",
        "Compara los resultados entre Random Forest y LightGBM para determinar cuál es más adecuado para tu caso."
      ],
      "metadata": {
        "id": "ajGp42rrK4wG"
      }
    },
    {
      "cell_type": "markdown",
      "source": [],
      "metadata": {
        "id": "Jb_8yYtmK86m"
      }
    },
    {
      "cell_type": "markdown",
      "source": [
        "#Resumen del Modelo\n",
        "La gráfica muestra cómo las predicciones del modelo Random Forest se comportan frente a los valores reales. Idealmente, los puntos deberían alinearse con la línea roja (diagonal) que representa un modelo perfecto. Sin embargo, se observa cierta dispersión, lo que indica que el modelo tiene errores en algunas predicciones."
      ],
      "metadata": {
        "id": "t5IhNvxfLc-9"
      }
    },
    {
      "cell_type": "markdown",
      "source": [
        "#Conclusión por Hipótesis\n",
        "**Hipótesis H1:** El tráfico y el clima adverso incrementan significativamente los tiempos de entrega.\n",
        "La importancia de las características (Traffic y Weather) puede ser validada al revisar el gráfico de importancia de características (que debería haber sido generado como parte del proceso).\n",
        "Si estas variables tienen un alto peso en el modelo, esta hipótesis es válida.\n",
        "Conclusión: Si Traffic y Weather fueron relevantes, el modelo respalda esta hipótesis. Si no, podría ser necesaria una revisión más profunda de los datos o agregar nuevas variables relacionadas.\n",
        "\n",
        "**Hipótesis H2:** Agentes con mejores calificaciones tienen tiempos de entrega más rápidos.\n",
        "La relación entre Agent_Rating y Delivery_Time puede evaluarse observando la importancia de Agent_Rating en el modelo.\n",
        "Si esta variable tiene poca importancia, esto indicaría que otros factores (como distancia o tráfico) tienen mayor impacto.\n",
        "Conclusión: La hipótesis podría no ser válida si Agent_Rating no influye significativamente en el modelo.\n",
        "\n",
        "\n",
        "**Hipótesis H3:** Las distancias más largas aumentan los tiempos de entrega.\n",
        "Esta hipótesis puede confirmarse al observar el comportamiento del modelo frente a Distance.\n",
        "Si Distance es una característica clave y tiene un impacto positivo en los tiempos de entrega, el modelo respalda esta hipótesis.\n",
        "Conclusión: Es probable que esta hipótesis sea válida, dado que Distance usualmente tiene una correlación directa con tiempos de entrega."
      ],
      "metadata": {
        "id": "9A9_oZUwLhux"
      }
    },
    {
      "cell_type": "code",
      "source": [],
      "metadata": {
        "id": "T9sKvZdwKwqq"
      },
      "execution_count": null,
      "outputs": []
    },
    {
      "cell_type": "markdown",
      "source": [
        "#Observaciones Generales\n",
        "**R²:** Si el valor es cercano a 1, el modelo explica bien la variabilidad de los datos. Si no lo es, el modelo puede estar subajustado (underfitting) o los datos podrían contener ruido significativo.\n",
        "\n",
        "**MSE y MAE:** Valores más bajos son preferibles. Si hay valores altos, indica que el modelo tiene errores importantes en sus predicciones.\n",
        "Gráfico de Predicciones:\n",
        "La dispersión en el gráfico indica que el modelo funciona mejor para ciertas zonas del dominio, pero presenta errores en otras (posiblemente extremos o valores atípicos).\n"
      ],
      "metadata": {
        "id": "fpxvrodNLxbQ"
      }
    },
    {
      "cell_type": "markdown",
      "source": [
        "#Recomendaciones\n",
        "**Validar la Importancia de Características**: Revisa el gráfico generado con sns.barplot para confirmar cuáles características tienen mayor relevancia en las predicciones.\n",
        "\n",
        "**Optimización del Modelo:** Ajusta hiperparámetros como max_depth o min_samples_split para mejorar la precisión.\n",
        "Análisis Adicional: Realiza un análisis exploratorio para identificar valores atípicos o ruido en los datos que puedan estar afectando las predicciones."
      ],
      "metadata": {
        "id": "uTlnU0gVL_ks"
      }
    },
    {
      "cell_type": "markdown",
      "source": [
        "#Próximos Pasos :\n",
        "\n",
        "**1- Optimización de Modelos:**\n",
        "\n",
        "Ajustar hiperparámetros en LightGBM y Random Forest para explorar mejoras en el rendimiento. Por ejemplo, ajustar num_leaves, max_depth, o learning_rate en LightGBM.\n",
        "Implementar técnicas como Grid Search o Bayesian Optimization para encontrar los mejores valores de hiperparámetros.\n",
        "\n",
        "**2- Análisis de Características:**\n",
        "\n",
        "Explorar más a fondo la interacción entre Agent_Rating y otras variables como distancia o clima para entender mejor su impacto indirecto.\n",
        "Incluir características adicionales, como patrones temporales (día de la semana, hora del día) o volumen de pedidos.\n",
        "\n",
        "**3- Limpieza y Enriquecimiento de Datos:**\n",
        "\n",
        "Realizar un análisis detallado de los valores atípicos en Delivery_Time y variables como Distance para mejorar la calidad del modelo.\n",
        "Incorporar datos externos como condiciones de tráfico en tiempo real o previsión meteorológica para aumentar la precisión.\n",
        "\n",
        "**4- Implementación en Tiempo Real:**\n",
        "\n",
        "Desarrollar un sistema de predicción en tiempo real utilizando el modelo LightGBM, dada su eficiencia en procesamiento.\n",
        "Crear una interfaz para que los usuarios puedan consultar predicciones y ajustar planes de entrega según las estimaciones.\n",
        "\n",
        "**5- Evaluación Extendida:**\n",
        "\n",
        "Validar el modelo en nuevos conjuntos de datos para garantizar la generalización y robustez del modelo.\n",
        "Realizar una validación cruzada más exhaustiva para minimizar el riesgo de sobreajuste o subajuste.\n",
        "\n",
        "**6- Comunicación de Resultados:**\n",
        "\n",
        "Generar reportes visuales y gráficos que muestren las predicciones y el impacto de las características clave.\n",
        "Capacitar a los equipos logísticos para interpretar los resultados y tomar decisiones basadas en los datos."
      ],
      "metadata": {
        "id": "jk5ektwwk7yX"
      }
    }
  ]
}